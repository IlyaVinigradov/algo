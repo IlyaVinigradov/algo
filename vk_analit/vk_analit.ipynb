{
 "cells": [
  {
   "cell_type": "markdown",
   "metadata": {},
   "source": [
    "# Векторизированные вычисления с помощью NumPy - Модуль 2-1  Модуль 2. Библиотека Pandas и Numpy / Введение в анализ данных-19\n",
    "Создайте вектор NumPy, который содержит значения от 10 до 500. Возведите все значения вектора в квадрат и вычтите из каждого элемента вектора число 234. Чему равна сумма всех элементов получившегося вектора?"
   ]
  },
  {
   "cell_type": "code",
   "execution_count": null,
   "metadata": {},
   "outputs": [],
   "source": [
    "import numpy as np\n",
    "\n",
    "\n",
    "arr = np.arange(start=10, stop=501)\n",
    "arr = np.power(arr, 2) # arr *= arr\n",
    "arr -= 234\n",
    "res = np.sum(arr)"
   ]
  },
  {
   "cell_type": "code",
   "execution_count": null,
   "metadata": {},
   "outputs": [],
   "source": [
    "arr"
   ]
  },
  {
   "cell_type": "code",
   "execution_count": null,
   "metadata": {},
   "outputs": [],
   "source": [
    "\n",
    "res"
   ]
  },
  {
   "cell_type": "markdown",
   "metadata": {},
   "source": [
    "# Series и DataFrame, Объединение таблиц - Модуль 2-2 Модуль 2. Библиотека Pandas и Numpy / Введение в анализ данных-19\n",
    "# файл содержит таблицу, которая состоит из следующих колонок:\n",
    "    - data (дата);\n",
    "    - vendor_id (уникальный идентификатор ресторана);\n",
    "    - chain_id (уникальный идентификатор сети в которую входит ресторан);\n",
    "    - city_id (идентификатор города);\n",
    "    - spec (специализация ресторана);\n",
    "    - succseful_orders (количество успешных заказов);\n",
    "    - fail_orders (количество неудачных заказов).\n",
    "\n",
    "## Вопросы\n",
    "1. Сколько уникальных городов представленно в данном датафрейме?\n",
    "2. Сколько ресторанов в таблице специализируется на рыбе?\n",
    "3. Сколько колонок в датафрейме имеют тип данных float64?\n",
    "4. Сколько дней у ресторана с идентификатором 40065 было менее 20 успешных заказов?"
   ]
  },
  {
   "cell_type": "code",
   "execution_count": null,
   "metadata": {},
   "outputs": [],
   "source": [
    "import pandas as pd"
   ]
  },
  {
   "cell_type": "code",
   "execution_count": null,
   "metadata": {},
   "outputs": [],
   "source": [
    "df = pd.read_csv('/Users/igorvoinov/algo/pro2_m4y1/orders.csv')"
   ]
  },
  {
   "cell_type": "code",
   "execution_count": 81,
   "metadata": {},
   "outputs": [
    {
     "name": "stdout",
     "output_type": "stream",
     "text": [
      "<class 'pandas.core.frame.DataFrame'>\n",
      "RangeIndex: 96118 entries, 0 to 96117\n",
      "Data columns (total 7 columns):\n",
      " #   Column             Non-Null Count  Dtype  \n",
      "---  ------             --------------  -----  \n",
      " 0   date               96118 non-null  object \n",
      " 1   vendor_id          96118 non-null  int64  \n",
      " 2   chain_id           96118 non-null  int64  \n",
      " 3   city_id            96118 non-null  int64  \n",
      " 4   spec               95733 non-null  object \n",
      " 5   successful_orders  96118 non-null  float64\n",
      " 6   fail_orders        96118 non-null  float64\n",
      "dtypes: float64(2), int64(3), object(2)\n",
      "memory usage: 5.1+ MB\n"
     ]
    }
   ],
   "source": [
    "df.info()"
   ]
  },
  {
   "cell_type": "code",
   "execution_count": 69,
   "metadata": {},
   "outputs": [
    {
     "data": {
      "text/html": [
       "<div>\n",
       "<style scoped>\n",
       "    .dataframe tbody tr th:only-of-type {\n",
       "        vertical-align: middle;\n",
       "    }\n",
       "\n",
       "    .dataframe tbody tr th {\n",
       "        vertical-align: top;\n",
       "    }\n",
       "\n",
       "    .dataframe thead th {\n",
       "        text-align: right;\n",
       "    }\n",
       "</style>\n",
       "<table border=\"1\" class=\"dataframe\">\n",
       "  <thead>\n",
       "    <tr style=\"text-align: right;\">\n",
       "      <th></th>\n",
       "      <th>date</th>\n",
       "      <th>vendor_id</th>\n",
       "      <th>chain_id</th>\n",
       "      <th>city_id</th>\n",
       "      <th>spec</th>\n",
       "      <th>successful_orders</th>\n",
       "      <th>fail_orders</th>\n",
       "    </tr>\n",
       "  </thead>\n",
       "  <tbody>\n",
       "    <tr>\n",
       "      <th>0</th>\n",
       "      <td>2019-07-02</td>\n",
       "      <td>40065</td>\n",
       "      <td>7501</td>\n",
       "      <td>23</td>\n",
       "      <td>Суши</td>\n",
       "      <td>54.0</td>\n",
       "      <td>1.0</td>\n",
       "    </tr>\n",
       "    <tr>\n",
       "      <th>1</th>\n",
       "      <td>2019-08-27</td>\n",
       "      <td>48058</td>\n",
       "      <td>33226</td>\n",
       "      <td>23</td>\n",
       "      <td>Шаурма</td>\n",
       "      <td>0.0</td>\n",
       "      <td>0.0</td>\n",
       "    </tr>\n",
       "    <tr>\n",
       "      <th>2</th>\n",
       "      <td>2019-09-25</td>\n",
       "      <td>35430</td>\n",
       "      <td>26220</td>\n",
       "      <td>25</td>\n",
       "      <td>Пицца</td>\n",
       "      <td>2.0</td>\n",
       "      <td>0.0</td>\n",
       "    </tr>\n",
       "    <tr>\n",
       "      <th>3</th>\n",
       "      <td>2019-09-21</td>\n",
       "      <td>56553</td>\n",
       "      <td>38601</td>\n",
       "      <td>23</td>\n",
       "      <td>Шашлыки</td>\n",
       "      <td>1.0</td>\n",
       "      <td>0.0</td>\n",
       "    </tr>\n",
       "    <tr>\n",
       "      <th>4</th>\n",
       "      <td>2019-09-21</td>\n",
       "      <td>43919</td>\n",
       "      <td>30984</td>\n",
       "      <td>25</td>\n",
       "      <td>Суши</td>\n",
       "      <td>6.0</td>\n",
       "      <td>0.0</td>\n",
       "    </tr>\n",
       "  </tbody>\n",
       "</table>\n",
       "</div>"
      ],
      "text/plain": [
       "         date  vendor_id  chain_id  city_id     spec  successful_orders  \\\n",
       "0  2019-07-02      40065      7501       23     Суши               54.0   \n",
       "1  2019-08-27      48058     33226       23   Шаурма                0.0   \n",
       "2  2019-09-25      35430     26220       25    Пицца                2.0   \n",
       "3  2019-09-21      56553     38601       23  Шашлыки                1.0   \n",
       "4  2019-09-21      43919     30984       25     Суши                6.0   \n",
       "\n",
       "   fail_orders  \n",
       "0          1.0  \n",
       "1          0.0  \n",
       "2          0.0  \n",
       "3          0.0  \n",
       "4          0.0  "
      ]
     },
     "execution_count": 69,
     "metadata": {},
     "output_type": "execute_result"
    }
   ],
   "source": [
    "df.head()"
   ]
  },
  {
   "cell_type": "code",
   "execution_count": 77,
   "metadata": {},
   "outputs": [
    {
     "data": {
      "text/plain": [
       "4"
      ]
     },
     "execution_count": 77,
     "metadata": {},
     "output_type": "execute_result"
    }
   ],
   "source": [
    "# len(set(df['city_id']))\n",
    "df['city_id'].nunique()\n",
    "\"\"\"\n",
    "Где df - это ваш датафрейм, а 'город' - это название столбца с городами в вашем датафрейме. Метод nunique() \n",
    "возвращает количество уникальных значений в указанном столбце. Печатая num_unique_cities, вы увидите количество \n",
    "уникальных городов в датафрейме.\n",
    "\"\"\""
   ]
  },
  {
   "cell_type": "code",
   "execution_count": 80,
   "metadata": {},
   "outputs": [
    {
     "data": {
      "text/plain": [
       "1103"
      ]
     },
     "execution_count": 80,
     "metadata": {},
     "output_type": "execute_result"
    }
   ],
   "source": [
    "# df['spec'].value_counts()\n",
    "df['spec'].value_counts().get('Рыба', 0)\n",
    "\"\"\"\n",
    "Где df - ваш датафрейм, а 'кухня' - это имя столбца, содержащего типы кухни или специализацию ресторанов. Печатая \n",
    "fish_restaurants_count, вы увидите количество ресторанов, специализирующихся на рыбе. Если таких ресторанов нет, \n",
    "будет выведено значение 0.\n",
    "\"\"\""
   ]
  },
  {
   "cell_type": "code",
   "execution_count": 82,
   "metadata": {},
   "outputs": [
    {
     "data": {
      "text/plain": [
       "2"
      ]
     },
     "execution_count": 82,
     "metadata": {},
     "output_type": "execute_result"
    }
   ],
   "source": [
    "len(df.select_dtypes(include=['float64']).columns)\n",
    "\"\"\"\n",
    "Где df - ваш датафрейм. Метод select_dtypes(include=['float64']) выбирает только столбцы с типом данных float64 из \n",
    "датафрейма. Затем columns возвращает список названий столбцов в результирующем датафрейме, и используя len(), вы \n",
    "получаете количество этих столбцов. Печатая float_columns_count, вы увидите количество колонок в датафрейме с типом \n",
    "данных float64.\n",
    "\"\"\""
   ]
  },
  {
   "cell_type": "code",
   "execution_count": null,
   "metadata": {},
   "outputs": [],
   "source": [
    "restaurant_id = 40065\n",
    "threshold = 20\n",
    "\n",
    "filtered_df = df[df['идентификатор ресторана'] == restaurant_id]\n",
    "days_below_threshold = (filtered_df['количество успешных заказов'] < threshold).sum()\n",
    "\"\"\"\n",
    "\n",
    "\"\"\""
   ]
  }
 ],
 "metadata": {
  "kernelspec": {
   "display_name": "Python 3",
   "language": "python",
   "name": "python3"
  },
  "language_info": {
   "codemirror_mode": {
    "name": "ipython",
    "version": 3
   },
   "file_extension": ".py",
   "mimetype": "text/x-python",
   "name": "python",
   "nbconvert_exporter": "python",
   "pygments_lexer": "ipython3",
   "version": "3.11.6"
  }
 },
 "nbformat": 4,
 "nbformat_minor": 2
}
