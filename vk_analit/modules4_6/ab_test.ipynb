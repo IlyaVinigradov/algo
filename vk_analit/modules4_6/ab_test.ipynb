{
 "cells": [
  {
   "cell_type": "code",
   "execution_count": 2,
   "id": "dbf56af3",
   "metadata": {},
   "outputs": [
    {
     "name": "stderr",
     "output_type": "stream",
     "text": [
      "/var/folders/hp/z71npf9j1011vv7k7dvvd6mr0000gn/T/ipykernel_27688/4288628638.py:1: DeprecationWarning: \n",
      "Pyarrow will become a required dependency of pandas in the next major release of pandas (pandas 3.0),\n",
      "(to allow more performant data types, such as the Arrow string type, and better interoperability with other libraries)\n",
      "but was not found to be installed on your system.\n",
      "If this would cause problems for you,\n",
      "please provide us feedback at https://github.com/pandas-dev/pandas/issues/54466\n",
      "        \n",
      "  import pandas as pd\n"
     ]
    },
    {
     "ename": "ModuleNotFoundError",
     "evalue": "No module named 'statsmodels'",
     "output_type": "error",
     "traceback": [
      "\u001b[0;31m---------------------------------------------------------------------------\u001b[0m",
      "\u001b[0;31mModuleNotFoundError\u001b[0m                       Traceback (most recent call last)",
      "Cell \u001b[0;32mIn[2], line 6\u001b[0m\n\u001b[1;32m      4\u001b[0m \u001b[38;5;28;01mimport\u001b[39;00m \u001b[38;5;21;01mscipy\u001b[39;00m\n\u001b[1;32m      5\u001b[0m \u001b[38;5;28;01mfrom\u001b[39;00m \u001b[38;5;21;01mscipy\u001b[39;00m \u001b[38;5;28;01mimport\u001b[39;00m stats\n\u001b[0;32m----> 6\u001b[0m \u001b[38;5;28;01mfrom\u001b[39;00m \u001b[38;5;21;01mstatsmodels\u001b[39;00m\u001b[38;5;21;01m.\u001b[39;00m\u001b[38;5;21;01mstats\u001b[39;00m\u001b[38;5;21;01m.\u001b[39;00m\u001b[38;5;21;01mpower\u001b[39;00m \u001b[38;5;28;01mimport\u001b[39;00m TTestIndPower, zt_ind_solve_power\n\u001b[1;32m      7\u001b[0m \u001b[38;5;28;01mfrom\u001b[39;00m \u001b[38;5;21;01mstatsmodels\u001b[39;00m\u001b[38;5;21;01m.\u001b[39;00m\u001b[38;5;21;01mstats\u001b[39;00m\u001b[38;5;21;01m.\u001b[39;00m\u001b[38;5;21;01mweightstats\u001b[39;00m \u001b[38;5;28;01mimport\u001b[39;00m ztest, zconfint\n\u001b[1;32m      8\u001b[0m \u001b[38;5;28;01mfrom\u001b[39;00m \u001b[38;5;21;01mstatsmodels\u001b[39;00m\u001b[38;5;21;01m.\u001b[39;00m\u001b[38;5;21;01mstats\u001b[39;00m\u001b[38;5;21;01m.\u001b[39;00m\u001b[38;5;21;01mproportion\u001b[39;00m \u001b[38;5;28;01mimport\u001b[39;00m proportion_confint\n",
      "\u001b[0;31mModuleNotFoundError\u001b[0m: No module named 'statsmodels'"
     ]
    }
   ],
   "source": [
    "import pandas as pd\n",
    "import numpy as np\n",
    "from matplotlib import pyplot as plt\n",
    "import scipy\n",
    "from scipy import stats\n",
    "from statsmodels.stats.power import TTestIndPower, zt_ind_solve_power\n",
    "from statsmodels.stats.weightstats import ztest, zconfint\n",
    "from statsmodels.stats.proportion import proportion_confint\n",
    "import seaborn as sns"
   ]
  },
  {
   "cell_type": "code",
   "execution_count": null,
   "id": "4c0b5be2",
   "metadata": {},
   "outputs": [
    {
     "data": {
      "text/plain": [
       "'1.5.3'"
      ]
     },
     "execution_count": 248,
     "metadata": {},
     "output_type": "execute_result"
    }
   ],
   "source": [
    "pd.__version__"
   ]
  },
  {
   "cell_type": "code",
   "execution_count": null,
   "id": "7a1dab5b",
   "metadata": {},
   "outputs": [
    {
     "data": {
      "text/plain": [
       "'1.23.5'"
      ]
     },
     "execution_count": 249,
     "metadata": {},
     "output_type": "execute_result"
    }
   ],
   "source": [
    "np.__version__"
   ]
  },
  {
   "cell_type": "code",
   "execution_count": null,
   "id": "2d63c585",
   "metadata": {},
   "outputs": [
    {
     "data": {
      "text/plain": [
       "'3.8.2'"
      ]
     },
     "execution_count": 1,
     "metadata": {},
     "output_type": "execute_result"
    }
   ],
   "source": [
    "import matplotlib\n",
    "matplotlib.__version__"
   ]
  },
  {
   "cell_type": "code",
   "execution_count": null,
   "id": "193c4e5a",
   "metadata": {},
   "outputs": [
    {
     "data": {
      "text/plain": [
       "'1.10.0'"
      ]
     },
     "execution_count": 254,
     "metadata": {},
     "output_type": "execute_result"
    }
   ],
   "source": [
    "scipy.__version__"
   ]
  },
  {
   "cell_type": "code",
   "execution_count": null,
   "id": "4393bbce",
   "metadata": {},
   "outputs": [
    {
     "data": {
      "text/plain": [
       "'0.13.5'"
      ]
     },
     "execution_count": 255,
     "metadata": {},
     "output_type": "execute_result"
    }
   ],
   "source": [
    "import statsmodels\n",
    "statsmodels.__version__"
   ]
  },
  {
   "cell_type": "code",
   "execution_count": null,
   "id": "d5030b72",
   "metadata": {},
   "outputs": [
    {
     "data": {
      "text/plain": [
       "'0.12.2'"
      ]
     },
     "execution_count": 256,
     "metadata": {},
     "output_type": "execute_result"
    }
   ],
   "source": [
    "sns.__version__"
   ]
  },
  {
   "cell_type": "code",
   "execution_count": null,
   "id": "c2962ea3",
   "metadata": {},
   "outputs": [],
   "source": [
    "days = 100"
   ]
  },
  {
   "cell_type": "code",
   "execution_count": null,
   "id": "8f9d63d2",
   "metadata": {},
   "outputs": [],
   "source": [
    "mu_control, sigma_control, n_control = 100, 20, 100\n",
    "mu_experiment, sigma_experiment, n_experiment = 100, 20, 100"
   ]
  },
  {
   "cell_type": "code",
   "execution_count": null,
   "id": "54f4b1d6",
   "metadata": {},
   "outputs": [],
   "source": [
    "current_date = 1\n",
    "user_data = pd.DataFrame()\n",
    "stat_result = pd.DataFrame()\n",
    "daily_data = pd.DataFrame()"
   ]
  },
  {
   "cell_type": "code",
   "execution_count": null,
   "id": "86c22d92",
   "metadata": {},
   "outputs": [
    {
     "name": "stderr",
     "output_type": "stream",
     "text": [
      "/var/folders/cg/z1gdqpsx1qq3lyb5lp3896zh0000gq/T/ipykernel_90502/228655152.py:15: FutureWarning: The frame.append method is deprecated and will be removed from pandas in a future version. Use pandas.concat instead.\n",
      "  user_data = user_data.append(day_data_experiment).append(day_data_control)\n",
      "/var/folders/cg/z1gdqpsx1qq3lyb5lp3896zh0000gq/T/ipykernel_90502/228655152.py:20: FutureWarning: The frame.append method is deprecated and will be removed from pandas in a future version. Use pandas.concat instead.\n",
      "  stat_result = stat_result.append(pd.DataFrame({'t': [fit[0]], 'p': [fit[1]], 'date': current_date}))\n",
      "/var/folders/cg/z1gdqpsx1qq3lyb5lp3896zh0000gq/T/ipykernel_90502/228655152.py:26: FutureWarning: The frame.append method is deprecated and will be removed from pandas in a future version. Use pandas.concat instead.\n",
      "  daily_data = daily_data.append(current_data_stat)\n",
      "/var/folders/cg/z1gdqpsx1qq3lyb5lp3896zh0000gq/T/ipykernel_90502/228655152.py:15: FutureWarning: The frame.append method is deprecated and will be removed from pandas in a future version. Use pandas.concat instead.\n",
      "  user_data = user_data.append(day_data_experiment).append(day_data_control)\n",
      "/var/folders/cg/z1gdqpsx1qq3lyb5lp3896zh0000gq/T/ipykernel_90502/228655152.py:15: FutureWarning: The frame.append method is deprecated and will be removed from pandas in a future version. Use pandas.concat instead.\n",
      "  user_data = user_data.append(day_data_experiment).append(day_data_control)\n",
      "/var/folders/cg/z1gdqpsx1qq3lyb5lp3896zh0000gq/T/ipykernel_90502/228655152.py:20: FutureWarning: The frame.append method is deprecated and will be removed from pandas in a future version. Use pandas.concat instead.\n",
      "  stat_result = stat_result.append(pd.DataFrame({'t': [fit[0]], 'p': [fit[1]], 'date': current_date}))\n",
      "/var/folders/cg/z1gdqpsx1qq3lyb5lp3896zh0000gq/T/ipykernel_90502/228655152.py:26: FutureWarning: The frame.append method is deprecated and will be removed from pandas in a future version. Use pandas.concat instead.\n",
      "  daily_data = daily_data.append(current_data_stat)\n",
      "/var/folders/cg/z1gdqpsx1qq3lyb5lp3896zh0000gq/T/ipykernel_90502/228655152.py:15: FutureWarning: The frame.append method is deprecated and will be removed from pandas in a future version. Use pandas.concat instead.\n",
      "  user_data = user_data.append(day_data_experiment).append(day_data_control)\n",
      "/var/folders/cg/z1gdqpsx1qq3lyb5lp3896zh0000gq/T/ipykernel_90502/228655152.py:15: FutureWarning: The frame.append method is deprecated and will be removed from pandas in a future version. Use pandas.concat instead.\n",
      "  user_data = user_data.append(day_data_experiment).append(day_data_control)\n",
      "/var/folders/cg/z1gdqpsx1qq3lyb5lp3896zh0000gq/T/ipykernel_90502/228655152.py:20: FutureWarning: The frame.append method is deprecated and will be removed from pandas in a future version. Use pandas.concat instead.\n",
      "  stat_result = stat_result.append(pd.DataFrame({'t': [fit[0]], 'p': [fit[1]], 'date': current_date}))\n",
      "/var/folders/cg/z1gdqpsx1qq3lyb5lp3896zh0000gq/T/ipykernel_90502/228655152.py:26: FutureWarning: The frame.append method is deprecated and will be removed from pandas in a future version. Use pandas.concat instead.\n",
      "  daily_data = daily_data.append(current_data_stat)\n",
      "/var/folders/cg/z1gdqpsx1qq3lyb5lp3896zh0000gq/T/ipykernel_90502/228655152.py:15: FutureWarning: The frame.append method is deprecated and will be removed from pandas in a future version. Use pandas.concat instead.\n",
      "  user_data = user_data.append(day_data_experiment).append(day_data_control)\n",
      "/var/folders/cg/z1gdqpsx1qq3lyb5lp3896zh0000gq/T/ipykernel_90502/228655152.py:15: FutureWarning: The frame.append method is deprecated and will be removed from pandas in a future version. Use pandas.concat instead.\n",
      "  user_data = user_data.append(day_data_experiment).append(day_data_control)\n",
      "/var/folders/cg/z1gdqpsx1qq3lyb5lp3896zh0000gq/T/ipykernel_90502/228655152.py:20: FutureWarning: The frame.append method is deprecated and will be removed from pandas in a future version. Use pandas.concat instead.\n",
      "  stat_result = stat_result.append(pd.DataFrame({'t': [fit[0]], 'p': [fit[1]], 'date': current_date}))\n",
      "/var/folders/cg/z1gdqpsx1qq3lyb5lp3896zh0000gq/T/ipykernel_90502/228655152.py:26: FutureWarning: The frame.append method is deprecated and will be removed from pandas in a future version. Use pandas.concat instead.\n",
      "  daily_data = daily_data.append(current_data_stat)\n",
      "/var/folders/cg/z1gdqpsx1qq3lyb5lp3896zh0000gq/T/ipykernel_90502/228655152.py:15: FutureWarning: The frame.append method is deprecated and will be removed from pandas in a future version. Use pandas.concat instead.\n",
      "  user_data = user_data.append(day_data_experiment).append(day_data_control)\n",
      "/var/folders/cg/z1gdqpsx1qq3lyb5lp3896zh0000gq/T/ipykernel_90502/228655152.py:15: FutureWarning: The frame.append method is deprecated and will be removed from pandas in a future version. Use pandas.concat instead.\n",
      "  user_data = user_data.append(day_data_experiment).append(day_data_control)\n",
      "/var/folders/cg/z1gdqpsx1qq3lyb5lp3896zh0000gq/T/ipykernel_90502/228655152.py:20: FutureWarning: The frame.append method is deprecated and will be removed from pandas in a future version. Use pandas.concat instead.\n",
      "  stat_result = stat_result.append(pd.DataFrame({'t': [fit[0]], 'p': [fit[1]], 'date': current_date}))\n",
      "/var/folders/cg/z1gdqpsx1qq3lyb5lp3896zh0000gq/T/ipykernel_90502/228655152.py:26: FutureWarning: The frame.append method is deprecated and will be removed from pandas in a future version. Use pandas.concat instead.\n",
      "  daily_data = daily_data.append(current_data_stat)\n",
      "/var/folders/cg/z1gdqpsx1qq3lyb5lp3896zh0000gq/T/ipykernel_90502/228655152.py:15: FutureWarning: The frame.append method is deprecated and will be removed from pandas in a future version. Use pandas.concat instead.\n",
      "  user_data = user_data.append(day_data_experiment).append(day_data_control)\n",
      "/var/folders/cg/z1gdqpsx1qq3lyb5lp3896zh0000gq/T/ipykernel_90502/228655152.py:15: FutureWarning: The frame.append method is deprecated and will be removed from pandas in a future version. Use pandas.concat instead.\n",
      "  user_data = user_data.append(day_data_experiment).append(day_data_control)\n",
      "/var/folders/cg/z1gdqpsx1qq3lyb5lp3896zh0000gq/T/ipykernel_90502/228655152.py:20: FutureWarning: The frame.append method is deprecated and will be removed from pandas in a future version. Use pandas.concat instead.\n",
      "  stat_result = stat_result.append(pd.DataFrame({'t': [fit[0]], 'p': [fit[1]], 'date': current_date}))\n",
      "/var/folders/cg/z1gdqpsx1qq3lyb5lp3896zh0000gq/T/ipykernel_90502/228655152.py:26: FutureWarning: The frame.append method is deprecated and will be removed from pandas in a future version. Use pandas.concat instead.\n",
      "  daily_data = daily_data.append(current_data_stat)\n",
      "/var/folders/cg/z1gdqpsx1qq3lyb5lp3896zh0000gq/T/ipykernel_90502/228655152.py:15: FutureWarning: The frame.append method is deprecated and will be removed from pandas in a future version. Use pandas.concat instead.\n",
      "  user_data = user_data.append(day_data_experiment).append(day_data_control)\n",
      "/var/folders/cg/z1gdqpsx1qq3lyb5lp3896zh0000gq/T/ipykernel_90502/228655152.py:15: FutureWarning: The frame.append method is deprecated and will be removed from pandas in a future version. Use pandas.concat instead.\n",
      "  user_data = user_data.append(day_data_experiment).append(day_data_control)\n",
      "/var/folders/cg/z1gdqpsx1qq3lyb5lp3896zh0000gq/T/ipykernel_90502/228655152.py:20: FutureWarning: The frame.append method is deprecated and will be removed from pandas in a future version. Use pandas.concat instead.\n",
      "  stat_result = stat_result.append(pd.DataFrame({'t': [fit[0]], 'p': [fit[1]], 'date': current_date}))\n",
      "/var/folders/cg/z1gdqpsx1qq3lyb5lp3896zh0000gq/T/ipykernel_90502/228655152.py:26: FutureWarning: The frame.append method is deprecated and will be removed from pandas in a future version. Use pandas.concat instead.\n",
      "  daily_data = daily_data.append(current_data_stat)\n",
      "/var/folders/cg/z1gdqpsx1qq3lyb5lp3896zh0000gq/T/ipykernel_90502/228655152.py:15: FutureWarning: The frame.append method is deprecated and will be removed from pandas in a future version. Use pandas.concat instead.\n",
      "  user_data = user_data.append(day_data_experiment).append(day_data_control)\n",
      "/var/folders/cg/z1gdqpsx1qq3lyb5lp3896zh0000gq/T/ipykernel_90502/228655152.py:15: FutureWarning: The frame.append method is deprecated and will be removed from pandas in a future version. Use pandas.concat instead.\n",
      "  user_data = user_data.append(day_data_experiment).append(day_data_control)\n",
      "/var/folders/cg/z1gdqpsx1qq3lyb5lp3896zh0000gq/T/ipykernel_90502/228655152.py:20: FutureWarning: The frame.append method is deprecated and will be removed from pandas in a future version. Use pandas.concat instead.\n",
      "  stat_result = stat_result.append(pd.DataFrame({'t': [fit[0]], 'p': [fit[1]], 'date': current_date}))\n",
      "/var/folders/cg/z1gdqpsx1qq3lyb5lp3896zh0000gq/T/ipykernel_90502/228655152.py:26: FutureWarning: The frame.append method is deprecated and will be removed from pandas in a future version. Use pandas.concat instead.\n",
      "  daily_data = daily_data.append(current_data_stat)\n",
      "/var/folders/cg/z1gdqpsx1qq3lyb5lp3896zh0000gq/T/ipykernel_90502/228655152.py:15: FutureWarning: The frame.append method is deprecated and will be removed from pandas in a future version. Use pandas.concat instead.\n",
      "  user_data = user_data.append(day_data_experiment).append(day_data_control)\n",
      "/var/folders/cg/z1gdqpsx1qq3lyb5lp3896zh0000gq/T/ipykernel_90502/228655152.py:15: FutureWarning: The frame.append method is deprecated and will be removed from pandas in a future version. Use pandas.concat instead.\n",
      "  user_data = user_data.append(day_data_experiment).append(day_data_control)\n",
      "/var/folders/cg/z1gdqpsx1qq3lyb5lp3896zh0000gq/T/ipykernel_90502/228655152.py:20: FutureWarning: The frame.append method is deprecated and will be removed from pandas in a future version. Use pandas.concat instead.\n",
      "  stat_result = stat_result.append(pd.DataFrame({'t': [fit[0]], 'p': [fit[1]], 'date': current_date}))\n",
      "/var/folders/cg/z1gdqpsx1qq3lyb5lp3896zh0000gq/T/ipykernel_90502/228655152.py:26: FutureWarning: The frame.append method is deprecated and will be removed from pandas in a future version. Use pandas.concat instead.\n",
      "  daily_data = daily_data.append(current_data_stat)\n",
      "/var/folders/cg/z1gdqpsx1qq3lyb5lp3896zh0000gq/T/ipykernel_90502/228655152.py:15: FutureWarning: The frame.append method is deprecated and will be removed from pandas in a future version. Use pandas.concat instead.\n",
      "  user_data = user_data.append(day_data_experiment).append(day_data_control)\n",
      "/var/folders/cg/z1gdqpsx1qq3lyb5lp3896zh0000gq/T/ipykernel_90502/228655152.py:15: FutureWarning: The frame.append method is deprecated and will be removed from pandas in a future version. Use pandas.concat instead.\n",
      "  user_data = user_data.append(day_data_experiment).append(day_data_control)\n",
      "/var/folders/cg/z1gdqpsx1qq3lyb5lp3896zh0000gq/T/ipykernel_90502/228655152.py:20: FutureWarning: The frame.append method is deprecated and will be removed from pandas in a future version. Use pandas.concat instead.\n",
      "  stat_result = stat_result.append(pd.DataFrame({'t': [fit[0]], 'p': [fit[1]], 'date': current_date}))\n",
      "/var/folders/cg/z1gdqpsx1qq3lyb5lp3896zh0000gq/T/ipykernel_90502/228655152.py:26: FutureWarning: The frame.append method is deprecated and will be removed from pandas in a future version. Use pandas.concat instead.\n",
      "  daily_data = daily_data.append(current_data_stat)\n",
      "/var/folders/cg/z1gdqpsx1qq3lyb5lp3896zh0000gq/T/ipykernel_90502/228655152.py:15: FutureWarning: The frame.append method is deprecated and will be removed from pandas in a future version. Use pandas.concat instead.\n",
      "  user_data = user_data.append(day_data_experiment).append(day_data_control)\n",
      "/var/folders/cg/z1gdqpsx1qq3lyb5lp3896zh0000gq/T/ipykernel_90502/228655152.py:15: FutureWarning: The frame.append method is deprecated and will be removed from pandas in a future version. Use pandas.concat instead.\n",
      "  user_data = user_data.append(day_data_experiment).append(day_data_control)\n",
      "/var/folders/cg/z1gdqpsx1qq3lyb5lp3896zh0000gq/T/ipykernel_90502/228655152.py:20: FutureWarning: The frame.append method is deprecated and will be removed from pandas in a future version. Use pandas.concat instead.\n",
      "  stat_result = stat_result.append(pd.DataFrame({'t': [fit[0]], 'p': [fit[1]], 'date': current_date}))\n",
      "/var/folders/cg/z1gdqpsx1qq3lyb5lp3896zh0000gq/T/ipykernel_90502/228655152.py:26: FutureWarning: The frame.append method is deprecated and will be removed from pandas in a future version. Use pandas.concat instead.\n",
      "  daily_data = daily_data.append(current_data_stat)\n",
      "/var/folders/cg/z1gdqpsx1qq3lyb5lp3896zh0000gq/T/ipykernel_90502/228655152.py:15: FutureWarning: The frame.append method is deprecated and will be removed from pandas in a future version. Use pandas.concat instead.\n",
      "  user_data = user_data.append(day_data_experiment).append(day_data_control)\n",
      "/var/folders/cg/z1gdqpsx1qq3lyb5lp3896zh0000gq/T/ipykernel_90502/228655152.py:15: FutureWarning: The frame.append method is deprecated and will be removed from pandas in a future version. Use pandas.concat instead.\n",
      "  user_data = user_data.append(day_data_experiment).append(day_data_control)\n",
      "/var/folders/cg/z1gdqpsx1qq3lyb5lp3896zh0000gq/T/ipykernel_90502/228655152.py:20: FutureWarning: The frame.append method is deprecated and will be removed from pandas in a future version. Use pandas.concat instead.\n",
      "  stat_result = stat_result.append(pd.DataFrame({'t': [fit[0]], 'p': [fit[1]], 'date': current_date}))\n",
      "/var/folders/cg/z1gdqpsx1qq3lyb5lp3896zh0000gq/T/ipykernel_90502/228655152.py:26: FutureWarning: The frame.append method is deprecated and will be removed from pandas in a future version. Use pandas.concat instead.\n",
      "  daily_data = daily_data.append(current_data_stat)\n",
      "/var/folders/cg/z1gdqpsx1qq3lyb5lp3896zh0000gq/T/ipykernel_90502/228655152.py:15: FutureWarning: The frame.append method is deprecated and will be removed from pandas in a future version. Use pandas.concat instead.\n",
      "  user_data = user_data.append(day_data_experiment).append(day_data_control)\n",
      "/var/folders/cg/z1gdqpsx1qq3lyb5lp3896zh0000gq/T/ipykernel_90502/228655152.py:15: FutureWarning: The frame.append method is deprecated and will be removed from pandas in a future version. Use pandas.concat instead.\n",
      "  user_data = user_data.append(day_data_experiment).append(day_data_control)\n",
      "/var/folders/cg/z1gdqpsx1qq3lyb5lp3896zh0000gq/T/ipykernel_90502/228655152.py:20: FutureWarning: The frame.append method is deprecated and will be removed from pandas in a future version. Use pandas.concat instead.\n",
      "  stat_result = stat_result.append(pd.DataFrame({'t': [fit[0]], 'p': [fit[1]], 'date': current_date}))\n",
      "/var/folders/cg/z1gdqpsx1qq3lyb5lp3896zh0000gq/T/ipykernel_90502/228655152.py:26: FutureWarning: The frame.append method is deprecated and will be removed from pandas in a future version. Use pandas.concat instead.\n",
      "  daily_data = daily_data.append(current_data_stat)\n",
      "/var/folders/cg/z1gdqpsx1qq3lyb5lp3896zh0000gq/T/ipykernel_90502/228655152.py:15: FutureWarning: The frame.append method is deprecated and will be removed from pandas in a future version. Use pandas.concat instead.\n",
      "  user_data = user_data.append(day_data_experiment).append(day_data_control)\n",
      "/var/folders/cg/z1gdqpsx1qq3lyb5lp3896zh0000gq/T/ipykernel_90502/228655152.py:15: FutureWarning: The frame.append method is deprecated and will be removed from pandas in a future version. Use pandas.concat instead.\n",
      "  user_data = user_data.append(day_data_experiment).append(day_data_control)\n",
      "/var/folders/cg/z1gdqpsx1qq3lyb5lp3896zh0000gq/T/ipykernel_90502/228655152.py:20: FutureWarning: The frame.append method is deprecated and will be removed from pandas in a future version. Use pandas.concat instead.\n",
      "  stat_result = stat_result.append(pd.DataFrame({'t': [fit[0]], 'p': [fit[1]], 'date': current_date}))\n",
      "/var/folders/cg/z1gdqpsx1qq3lyb5lp3896zh0000gq/T/ipykernel_90502/228655152.py:26: FutureWarning: The frame.append method is deprecated and will be removed from pandas in a future version. Use pandas.concat instead.\n",
      "  daily_data = daily_data.append(current_data_stat)\n",
      "/var/folders/cg/z1gdqpsx1qq3lyb5lp3896zh0000gq/T/ipykernel_90502/228655152.py:15: FutureWarning: The frame.append method is deprecated and will be removed from pandas in a future version. Use pandas.concat instead.\n",
      "  user_data = user_data.append(day_data_experiment).append(day_data_control)\n",
      "/var/folders/cg/z1gdqpsx1qq3lyb5lp3896zh0000gq/T/ipykernel_90502/228655152.py:15: FutureWarning: The frame.append method is deprecated and will be removed from pandas in a future version. Use pandas.concat instead.\n",
      "  user_data = user_data.append(day_data_experiment).append(day_data_control)\n",
      "/var/folders/cg/z1gdqpsx1qq3lyb5lp3896zh0000gq/T/ipykernel_90502/228655152.py:20: FutureWarning: The frame.append method is deprecated and will be removed from pandas in a future version. Use pandas.concat instead.\n",
      "  stat_result = stat_result.append(pd.DataFrame({'t': [fit[0]], 'p': [fit[1]], 'date': current_date}))\n",
      "/var/folders/cg/z1gdqpsx1qq3lyb5lp3896zh0000gq/T/ipykernel_90502/228655152.py:26: FutureWarning: The frame.append method is deprecated and will be removed from pandas in a future version. Use pandas.concat instead.\n",
      "  daily_data = daily_data.append(current_data_stat)\n",
      "/var/folders/cg/z1gdqpsx1qq3lyb5lp3896zh0000gq/T/ipykernel_90502/228655152.py:15: FutureWarning: The frame.append method is deprecated and will be removed from pandas in a future version. Use pandas.concat instead.\n",
      "  user_data = user_data.append(day_data_experiment).append(day_data_control)\n",
      "/var/folders/cg/z1gdqpsx1qq3lyb5lp3896zh0000gq/T/ipykernel_90502/228655152.py:15: FutureWarning: The frame.append method is deprecated and will be removed from pandas in a future version. Use pandas.concat instead.\n",
      "  user_data = user_data.append(day_data_experiment).append(day_data_control)\n",
      "/var/folders/cg/z1gdqpsx1qq3lyb5lp3896zh0000gq/T/ipykernel_90502/228655152.py:20: FutureWarning: The frame.append method is deprecated and will be removed from pandas in a future version. Use pandas.concat instead.\n",
      "  stat_result = stat_result.append(pd.DataFrame({'t': [fit[0]], 'p': [fit[1]], 'date': current_date}))\n",
      "/var/folders/cg/z1gdqpsx1qq3lyb5lp3896zh0000gq/T/ipykernel_90502/228655152.py:26: FutureWarning: The frame.append method is deprecated and will be removed from pandas in a future version. Use pandas.concat instead.\n",
      "  daily_data = daily_data.append(current_data_stat)\n",
      "/var/folders/cg/z1gdqpsx1qq3lyb5lp3896zh0000gq/T/ipykernel_90502/228655152.py:15: FutureWarning: The frame.append method is deprecated and will be removed from pandas in a future version. Use pandas.concat instead.\n",
      "  user_data = user_data.append(day_data_experiment).append(day_data_control)\n",
      "/var/folders/cg/z1gdqpsx1qq3lyb5lp3896zh0000gq/T/ipykernel_90502/228655152.py:15: FutureWarning: The frame.append method is deprecated and will be removed from pandas in a future version. Use pandas.concat instead.\n",
      "  user_data = user_data.append(day_data_experiment).append(day_data_control)\n",
      "/var/folders/cg/z1gdqpsx1qq3lyb5lp3896zh0000gq/T/ipykernel_90502/228655152.py:20: FutureWarning: The frame.append method is deprecated and will be removed from pandas in a future version. Use pandas.concat instead.\n",
      "  stat_result = stat_result.append(pd.DataFrame({'t': [fit[0]], 'p': [fit[1]], 'date': current_date}))\n",
      "/var/folders/cg/z1gdqpsx1qq3lyb5lp3896zh0000gq/T/ipykernel_90502/228655152.py:26: FutureWarning: The frame.append method is deprecated and will be removed from pandas in a future version. Use pandas.concat instead.\n",
      "  daily_data = daily_data.append(current_data_stat)\n",
      "/var/folders/cg/z1gdqpsx1qq3lyb5lp3896zh0000gq/T/ipykernel_90502/228655152.py:15: FutureWarning: The frame.append method is deprecated and will be removed from pandas in a future version. Use pandas.concat instead.\n",
      "  user_data = user_data.append(day_data_experiment).append(day_data_control)\n",
      "/var/folders/cg/z1gdqpsx1qq3lyb5lp3896zh0000gq/T/ipykernel_90502/228655152.py:15: FutureWarning: The frame.append method is deprecated and will be removed from pandas in a future version. Use pandas.concat instead.\n",
      "  user_data = user_data.append(day_data_experiment).append(day_data_control)\n",
      "/var/folders/cg/z1gdqpsx1qq3lyb5lp3896zh0000gq/T/ipykernel_90502/228655152.py:20: FutureWarning: The frame.append method is deprecated and will be removed from pandas in a future version. Use pandas.concat instead.\n",
      "  stat_result = stat_result.append(pd.DataFrame({'t': [fit[0]], 'p': [fit[1]], 'date': current_date}))\n",
      "/var/folders/cg/z1gdqpsx1qq3lyb5lp3896zh0000gq/T/ipykernel_90502/228655152.py:26: FutureWarning: The frame.append method is deprecated and will be removed from pandas in a future version. Use pandas.concat instead.\n",
      "  daily_data = daily_data.append(current_data_stat)\n",
      "/var/folders/cg/z1gdqpsx1qq3lyb5lp3896zh0000gq/T/ipykernel_90502/228655152.py:15: FutureWarning: The frame.append method is deprecated and will be removed from pandas in a future version. Use pandas.concat instead.\n",
      "  user_data = user_data.append(day_data_experiment).append(day_data_control)\n",
      "/var/folders/cg/z1gdqpsx1qq3lyb5lp3896zh0000gq/T/ipykernel_90502/228655152.py:15: FutureWarning: The frame.append method is deprecated and will be removed from pandas in a future version. Use pandas.concat instead.\n",
      "  user_data = user_data.append(day_data_experiment).append(day_data_control)\n",
      "/var/folders/cg/z1gdqpsx1qq3lyb5lp3896zh0000gq/T/ipykernel_90502/228655152.py:20: FutureWarning: The frame.append method is deprecated and will be removed from pandas in a future version. Use pandas.concat instead.\n",
      "  stat_result = stat_result.append(pd.DataFrame({'t': [fit[0]], 'p': [fit[1]], 'date': current_date}))\n",
      "/var/folders/cg/z1gdqpsx1qq3lyb5lp3896zh0000gq/T/ipykernel_90502/228655152.py:26: FutureWarning: The frame.append method is deprecated and will be removed from pandas in a future version. Use pandas.concat instead.\n",
      "  daily_data = daily_data.append(current_data_stat)\n",
      "/var/folders/cg/z1gdqpsx1qq3lyb5lp3896zh0000gq/T/ipykernel_90502/228655152.py:15: FutureWarning: The frame.append method is deprecated and will be removed from pandas in a future version. Use pandas.concat instead.\n",
      "  user_data = user_data.append(day_data_experiment).append(day_data_control)\n",
      "/var/folders/cg/z1gdqpsx1qq3lyb5lp3896zh0000gq/T/ipykernel_90502/228655152.py:15: FutureWarning: The frame.append method is deprecated and will be removed from pandas in a future version. Use pandas.concat instead.\n",
      "  user_data = user_data.append(day_data_experiment).append(day_data_control)\n",
      "/var/folders/cg/z1gdqpsx1qq3lyb5lp3896zh0000gq/T/ipykernel_90502/228655152.py:20: FutureWarning: The frame.append method is deprecated and will be removed from pandas in a future version. Use pandas.concat instead.\n",
      "  stat_result = stat_result.append(pd.DataFrame({'t': [fit[0]], 'p': [fit[1]], 'date': current_date}))\n",
      "/var/folders/cg/z1gdqpsx1qq3lyb5lp3896zh0000gq/T/ipykernel_90502/228655152.py:26: FutureWarning: The frame.append method is deprecated and will be removed from pandas in a future version. Use pandas.concat instead.\n",
      "  daily_data = daily_data.append(current_data_stat)\n",
      "/var/folders/cg/z1gdqpsx1qq3lyb5lp3896zh0000gq/T/ipykernel_90502/228655152.py:15: FutureWarning: The frame.append method is deprecated and will be removed from pandas in a future version. Use pandas.concat instead.\n",
      "  user_data = user_data.append(day_data_experiment).append(day_data_control)\n",
      "/var/folders/cg/z1gdqpsx1qq3lyb5lp3896zh0000gq/T/ipykernel_90502/228655152.py:15: FutureWarning: The frame.append method is deprecated and will be removed from pandas in a future version. Use pandas.concat instead.\n",
      "  user_data = user_data.append(day_data_experiment).append(day_data_control)\n",
      "/var/folders/cg/z1gdqpsx1qq3lyb5lp3896zh0000gq/T/ipykernel_90502/228655152.py:20: FutureWarning: The frame.append method is deprecated and will be removed from pandas in a future version. Use pandas.concat instead.\n",
      "  stat_result = stat_result.append(pd.DataFrame({'t': [fit[0]], 'p': [fit[1]], 'date': current_date}))\n",
      "/var/folders/cg/z1gdqpsx1qq3lyb5lp3896zh0000gq/T/ipykernel_90502/228655152.py:26: FutureWarning: The frame.append method is deprecated and will be removed from pandas in a future version. Use pandas.concat instead.\n",
      "  daily_data = daily_data.append(current_data_stat)\n",
      "/var/folders/cg/z1gdqpsx1qq3lyb5lp3896zh0000gq/T/ipykernel_90502/228655152.py:15: FutureWarning: The frame.append method is deprecated and will be removed from pandas in a future version. Use pandas.concat instead.\n",
      "  user_data = user_data.append(day_data_experiment).append(day_data_control)\n",
      "/var/folders/cg/z1gdqpsx1qq3lyb5lp3896zh0000gq/T/ipykernel_90502/228655152.py:15: FutureWarning: The frame.append method is deprecated and will be removed from pandas in a future version. Use pandas.concat instead.\n",
      "  user_data = user_data.append(day_data_experiment).append(day_data_control)\n",
      "/var/folders/cg/z1gdqpsx1qq3lyb5lp3896zh0000gq/T/ipykernel_90502/228655152.py:20: FutureWarning: The frame.append method is deprecated and will be removed from pandas in a future version. Use pandas.concat instead.\n",
      "  stat_result = stat_result.append(pd.DataFrame({'t': [fit[0]], 'p': [fit[1]], 'date': current_date}))\n",
      "/var/folders/cg/z1gdqpsx1qq3lyb5lp3896zh0000gq/T/ipykernel_90502/228655152.py:26: FutureWarning: The frame.append method is deprecated and will be removed from pandas in a future version. Use pandas.concat instead.\n",
      "  daily_data = daily_data.append(current_data_stat)\n",
      "/var/folders/cg/z1gdqpsx1qq3lyb5lp3896zh0000gq/T/ipykernel_90502/228655152.py:15: FutureWarning: The frame.append method is deprecated and will be removed from pandas in a future version. Use pandas.concat instead.\n",
      "  user_data = user_data.append(day_data_experiment).append(day_data_control)\n",
      "/var/folders/cg/z1gdqpsx1qq3lyb5lp3896zh0000gq/T/ipykernel_90502/228655152.py:15: FutureWarning: The frame.append method is deprecated and will be removed from pandas in a future version. Use pandas.concat instead.\n",
      "  user_data = user_data.append(day_data_experiment).append(day_data_control)\n",
      "/var/folders/cg/z1gdqpsx1qq3lyb5lp3896zh0000gq/T/ipykernel_90502/228655152.py:20: FutureWarning: The frame.append method is deprecated and will be removed from pandas in a future version. Use pandas.concat instead.\n",
      "  stat_result = stat_result.append(pd.DataFrame({'t': [fit[0]], 'p': [fit[1]], 'date': current_date}))\n",
      "/var/folders/cg/z1gdqpsx1qq3lyb5lp3896zh0000gq/T/ipykernel_90502/228655152.py:26: FutureWarning: The frame.append method is deprecated and will be removed from pandas in a future version. Use pandas.concat instead.\n",
      "  daily_data = daily_data.append(current_data_stat)\n",
      "/var/folders/cg/z1gdqpsx1qq3lyb5lp3896zh0000gq/T/ipykernel_90502/228655152.py:15: FutureWarning: The frame.append method is deprecated and will be removed from pandas in a future version. Use pandas.concat instead.\n",
      "  user_data = user_data.append(day_data_experiment).append(day_data_control)\n",
      "/var/folders/cg/z1gdqpsx1qq3lyb5lp3896zh0000gq/T/ipykernel_90502/228655152.py:15: FutureWarning: The frame.append method is deprecated and will be removed from pandas in a future version. Use pandas.concat instead.\n",
      "  user_data = user_data.append(day_data_experiment).append(day_data_control)\n",
      "/var/folders/cg/z1gdqpsx1qq3lyb5lp3896zh0000gq/T/ipykernel_90502/228655152.py:20: FutureWarning: The frame.append method is deprecated and will be removed from pandas in a future version. Use pandas.concat instead.\n",
      "  stat_result = stat_result.append(pd.DataFrame({'t': [fit[0]], 'p': [fit[1]], 'date': current_date}))\n",
      "/var/folders/cg/z1gdqpsx1qq3lyb5lp3896zh0000gq/T/ipykernel_90502/228655152.py:26: FutureWarning: The frame.append method is deprecated and will be removed from pandas in a future version. Use pandas.concat instead.\n",
      "  daily_data = daily_data.append(current_data_stat)\n",
      "/var/folders/cg/z1gdqpsx1qq3lyb5lp3896zh0000gq/T/ipykernel_90502/228655152.py:15: FutureWarning: The frame.append method is deprecated and will be removed from pandas in a future version. Use pandas.concat instead.\n",
      "  user_data = user_data.append(day_data_experiment).append(day_data_control)\n",
      "/var/folders/cg/z1gdqpsx1qq3lyb5lp3896zh0000gq/T/ipykernel_90502/228655152.py:15: FutureWarning: The frame.append method is deprecated and will be removed from pandas in a future version. Use pandas.concat instead.\n",
      "  user_data = user_data.append(day_data_experiment).append(day_data_control)\n",
      "/var/folders/cg/z1gdqpsx1qq3lyb5lp3896zh0000gq/T/ipykernel_90502/228655152.py:20: FutureWarning: The frame.append method is deprecated and will be removed from pandas in a future version. Use pandas.concat instead.\n",
      "  stat_result = stat_result.append(pd.DataFrame({'t': [fit[0]], 'p': [fit[1]], 'date': current_date}))\n",
      "/var/folders/cg/z1gdqpsx1qq3lyb5lp3896zh0000gq/T/ipykernel_90502/228655152.py:26: FutureWarning: The frame.append method is deprecated and will be removed from pandas in a future version. Use pandas.concat instead.\n",
      "  daily_data = daily_data.append(current_data_stat)\n",
      "/var/folders/cg/z1gdqpsx1qq3lyb5lp3896zh0000gq/T/ipykernel_90502/228655152.py:15: FutureWarning: The frame.append method is deprecated and will be removed from pandas in a future version. Use pandas.concat instead.\n",
      "  user_data = user_data.append(day_data_experiment).append(day_data_control)\n",
      "/var/folders/cg/z1gdqpsx1qq3lyb5lp3896zh0000gq/T/ipykernel_90502/228655152.py:15: FutureWarning: The frame.append method is deprecated and will be removed from pandas in a future version. Use pandas.concat instead.\n",
      "  user_data = user_data.append(day_data_experiment).append(day_data_control)\n",
      "/var/folders/cg/z1gdqpsx1qq3lyb5lp3896zh0000gq/T/ipykernel_90502/228655152.py:20: FutureWarning: The frame.append method is deprecated and will be removed from pandas in a future version. Use pandas.concat instead.\n",
      "  stat_result = stat_result.append(pd.DataFrame({'t': [fit[0]], 'p': [fit[1]], 'date': current_date}))\n",
      "/var/folders/cg/z1gdqpsx1qq3lyb5lp3896zh0000gq/T/ipykernel_90502/228655152.py:26: FutureWarning: The frame.append method is deprecated and will be removed from pandas in a future version. Use pandas.concat instead.\n",
      "  daily_data = daily_data.append(current_data_stat)\n",
      "/var/folders/cg/z1gdqpsx1qq3lyb5lp3896zh0000gq/T/ipykernel_90502/228655152.py:15: FutureWarning: The frame.append method is deprecated and will be removed from pandas in a future version. Use pandas.concat instead.\n",
      "  user_data = user_data.append(day_data_experiment).append(day_data_control)\n",
      "/var/folders/cg/z1gdqpsx1qq3lyb5lp3896zh0000gq/T/ipykernel_90502/228655152.py:15: FutureWarning: The frame.append method is deprecated and will be removed from pandas in a future version. Use pandas.concat instead.\n",
      "  user_data = user_data.append(day_data_experiment).append(day_data_control)\n",
      "/var/folders/cg/z1gdqpsx1qq3lyb5lp3896zh0000gq/T/ipykernel_90502/228655152.py:20: FutureWarning: The frame.append method is deprecated and will be removed from pandas in a future version. Use pandas.concat instead.\n",
      "  stat_result = stat_result.append(pd.DataFrame({'t': [fit[0]], 'p': [fit[1]], 'date': current_date}))\n",
      "/var/folders/cg/z1gdqpsx1qq3lyb5lp3896zh0000gq/T/ipykernel_90502/228655152.py:26: FutureWarning: The frame.append method is deprecated and will be removed from pandas in a future version. Use pandas.concat instead.\n",
      "  daily_data = daily_data.append(current_data_stat)\n",
      "/var/folders/cg/z1gdqpsx1qq3lyb5lp3896zh0000gq/T/ipykernel_90502/228655152.py:15: FutureWarning: The frame.append method is deprecated and will be removed from pandas in a future version. Use pandas.concat instead.\n",
      "  user_data = user_data.append(day_data_experiment).append(day_data_control)\n",
      "/var/folders/cg/z1gdqpsx1qq3lyb5lp3896zh0000gq/T/ipykernel_90502/228655152.py:15: FutureWarning: The frame.append method is deprecated and will be removed from pandas in a future version. Use pandas.concat instead.\n",
      "  user_data = user_data.append(day_data_experiment).append(day_data_control)\n",
      "/var/folders/cg/z1gdqpsx1qq3lyb5lp3896zh0000gq/T/ipykernel_90502/228655152.py:20: FutureWarning: The frame.append method is deprecated and will be removed from pandas in a future version. Use pandas.concat instead.\n",
      "  stat_result = stat_result.append(pd.DataFrame({'t': [fit[0]], 'p': [fit[1]], 'date': current_date}))\n",
      "/var/folders/cg/z1gdqpsx1qq3lyb5lp3896zh0000gq/T/ipykernel_90502/228655152.py:26: FutureWarning: The frame.append method is deprecated and will be removed from pandas in a future version. Use pandas.concat instead.\n",
      "  daily_data = daily_data.append(current_data_stat)\n",
      "/var/folders/cg/z1gdqpsx1qq3lyb5lp3896zh0000gq/T/ipykernel_90502/228655152.py:15: FutureWarning: The frame.append method is deprecated and will be removed from pandas in a future version. Use pandas.concat instead.\n",
      "  user_data = user_data.append(day_data_experiment).append(day_data_control)\n",
      "/var/folders/cg/z1gdqpsx1qq3lyb5lp3896zh0000gq/T/ipykernel_90502/228655152.py:15: FutureWarning: The frame.append method is deprecated and will be removed from pandas in a future version. Use pandas.concat instead.\n",
      "  user_data = user_data.append(day_data_experiment).append(day_data_control)\n",
      "/var/folders/cg/z1gdqpsx1qq3lyb5lp3896zh0000gq/T/ipykernel_90502/228655152.py:20: FutureWarning: The frame.append method is deprecated and will be removed from pandas in a future version. Use pandas.concat instead.\n",
      "  stat_result = stat_result.append(pd.DataFrame({'t': [fit[0]], 'p': [fit[1]], 'date': current_date}))\n",
      "/var/folders/cg/z1gdqpsx1qq3lyb5lp3896zh0000gq/T/ipykernel_90502/228655152.py:26: FutureWarning: The frame.append method is deprecated and will be removed from pandas in a future version. Use pandas.concat instead.\n",
      "  daily_data = daily_data.append(current_data_stat)\n",
      "/var/folders/cg/z1gdqpsx1qq3lyb5lp3896zh0000gq/T/ipykernel_90502/228655152.py:15: FutureWarning: The frame.append method is deprecated and will be removed from pandas in a future version. Use pandas.concat instead.\n",
      "  user_data = user_data.append(day_data_experiment).append(day_data_control)\n",
      "/var/folders/cg/z1gdqpsx1qq3lyb5lp3896zh0000gq/T/ipykernel_90502/228655152.py:15: FutureWarning: The frame.append method is deprecated and will be removed from pandas in a future version. Use pandas.concat instead.\n",
      "  user_data = user_data.append(day_data_experiment).append(day_data_control)\n",
      "/var/folders/cg/z1gdqpsx1qq3lyb5lp3896zh0000gq/T/ipykernel_90502/228655152.py:20: FutureWarning: The frame.append method is deprecated and will be removed from pandas in a future version. Use pandas.concat instead.\n",
      "  stat_result = stat_result.append(pd.DataFrame({'t': [fit[0]], 'p': [fit[1]], 'date': current_date}))\n",
      "/var/folders/cg/z1gdqpsx1qq3lyb5lp3896zh0000gq/T/ipykernel_90502/228655152.py:26: FutureWarning: The frame.append method is deprecated and will be removed from pandas in a future version. Use pandas.concat instead.\n",
      "  daily_data = daily_data.append(current_data_stat)\n",
      "/var/folders/cg/z1gdqpsx1qq3lyb5lp3896zh0000gq/T/ipykernel_90502/228655152.py:15: FutureWarning: The frame.append method is deprecated and will be removed from pandas in a future version. Use pandas.concat instead.\n",
      "  user_data = user_data.append(day_data_experiment).append(day_data_control)\n",
      "/var/folders/cg/z1gdqpsx1qq3lyb5lp3896zh0000gq/T/ipykernel_90502/228655152.py:15: FutureWarning: The frame.append method is deprecated and will be removed from pandas in a future version. Use pandas.concat instead.\n",
      "  user_data = user_data.append(day_data_experiment).append(day_data_control)\n",
      "/var/folders/cg/z1gdqpsx1qq3lyb5lp3896zh0000gq/T/ipykernel_90502/228655152.py:20: FutureWarning: The frame.append method is deprecated and will be removed from pandas in a future version. Use pandas.concat instead.\n",
      "  stat_result = stat_result.append(pd.DataFrame({'t': [fit[0]], 'p': [fit[1]], 'date': current_date}))\n",
      "/var/folders/cg/z1gdqpsx1qq3lyb5lp3896zh0000gq/T/ipykernel_90502/228655152.py:26: FutureWarning: The frame.append method is deprecated and will be removed from pandas in a future version. Use pandas.concat instead.\n",
      "  daily_data = daily_data.append(current_data_stat)\n",
      "/var/folders/cg/z1gdqpsx1qq3lyb5lp3896zh0000gq/T/ipykernel_90502/228655152.py:15: FutureWarning: The frame.append method is deprecated and will be removed from pandas in a future version. Use pandas.concat instead.\n",
      "  user_data = user_data.append(day_data_experiment).append(day_data_control)\n",
      "/var/folders/cg/z1gdqpsx1qq3lyb5lp3896zh0000gq/T/ipykernel_90502/228655152.py:15: FutureWarning: The frame.append method is deprecated and will be removed from pandas in a future version. Use pandas.concat instead.\n",
      "  user_data = user_data.append(day_data_experiment).append(day_data_control)\n",
      "/var/folders/cg/z1gdqpsx1qq3lyb5lp3896zh0000gq/T/ipykernel_90502/228655152.py:20: FutureWarning: The frame.append method is deprecated and will be removed from pandas in a future version. Use pandas.concat instead.\n",
      "  stat_result = stat_result.append(pd.DataFrame({'t': [fit[0]], 'p': [fit[1]], 'date': current_date}))\n",
      "/var/folders/cg/z1gdqpsx1qq3lyb5lp3896zh0000gq/T/ipykernel_90502/228655152.py:26: FutureWarning: The frame.append method is deprecated and will be removed from pandas in a future version. Use pandas.concat instead.\n",
      "  daily_data = daily_data.append(current_data_stat)\n",
      "/var/folders/cg/z1gdqpsx1qq3lyb5lp3896zh0000gq/T/ipykernel_90502/228655152.py:15: FutureWarning: The frame.append method is deprecated and will be removed from pandas in a future version. Use pandas.concat instead.\n",
      "  user_data = user_data.append(day_data_experiment).append(day_data_control)\n",
      "/var/folders/cg/z1gdqpsx1qq3lyb5lp3896zh0000gq/T/ipykernel_90502/228655152.py:15: FutureWarning: The frame.append method is deprecated and will be removed from pandas in a future version. Use pandas.concat instead.\n",
      "  user_data = user_data.append(day_data_experiment).append(day_data_control)\n",
      "/var/folders/cg/z1gdqpsx1qq3lyb5lp3896zh0000gq/T/ipykernel_90502/228655152.py:20: FutureWarning: The frame.append method is deprecated and will be removed from pandas in a future version. Use pandas.concat instead.\n",
      "  stat_result = stat_result.append(pd.DataFrame({'t': [fit[0]], 'p': [fit[1]], 'date': current_date}))\n",
      "/var/folders/cg/z1gdqpsx1qq3lyb5lp3896zh0000gq/T/ipykernel_90502/228655152.py:26: FutureWarning: The frame.append method is deprecated and will be removed from pandas in a future version. Use pandas.concat instead.\n",
      "  daily_data = daily_data.append(current_data_stat)\n",
      "/var/folders/cg/z1gdqpsx1qq3lyb5lp3896zh0000gq/T/ipykernel_90502/228655152.py:15: FutureWarning: The frame.append method is deprecated and will be removed from pandas in a future version. Use pandas.concat instead.\n",
      "  user_data = user_data.append(day_data_experiment).append(day_data_control)\n",
      "/var/folders/cg/z1gdqpsx1qq3lyb5lp3896zh0000gq/T/ipykernel_90502/228655152.py:15: FutureWarning: The frame.append method is deprecated and will be removed from pandas in a future version. Use pandas.concat instead.\n",
      "  user_data = user_data.append(day_data_experiment).append(day_data_control)\n",
      "/var/folders/cg/z1gdqpsx1qq3lyb5lp3896zh0000gq/T/ipykernel_90502/228655152.py:20: FutureWarning: The frame.append method is deprecated and will be removed from pandas in a future version. Use pandas.concat instead.\n",
      "  stat_result = stat_result.append(pd.DataFrame({'t': [fit[0]], 'p': [fit[1]], 'date': current_date}))\n",
      "/var/folders/cg/z1gdqpsx1qq3lyb5lp3896zh0000gq/T/ipykernel_90502/228655152.py:26: FutureWarning: The frame.append method is deprecated and will be removed from pandas in a future version. Use pandas.concat instead.\n",
      "  daily_data = daily_data.append(current_data_stat)\n",
      "/var/folders/cg/z1gdqpsx1qq3lyb5lp3896zh0000gq/T/ipykernel_90502/228655152.py:15: FutureWarning: The frame.append method is deprecated and will be removed from pandas in a future version. Use pandas.concat instead.\n",
      "  user_data = user_data.append(day_data_experiment).append(day_data_control)\n",
      "/var/folders/cg/z1gdqpsx1qq3lyb5lp3896zh0000gq/T/ipykernel_90502/228655152.py:15: FutureWarning: The frame.append method is deprecated and will be removed from pandas in a future version. Use pandas.concat instead.\n",
      "  user_data = user_data.append(day_data_experiment).append(day_data_control)\n",
      "/var/folders/cg/z1gdqpsx1qq3lyb5lp3896zh0000gq/T/ipykernel_90502/228655152.py:20: FutureWarning: The frame.append method is deprecated and will be removed from pandas in a future version. Use pandas.concat instead.\n",
      "  stat_result = stat_result.append(pd.DataFrame({'t': [fit[0]], 'p': [fit[1]], 'date': current_date}))\n",
      "/var/folders/cg/z1gdqpsx1qq3lyb5lp3896zh0000gq/T/ipykernel_90502/228655152.py:26: FutureWarning: The frame.append method is deprecated and will be removed from pandas in a future version. Use pandas.concat instead.\n",
      "  daily_data = daily_data.append(current_data_stat)\n",
      "/var/folders/cg/z1gdqpsx1qq3lyb5lp3896zh0000gq/T/ipykernel_90502/228655152.py:15: FutureWarning: The frame.append method is deprecated and will be removed from pandas in a future version. Use pandas.concat instead.\n",
      "  user_data = user_data.append(day_data_experiment).append(day_data_control)\n",
      "/var/folders/cg/z1gdqpsx1qq3lyb5lp3896zh0000gq/T/ipykernel_90502/228655152.py:15: FutureWarning: The frame.append method is deprecated and will be removed from pandas in a future version. Use pandas.concat instead.\n",
      "  user_data = user_data.append(day_data_experiment).append(day_data_control)\n",
      "/var/folders/cg/z1gdqpsx1qq3lyb5lp3896zh0000gq/T/ipykernel_90502/228655152.py:20: FutureWarning: The frame.append method is deprecated and will be removed from pandas in a future version. Use pandas.concat instead.\n",
      "  stat_result = stat_result.append(pd.DataFrame({'t': [fit[0]], 'p': [fit[1]], 'date': current_date}))\n",
      "/var/folders/cg/z1gdqpsx1qq3lyb5lp3896zh0000gq/T/ipykernel_90502/228655152.py:26: FutureWarning: The frame.append method is deprecated and will be removed from pandas in a future version. Use pandas.concat instead.\n",
      "  daily_data = daily_data.append(current_data_stat)\n",
      "/var/folders/cg/z1gdqpsx1qq3lyb5lp3896zh0000gq/T/ipykernel_90502/228655152.py:15: FutureWarning: The frame.append method is deprecated and will be removed from pandas in a future version. Use pandas.concat instead.\n",
      "  user_data = user_data.append(day_data_experiment).append(day_data_control)\n",
      "/var/folders/cg/z1gdqpsx1qq3lyb5lp3896zh0000gq/T/ipykernel_90502/228655152.py:15: FutureWarning: The frame.append method is deprecated and will be removed from pandas in a future version. Use pandas.concat instead.\n",
      "  user_data = user_data.append(day_data_experiment).append(day_data_control)\n",
      "/var/folders/cg/z1gdqpsx1qq3lyb5lp3896zh0000gq/T/ipykernel_90502/228655152.py:20: FutureWarning: The frame.append method is deprecated and will be removed from pandas in a future version. Use pandas.concat instead.\n",
      "  stat_result = stat_result.append(pd.DataFrame({'t': [fit[0]], 'p': [fit[1]], 'date': current_date}))\n",
      "/var/folders/cg/z1gdqpsx1qq3lyb5lp3896zh0000gq/T/ipykernel_90502/228655152.py:26: FutureWarning: The frame.append method is deprecated and will be removed from pandas in a future version. Use pandas.concat instead.\n",
      "  daily_data = daily_data.append(current_data_stat)\n",
      "/var/folders/cg/z1gdqpsx1qq3lyb5lp3896zh0000gq/T/ipykernel_90502/228655152.py:15: FutureWarning: The frame.append method is deprecated and will be removed from pandas in a future version. Use pandas.concat instead.\n",
      "  user_data = user_data.append(day_data_experiment).append(day_data_control)\n",
      "/var/folders/cg/z1gdqpsx1qq3lyb5lp3896zh0000gq/T/ipykernel_90502/228655152.py:15: FutureWarning: The frame.append method is deprecated and will be removed from pandas in a future version. Use pandas.concat instead.\n",
      "  user_data = user_data.append(day_data_experiment).append(day_data_control)\n",
      "/var/folders/cg/z1gdqpsx1qq3lyb5lp3896zh0000gq/T/ipykernel_90502/228655152.py:20: FutureWarning: The frame.append method is deprecated and will be removed from pandas in a future version. Use pandas.concat instead.\n",
      "  stat_result = stat_result.append(pd.DataFrame({'t': [fit[0]], 'p': [fit[1]], 'date': current_date}))\n",
      "/var/folders/cg/z1gdqpsx1qq3lyb5lp3896zh0000gq/T/ipykernel_90502/228655152.py:26: FutureWarning: The frame.append method is deprecated and will be removed from pandas in a future version. Use pandas.concat instead.\n",
      "  daily_data = daily_data.append(current_data_stat)\n",
      "/var/folders/cg/z1gdqpsx1qq3lyb5lp3896zh0000gq/T/ipykernel_90502/228655152.py:15: FutureWarning: The frame.append method is deprecated and will be removed from pandas in a future version. Use pandas.concat instead.\n",
      "  user_data = user_data.append(day_data_experiment).append(day_data_control)\n",
      "/var/folders/cg/z1gdqpsx1qq3lyb5lp3896zh0000gq/T/ipykernel_90502/228655152.py:15: FutureWarning: The frame.append method is deprecated and will be removed from pandas in a future version. Use pandas.concat instead.\n",
      "  user_data = user_data.append(day_data_experiment).append(day_data_control)\n",
      "/var/folders/cg/z1gdqpsx1qq3lyb5lp3896zh0000gq/T/ipykernel_90502/228655152.py:20: FutureWarning: The frame.append method is deprecated and will be removed from pandas in a future version. Use pandas.concat instead.\n",
      "  stat_result = stat_result.append(pd.DataFrame({'t': [fit[0]], 'p': [fit[1]], 'date': current_date}))\n",
      "/var/folders/cg/z1gdqpsx1qq3lyb5lp3896zh0000gq/T/ipykernel_90502/228655152.py:26: FutureWarning: The frame.append method is deprecated and will be removed from pandas in a future version. Use pandas.concat instead.\n",
      "  daily_data = daily_data.append(current_data_stat)\n",
      "/var/folders/cg/z1gdqpsx1qq3lyb5lp3896zh0000gq/T/ipykernel_90502/228655152.py:15: FutureWarning: The frame.append method is deprecated and will be removed from pandas in a future version. Use pandas.concat instead.\n",
      "  user_data = user_data.append(day_data_experiment).append(day_data_control)\n",
      "/var/folders/cg/z1gdqpsx1qq3lyb5lp3896zh0000gq/T/ipykernel_90502/228655152.py:15: FutureWarning: The frame.append method is deprecated and will be removed from pandas in a future version. Use pandas.concat instead.\n",
      "  user_data = user_data.append(day_data_experiment).append(day_data_control)\n",
      "/var/folders/cg/z1gdqpsx1qq3lyb5lp3896zh0000gq/T/ipykernel_90502/228655152.py:20: FutureWarning: The frame.append method is deprecated and will be removed from pandas in a future version. Use pandas.concat instead.\n",
      "  stat_result = stat_result.append(pd.DataFrame({'t': [fit[0]], 'p': [fit[1]], 'date': current_date}))\n",
      "/var/folders/cg/z1gdqpsx1qq3lyb5lp3896zh0000gq/T/ipykernel_90502/228655152.py:26: FutureWarning: The frame.append method is deprecated and will be removed from pandas in a future version. Use pandas.concat instead.\n",
      "  daily_data = daily_data.append(current_data_stat)\n",
      "/var/folders/cg/z1gdqpsx1qq3lyb5lp3896zh0000gq/T/ipykernel_90502/228655152.py:15: FutureWarning: The frame.append method is deprecated and will be removed from pandas in a future version. Use pandas.concat instead.\n",
      "  user_data = user_data.append(day_data_experiment).append(day_data_control)\n",
      "/var/folders/cg/z1gdqpsx1qq3lyb5lp3896zh0000gq/T/ipykernel_90502/228655152.py:15: FutureWarning: The frame.append method is deprecated and will be removed from pandas in a future version. Use pandas.concat instead.\n",
      "  user_data = user_data.append(day_data_experiment).append(day_data_control)\n",
      "/var/folders/cg/z1gdqpsx1qq3lyb5lp3896zh0000gq/T/ipykernel_90502/228655152.py:20: FutureWarning: The frame.append method is deprecated and will be removed from pandas in a future version. Use pandas.concat instead.\n",
      "  stat_result = stat_result.append(pd.DataFrame({'t': [fit[0]], 'p': [fit[1]], 'date': current_date}))\n",
      "/var/folders/cg/z1gdqpsx1qq3lyb5lp3896zh0000gq/T/ipykernel_90502/228655152.py:26: FutureWarning: The frame.append method is deprecated and will be removed from pandas in a future version. Use pandas.concat instead.\n",
      "  daily_data = daily_data.append(current_data_stat)\n",
      "/var/folders/cg/z1gdqpsx1qq3lyb5lp3896zh0000gq/T/ipykernel_90502/228655152.py:15: FutureWarning: The frame.append method is deprecated and will be removed from pandas in a future version. Use pandas.concat instead.\n",
      "  user_data = user_data.append(day_data_experiment).append(day_data_control)\n",
      "/var/folders/cg/z1gdqpsx1qq3lyb5lp3896zh0000gq/T/ipykernel_90502/228655152.py:15: FutureWarning: The frame.append method is deprecated and will be removed from pandas in a future version. Use pandas.concat instead.\n",
      "  user_data = user_data.append(day_data_experiment).append(day_data_control)\n",
      "/var/folders/cg/z1gdqpsx1qq3lyb5lp3896zh0000gq/T/ipykernel_90502/228655152.py:20: FutureWarning: The frame.append method is deprecated and will be removed from pandas in a future version. Use pandas.concat instead.\n",
      "  stat_result = stat_result.append(pd.DataFrame({'t': [fit[0]], 'p': [fit[1]], 'date': current_date}))\n",
      "/var/folders/cg/z1gdqpsx1qq3lyb5lp3896zh0000gq/T/ipykernel_90502/228655152.py:26: FutureWarning: The frame.append method is deprecated and will be removed from pandas in a future version. Use pandas.concat instead.\n",
      "  daily_data = daily_data.append(current_data_stat)\n",
      "/var/folders/cg/z1gdqpsx1qq3lyb5lp3896zh0000gq/T/ipykernel_90502/228655152.py:15: FutureWarning: The frame.append method is deprecated and will be removed from pandas in a future version. Use pandas.concat instead.\n",
      "  user_data = user_data.append(day_data_experiment).append(day_data_control)\n",
      "/var/folders/cg/z1gdqpsx1qq3lyb5lp3896zh0000gq/T/ipykernel_90502/228655152.py:15: FutureWarning: The frame.append method is deprecated and will be removed from pandas in a future version. Use pandas.concat instead.\n",
      "  user_data = user_data.append(day_data_experiment).append(day_data_control)\n",
      "/var/folders/cg/z1gdqpsx1qq3lyb5lp3896zh0000gq/T/ipykernel_90502/228655152.py:20: FutureWarning: The frame.append method is deprecated and will be removed from pandas in a future version. Use pandas.concat instead.\n",
      "  stat_result = stat_result.append(pd.DataFrame({'t': [fit[0]], 'p': [fit[1]], 'date': current_date}))\n",
      "/var/folders/cg/z1gdqpsx1qq3lyb5lp3896zh0000gq/T/ipykernel_90502/228655152.py:26: FutureWarning: The frame.append method is deprecated and will be removed from pandas in a future version. Use pandas.concat instead.\n",
      "  daily_data = daily_data.append(current_data_stat)\n",
      "/var/folders/cg/z1gdqpsx1qq3lyb5lp3896zh0000gq/T/ipykernel_90502/228655152.py:15: FutureWarning: The frame.append method is deprecated and will be removed from pandas in a future version. Use pandas.concat instead.\n",
      "  user_data = user_data.append(day_data_experiment).append(day_data_control)\n",
      "/var/folders/cg/z1gdqpsx1qq3lyb5lp3896zh0000gq/T/ipykernel_90502/228655152.py:15: FutureWarning: The frame.append method is deprecated and will be removed from pandas in a future version. Use pandas.concat instead.\n",
      "  user_data = user_data.append(day_data_experiment).append(day_data_control)\n",
      "/var/folders/cg/z1gdqpsx1qq3lyb5lp3896zh0000gq/T/ipykernel_90502/228655152.py:20: FutureWarning: The frame.append method is deprecated and will be removed from pandas in a future version. Use pandas.concat instead.\n",
      "  stat_result = stat_result.append(pd.DataFrame({'t': [fit[0]], 'p': [fit[1]], 'date': current_date}))\n",
      "/var/folders/cg/z1gdqpsx1qq3lyb5lp3896zh0000gq/T/ipykernel_90502/228655152.py:26: FutureWarning: The frame.append method is deprecated and will be removed from pandas in a future version. Use pandas.concat instead.\n",
      "  daily_data = daily_data.append(current_data_stat)\n",
      "/var/folders/cg/z1gdqpsx1qq3lyb5lp3896zh0000gq/T/ipykernel_90502/228655152.py:15: FutureWarning: The frame.append method is deprecated and will be removed from pandas in a future version. Use pandas.concat instead.\n",
      "  user_data = user_data.append(day_data_experiment).append(day_data_control)\n",
      "/var/folders/cg/z1gdqpsx1qq3lyb5lp3896zh0000gq/T/ipykernel_90502/228655152.py:15: FutureWarning: The frame.append method is deprecated and will be removed from pandas in a future version. Use pandas.concat instead.\n",
      "  user_data = user_data.append(day_data_experiment).append(day_data_control)\n",
      "/var/folders/cg/z1gdqpsx1qq3lyb5lp3896zh0000gq/T/ipykernel_90502/228655152.py:20: FutureWarning: The frame.append method is deprecated and will be removed from pandas in a future version. Use pandas.concat instead.\n",
      "  stat_result = stat_result.append(pd.DataFrame({'t': [fit[0]], 'p': [fit[1]], 'date': current_date}))\n",
      "/var/folders/cg/z1gdqpsx1qq3lyb5lp3896zh0000gq/T/ipykernel_90502/228655152.py:26: FutureWarning: The frame.append method is deprecated and will be removed from pandas in a future version. Use pandas.concat instead.\n",
      "  daily_data = daily_data.append(current_data_stat)\n",
      "/var/folders/cg/z1gdqpsx1qq3lyb5lp3896zh0000gq/T/ipykernel_90502/228655152.py:15: FutureWarning: The frame.append method is deprecated and will be removed from pandas in a future version. Use pandas.concat instead.\n",
      "  user_data = user_data.append(day_data_experiment).append(day_data_control)\n",
      "/var/folders/cg/z1gdqpsx1qq3lyb5lp3896zh0000gq/T/ipykernel_90502/228655152.py:15: FutureWarning: The frame.append method is deprecated and will be removed from pandas in a future version. Use pandas.concat instead.\n",
      "  user_data = user_data.append(day_data_experiment).append(day_data_control)\n",
      "/var/folders/cg/z1gdqpsx1qq3lyb5lp3896zh0000gq/T/ipykernel_90502/228655152.py:20: FutureWarning: The frame.append method is deprecated and will be removed from pandas in a future version. Use pandas.concat instead.\n",
      "  stat_result = stat_result.append(pd.DataFrame({'t': [fit[0]], 'p': [fit[1]], 'date': current_date}))\n",
      "/var/folders/cg/z1gdqpsx1qq3lyb5lp3896zh0000gq/T/ipykernel_90502/228655152.py:26: FutureWarning: The frame.append method is deprecated and will be removed from pandas in a future version. Use pandas.concat instead.\n",
      "  daily_data = daily_data.append(current_data_stat)\n",
      "/var/folders/cg/z1gdqpsx1qq3lyb5lp3896zh0000gq/T/ipykernel_90502/228655152.py:15: FutureWarning: The frame.append method is deprecated and will be removed from pandas in a future version. Use pandas.concat instead.\n",
      "  user_data = user_data.append(day_data_experiment).append(day_data_control)\n",
      "/var/folders/cg/z1gdqpsx1qq3lyb5lp3896zh0000gq/T/ipykernel_90502/228655152.py:15: FutureWarning: The frame.append method is deprecated and will be removed from pandas in a future version. Use pandas.concat instead.\n",
      "  user_data = user_data.append(day_data_experiment).append(day_data_control)\n",
      "/var/folders/cg/z1gdqpsx1qq3lyb5lp3896zh0000gq/T/ipykernel_90502/228655152.py:20: FutureWarning: The frame.append method is deprecated and will be removed from pandas in a future version. Use pandas.concat instead.\n",
      "  stat_result = stat_result.append(pd.DataFrame({'t': [fit[0]], 'p': [fit[1]], 'date': current_date}))\n",
      "/var/folders/cg/z1gdqpsx1qq3lyb5lp3896zh0000gq/T/ipykernel_90502/228655152.py:26: FutureWarning: The frame.append method is deprecated and will be removed from pandas in a future version. Use pandas.concat instead.\n",
      "  daily_data = daily_data.append(current_data_stat)\n",
      "/var/folders/cg/z1gdqpsx1qq3lyb5lp3896zh0000gq/T/ipykernel_90502/228655152.py:15: FutureWarning: The frame.append method is deprecated and will be removed from pandas in a future version. Use pandas.concat instead.\n",
      "  user_data = user_data.append(day_data_experiment).append(day_data_control)\n",
      "/var/folders/cg/z1gdqpsx1qq3lyb5lp3896zh0000gq/T/ipykernel_90502/228655152.py:15: FutureWarning: The frame.append method is deprecated and will be removed from pandas in a future version. Use pandas.concat instead.\n",
      "  user_data = user_data.append(day_data_experiment).append(day_data_control)\n",
      "/var/folders/cg/z1gdqpsx1qq3lyb5lp3896zh0000gq/T/ipykernel_90502/228655152.py:20: FutureWarning: The frame.append method is deprecated and will be removed from pandas in a future version. Use pandas.concat instead.\n",
      "  stat_result = stat_result.append(pd.DataFrame({'t': [fit[0]], 'p': [fit[1]], 'date': current_date}))\n",
      "/var/folders/cg/z1gdqpsx1qq3lyb5lp3896zh0000gq/T/ipykernel_90502/228655152.py:26: FutureWarning: The frame.append method is deprecated and will be removed from pandas in a future version. Use pandas.concat instead.\n",
      "  daily_data = daily_data.append(current_data_stat)\n",
      "/var/folders/cg/z1gdqpsx1qq3lyb5lp3896zh0000gq/T/ipykernel_90502/228655152.py:15: FutureWarning: The frame.append method is deprecated and will be removed from pandas in a future version. Use pandas.concat instead.\n",
      "  user_data = user_data.append(day_data_experiment).append(day_data_control)\n",
      "/var/folders/cg/z1gdqpsx1qq3lyb5lp3896zh0000gq/T/ipykernel_90502/228655152.py:15: FutureWarning: The frame.append method is deprecated and will be removed from pandas in a future version. Use pandas.concat instead.\n",
      "  user_data = user_data.append(day_data_experiment).append(day_data_control)\n",
      "/var/folders/cg/z1gdqpsx1qq3lyb5lp3896zh0000gq/T/ipykernel_90502/228655152.py:20: FutureWarning: The frame.append method is deprecated and will be removed from pandas in a future version. Use pandas.concat instead.\n",
      "  stat_result = stat_result.append(pd.DataFrame({'t': [fit[0]], 'p': [fit[1]], 'date': current_date}))\n",
      "/var/folders/cg/z1gdqpsx1qq3lyb5lp3896zh0000gq/T/ipykernel_90502/228655152.py:26: FutureWarning: The frame.append method is deprecated and will be removed from pandas in a future version. Use pandas.concat instead.\n",
      "  daily_data = daily_data.append(current_data_stat)\n",
      "/var/folders/cg/z1gdqpsx1qq3lyb5lp3896zh0000gq/T/ipykernel_90502/228655152.py:15: FutureWarning: The frame.append method is deprecated and will be removed from pandas in a future version. Use pandas.concat instead.\n",
      "  user_data = user_data.append(day_data_experiment).append(day_data_control)\n",
      "/var/folders/cg/z1gdqpsx1qq3lyb5lp3896zh0000gq/T/ipykernel_90502/228655152.py:15: FutureWarning: The frame.append method is deprecated and will be removed from pandas in a future version. Use pandas.concat instead.\n",
      "  user_data = user_data.append(day_data_experiment).append(day_data_control)\n",
      "/var/folders/cg/z1gdqpsx1qq3lyb5lp3896zh0000gq/T/ipykernel_90502/228655152.py:20: FutureWarning: The frame.append method is deprecated and will be removed from pandas in a future version. Use pandas.concat instead.\n",
      "  stat_result = stat_result.append(pd.DataFrame({'t': [fit[0]], 'p': [fit[1]], 'date': current_date}))\n",
      "/var/folders/cg/z1gdqpsx1qq3lyb5lp3896zh0000gq/T/ipykernel_90502/228655152.py:26: FutureWarning: The frame.append method is deprecated and will be removed from pandas in a future version. Use pandas.concat instead.\n",
      "  daily_data = daily_data.append(current_data_stat)\n",
      "/var/folders/cg/z1gdqpsx1qq3lyb5lp3896zh0000gq/T/ipykernel_90502/228655152.py:15: FutureWarning: The frame.append method is deprecated and will be removed from pandas in a future version. Use pandas.concat instead.\n",
      "  user_data = user_data.append(day_data_experiment).append(day_data_control)\n",
      "/var/folders/cg/z1gdqpsx1qq3lyb5lp3896zh0000gq/T/ipykernel_90502/228655152.py:15: FutureWarning: The frame.append method is deprecated and will be removed from pandas in a future version. Use pandas.concat instead.\n",
      "  user_data = user_data.append(day_data_experiment).append(day_data_control)\n",
      "/var/folders/cg/z1gdqpsx1qq3lyb5lp3896zh0000gq/T/ipykernel_90502/228655152.py:20: FutureWarning: The frame.append method is deprecated and will be removed from pandas in a future version. Use pandas.concat instead.\n",
      "  stat_result = stat_result.append(pd.DataFrame({'t': [fit[0]], 'p': [fit[1]], 'date': current_date}))\n",
      "/var/folders/cg/z1gdqpsx1qq3lyb5lp3896zh0000gq/T/ipykernel_90502/228655152.py:26: FutureWarning: The frame.append method is deprecated and will be removed from pandas in a future version. Use pandas.concat instead.\n",
      "  daily_data = daily_data.append(current_data_stat)\n",
      "/var/folders/cg/z1gdqpsx1qq3lyb5lp3896zh0000gq/T/ipykernel_90502/228655152.py:15: FutureWarning: The frame.append method is deprecated and will be removed from pandas in a future version. Use pandas.concat instead.\n",
      "  user_data = user_data.append(day_data_experiment).append(day_data_control)\n",
      "/var/folders/cg/z1gdqpsx1qq3lyb5lp3896zh0000gq/T/ipykernel_90502/228655152.py:15: FutureWarning: The frame.append method is deprecated and will be removed from pandas in a future version. Use pandas.concat instead.\n",
      "  user_data = user_data.append(day_data_experiment).append(day_data_control)\n",
      "/var/folders/cg/z1gdqpsx1qq3lyb5lp3896zh0000gq/T/ipykernel_90502/228655152.py:20: FutureWarning: The frame.append method is deprecated and will be removed from pandas in a future version. Use pandas.concat instead.\n",
      "  stat_result = stat_result.append(pd.DataFrame({'t': [fit[0]], 'p': [fit[1]], 'date': current_date}))\n",
      "/var/folders/cg/z1gdqpsx1qq3lyb5lp3896zh0000gq/T/ipykernel_90502/228655152.py:26: FutureWarning: The frame.append method is deprecated and will be removed from pandas in a future version. Use pandas.concat instead.\n",
      "  daily_data = daily_data.append(current_data_stat)\n",
      "/var/folders/cg/z1gdqpsx1qq3lyb5lp3896zh0000gq/T/ipykernel_90502/228655152.py:15: FutureWarning: The frame.append method is deprecated and will be removed from pandas in a future version. Use pandas.concat instead.\n",
      "  user_data = user_data.append(day_data_experiment).append(day_data_control)\n",
      "/var/folders/cg/z1gdqpsx1qq3lyb5lp3896zh0000gq/T/ipykernel_90502/228655152.py:15: FutureWarning: The frame.append method is deprecated and will be removed from pandas in a future version. Use pandas.concat instead.\n",
      "  user_data = user_data.append(day_data_experiment).append(day_data_control)\n",
      "/var/folders/cg/z1gdqpsx1qq3lyb5lp3896zh0000gq/T/ipykernel_90502/228655152.py:20: FutureWarning: The frame.append method is deprecated and will be removed from pandas in a future version. Use pandas.concat instead.\n",
      "  stat_result = stat_result.append(pd.DataFrame({'t': [fit[0]], 'p': [fit[1]], 'date': current_date}))\n",
      "/var/folders/cg/z1gdqpsx1qq3lyb5lp3896zh0000gq/T/ipykernel_90502/228655152.py:26: FutureWarning: The frame.append method is deprecated and will be removed from pandas in a future version. Use pandas.concat instead.\n",
      "  daily_data = daily_data.append(current_data_stat)\n",
      "/var/folders/cg/z1gdqpsx1qq3lyb5lp3896zh0000gq/T/ipykernel_90502/228655152.py:15: FutureWarning: The frame.append method is deprecated and will be removed from pandas in a future version. Use pandas.concat instead.\n",
      "  user_data = user_data.append(day_data_experiment).append(day_data_control)\n",
      "/var/folders/cg/z1gdqpsx1qq3lyb5lp3896zh0000gq/T/ipykernel_90502/228655152.py:15: FutureWarning: The frame.append method is deprecated and will be removed from pandas in a future version. Use pandas.concat instead.\n",
      "  user_data = user_data.append(day_data_experiment).append(day_data_control)\n",
      "/var/folders/cg/z1gdqpsx1qq3lyb5lp3896zh0000gq/T/ipykernel_90502/228655152.py:20: FutureWarning: The frame.append method is deprecated and will be removed from pandas in a future version. Use pandas.concat instead.\n",
      "  stat_result = stat_result.append(pd.DataFrame({'t': [fit[0]], 'p': [fit[1]], 'date': current_date}))\n",
      "/var/folders/cg/z1gdqpsx1qq3lyb5lp3896zh0000gq/T/ipykernel_90502/228655152.py:26: FutureWarning: The frame.append method is deprecated and will be removed from pandas in a future version. Use pandas.concat instead.\n",
      "  daily_data = daily_data.append(current_data_stat)\n",
      "/var/folders/cg/z1gdqpsx1qq3lyb5lp3896zh0000gq/T/ipykernel_90502/228655152.py:15: FutureWarning: The frame.append method is deprecated and will be removed from pandas in a future version. Use pandas.concat instead.\n",
      "  user_data = user_data.append(day_data_experiment).append(day_data_control)\n",
      "/var/folders/cg/z1gdqpsx1qq3lyb5lp3896zh0000gq/T/ipykernel_90502/228655152.py:15: FutureWarning: The frame.append method is deprecated and will be removed from pandas in a future version. Use pandas.concat instead.\n",
      "  user_data = user_data.append(day_data_experiment).append(day_data_control)\n",
      "/var/folders/cg/z1gdqpsx1qq3lyb5lp3896zh0000gq/T/ipykernel_90502/228655152.py:20: FutureWarning: The frame.append method is deprecated and will be removed from pandas in a future version. Use pandas.concat instead.\n",
      "  stat_result = stat_result.append(pd.DataFrame({'t': [fit[0]], 'p': [fit[1]], 'date': current_date}))\n",
      "/var/folders/cg/z1gdqpsx1qq3lyb5lp3896zh0000gq/T/ipykernel_90502/228655152.py:26: FutureWarning: The frame.append method is deprecated and will be removed from pandas in a future version. Use pandas.concat instead.\n",
      "  daily_data = daily_data.append(current_data_stat)\n",
      "/var/folders/cg/z1gdqpsx1qq3lyb5lp3896zh0000gq/T/ipykernel_90502/228655152.py:15: FutureWarning: The frame.append method is deprecated and will be removed from pandas in a future version. Use pandas.concat instead.\n",
      "  user_data = user_data.append(day_data_experiment).append(day_data_control)\n",
      "/var/folders/cg/z1gdqpsx1qq3lyb5lp3896zh0000gq/T/ipykernel_90502/228655152.py:15: FutureWarning: The frame.append method is deprecated and will be removed from pandas in a future version. Use pandas.concat instead.\n",
      "  user_data = user_data.append(day_data_experiment).append(day_data_control)\n",
      "/var/folders/cg/z1gdqpsx1qq3lyb5lp3896zh0000gq/T/ipykernel_90502/228655152.py:20: FutureWarning: The frame.append method is deprecated and will be removed from pandas in a future version. Use pandas.concat instead.\n",
      "  stat_result = stat_result.append(pd.DataFrame({'t': [fit[0]], 'p': [fit[1]], 'date': current_date}))\n",
      "/var/folders/cg/z1gdqpsx1qq3lyb5lp3896zh0000gq/T/ipykernel_90502/228655152.py:26: FutureWarning: The frame.append method is deprecated and will be removed from pandas in a future version. Use pandas.concat instead.\n",
      "  daily_data = daily_data.append(current_data_stat)\n",
      "/var/folders/cg/z1gdqpsx1qq3lyb5lp3896zh0000gq/T/ipykernel_90502/228655152.py:15: FutureWarning: The frame.append method is deprecated and will be removed from pandas in a future version. Use pandas.concat instead.\n",
      "  user_data = user_data.append(day_data_experiment).append(day_data_control)\n",
      "/var/folders/cg/z1gdqpsx1qq3lyb5lp3896zh0000gq/T/ipykernel_90502/228655152.py:15: FutureWarning: The frame.append method is deprecated and will be removed from pandas in a future version. Use pandas.concat instead.\n",
      "  user_data = user_data.append(day_data_experiment).append(day_data_control)\n",
      "/var/folders/cg/z1gdqpsx1qq3lyb5lp3896zh0000gq/T/ipykernel_90502/228655152.py:20: FutureWarning: The frame.append method is deprecated and will be removed from pandas in a future version. Use pandas.concat instead.\n",
      "  stat_result = stat_result.append(pd.DataFrame({'t': [fit[0]], 'p': [fit[1]], 'date': current_date}))\n",
      "/var/folders/cg/z1gdqpsx1qq3lyb5lp3896zh0000gq/T/ipykernel_90502/228655152.py:26: FutureWarning: The frame.append method is deprecated and will be removed from pandas in a future version. Use pandas.concat instead.\n",
      "  daily_data = daily_data.append(current_data_stat)\n",
      "/var/folders/cg/z1gdqpsx1qq3lyb5lp3896zh0000gq/T/ipykernel_90502/228655152.py:15: FutureWarning: The frame.append method is deprecated and will be removed from pandas in a future version. Use pandas.concat instead.\n",
      "  user_data = user_data.append(day_data_experiment).append(day_data_control)\n",
      "/var/folders/cg/z1gdqpsx1qq3lyb5lp3896zh0000gq/T/ipykernel_90502/228655152.py:15: FutureWarning: The frame.append method is deprecated and will be removed from pandas in a future version. Use pandas.concat instead.\n",
      "  user_data = user_data.append(day_data_experiment).append(day_data_control)\n",
      "/var/folders/cg/z1gdqpsx1qq3lyb5lp3896zh0000gq/T/ipykernel_90502/228655152.py:20: FutureWarning: The frame.append method is deprecated and will be removed from pandas in a future version. Use pandas.concat instead.\n",
      "  stat_result = stat_result.append(pd.DataFrame({'t': [fit[0]], 'p': [fit[1]], 'date': current_date}))\n",
      "/var/folders/cg/z1gdqpsx1qq3lyb5lp3896zh0000gq/T/ipykernel_90502/228655152.py:26: FutureWarning: The frame.append method is deprecated and will be removed from pandas in a future version. Use pandas.concat instead.\n",
      "  daily_data = daily_data.append(current_data_stat)\n",
      "/var/folders/cg/z1gdqpsx1qq3lyb5lp3896zh0000gq/T/ipykernel_90502/228655152.py:15: FutureWarning: The frame.append method is deprecated and will be removed from pandas in a future version. Use pandas.concat instead.\n",
      "  user_data = user_data.append(day_data_experiment).append(day_data_control)\n",
      "/var/folders/cg/z1gdqpsx1qq3lyb5lp3896zh0000gq/T/ipykernel_90502/228655152.py:15: FutureWarning: The frame.append method is deprecated and will be removed from pandas in a future version. Use pandas.concat instead.\n",
      "  user_data = user_data.append(day_data_experiment).append(day_data_control)\n",
      "/var/folders/cg/z1gdqpsx1qq3lyb5lp3896zh0000gq/T/ipykernel_90502/228655152.py:20: FutureWarning: The frame.append method is deprecated and will be removed from pandas in a future version. Use pandas.concat instead.\n",
      "  stat_result = stat_result.append(pd.DataFrame({'t': [fit[0]], 'p': [fit[1]], 'date': current_date}))\n",
      "/var/folders/cg/z1gdqpsx1qq3lyb5lp3896zh0000gq/T/ipykernel_90502/228655152.py:26: FutureWarning: The frame.append method is deprecated and will be removed from pandas in a future version. Use pandas.concat instead.\n",
      "  daily_data = daily_data.append(current_data_stat)\n",
      "/var/folders/cg/z1gdqpsx1qq3lyb5lp3896zh0000gq/T/ipykernel_90502/228655152.py:15: FutureWarning: The frame.append method is deprecated and will be removed from pandas in a future version. Use pandas.concat instead.\n",
      "  user_data = user_data.append(day_data_experiment).append(day_data_control)\n",
      "/var/folders/cg/z1gdqpsx1qq3lyb5lp3896zh0000gq/T/ipykernel_90502/228655152.py:15: FutureWarning: The frame.append method is deprecated and will be removed from pandas in a future version. Use pandas.concat instead.\n",
      "  user_data = user_data.append(day_data_experiment).append(day_data_control)\n",
      "/var/folders/cg/z1gdqpsx1qq3lyb5lp3896zh0000gq/T/ipykernel_90502/228655152.py:20: FutureWarning: The frame.append method is deprecated and will be removed from pandas in a future version. Use pandas.concat instead.\n",
      "  stat_result = stat_result.append(pd.DataFrame({'t': [fit[0]], 'p': [fit[1]], 'date': current_date}))\n",
      "/var/folders/cg/z1gdqpsx1qq3lyb5lp3896zh0000gq/T/ipykernel_90502/228655152.py:26: FutureWarning: The frame.append method is deprecated and will be removed from pandas in a future version. Use pandas.concat instead.\n",
      "  daily_data = daily_data.append(current_data_stat)\n",
      "/var/folders/cg/z1gdqpsx1qq3lyb5lp3896zh0000gq/T/ipykernel_90502/228655152.py:15: FutureWarning: The frame.append method is deprecated and will be removed from pandas in a future version. Use pandas.concat instead.\n",
      "  user_data = user_data.append(day_data_experiment).append(day_data_control)\n",
      "/var/folders/cg/z1gdqpsx1qq3lyb5lp3896zh0000gq/T/ipykernel_90502/228655152.py:15: FutureWarning: The frame.append method is deprecated and will be removed from pandas in a future version. Use pandas.concat instead.\n",
      "  user_data = user_data.append(day_data_experiment).append(day_data_control)\n",
      "/var/folders/cg/z1gdqpsx1qq3lyb5lp3896zh0000gq/T/ipykernel_90502/228655152.py:20: FutureWarning: The frame.append method is deprecated and will be removed from pandas in a future version. Use pandas.concat instead.\n",
      "  stat_result = stat_result.append(pd.DataFrame({'t': [fit[0]], 'p': [fit[1]], 'date': current_date}))\n",
      "/var/folders/cg/z1gdqpsx1qq3lyb5lp3896zh0000gq/T/ipykernel_90502/228655152.py:26: FutureWarning: The frame.append method is deprecated and will be removed from pandas in a future version. Use pandas.concat instead.\n",
      "  daily_data = daily_data.append(current_data_stat)\n",
      "/var/folders/cg/z1gdqpsx1qq3lyb5lp3896zh0000gq/T/ipykernel_90502/228655152.py:15: FutureWarning: The frame.append method is deprecated and will be removed from pandas in a future version. Use pandas.concat instead.\n",
      "  user_data = user_data.append(day_data_experiment).append(day_data_control)\n",
      "/var/folders/cg/z1gdqpsx1qq3lyb5lp3896zh0000gq/T/ipykernel_90502/228655152.py:15: FutureWarning: The frame.append method is deprecated and will be removed from pandas in a future version. Use pandas.concat instead.\n",
      "  user_data = user_data.append(day_data_experiment).append(day_data_control)\n",
      "/var/folders/cg/z1gdqpsx1qq3lyb5lp3896zh0000gq/T/ipykernel_90502/228655152.py:20: FutureWarning: The frame.append method is deprecated and will be removed from pandas in a future version. Use pandas.concat instead.\n",
      "  stat_result = stat_result.append(pd.DataFrame({'t': [fit[0]], 'p': [fit[1]], 'date': current_date}))\n",
      "/var/folders/cg/z1gdqpsx1qq3lyb5lp3896zh0000gq/T/ipykernel_90502/228655152.py:26: FutureWarning: The frame.append method is deprecated and will be removed from pandas in a future version. Use pandas.concat instead.\n",
      "  daily_data = daily_data.append(current_data_stat)\n",
      "/var/folders/cg/z1gdqpsx1qq3lyb5lp3896zh0000gq/T/ipykernel_90502/228655152.py:15: FutureWarning: The frame.append method is deprecated and will be removed from pandas in a future version. Use pandas.concat instead.\n",
      "  user_data = user_data.append(day_data_experiment).append(day_data_control)\n",
      "/var/folders/cg/z1gdqpsx1qq3lyb5lp3896zh0000gq/T/ipykernel_90502/228655152.py:15: FutureWarning: The frame.append method is deprecated and will be removed from pandas in a future version. Use pandas.concat instead.\n",
      "  user_data = user_data.append(day_data_experiment).append(day_data_control)\n",
      "/var/folders/cg/z1gdqpsx1qq3lyb5lp3896zh0000gq/T/ipykernel_90502/228655152.py:20: FutureWarning: The frame.append method is deprecated and will be removed from pandas in a future version. Use pandas.concat instead.\n",
      "  stat_result = stat_result.append(pd.DataFrame({'t': [fit[0]], 'p': [fit[1]], 'date': current_date}))\n",
      "/var/folders/cg/z1gdqpsx1qq3lyb5lp3896zh0000gq/T/ipykernel_90502/228655152.py:26: FutureWarning: The frame.append method is deprecated and will be removed from pandas in a future version. Use pandas.concat instead.\n",
      "  daily_data = daily_data.append(current_data_stat)\n",
      "/var/folders/cg/z1gdqpsx1qq3lyb5lp3896zh0000gq/T/ipykernel_90502/228655152.py:15: FutureWarning: The frame.append method is deprecated and will be removed from pandas in a future version. Use pandas.concat instead.\n",
      "  user_data = user_data.append(day_data_experiment).append(day_data_control)\n",
      "/var/folders/cg/z1gdqpsx1qq3lyb5lp3896zh0000gq/T/ipykernel_90502/228655152.py:15: FutureWarning: The frame.append method is deprecated and will be removed from pandas in a future version. Use pandas.concat instead.\n",
      "  user_data = user_data.append(day_data_experiment).append(day_data_control)\n",
      "/var/folders/cg/z1gdqpsx1qq3lyb5lp3896zh0000gq/T/ipykernel_90502/228655152.py:20: FutureWarning: The frame.append method is deprecated and will be removed from pandas in a future version. Use pandas.concat instead.\n",
      "  stat_result = stat_result.append(pd.DataFrame({'t': [fit[0]], 'p': [fit[1]], 'date': current_date}))\n",
      "/var/folders/cg/z1gdqpsx1qq3lyb5lp3896zh0000gq/T/ipykernel_90502/228655152.py:26: FutureWarning: The frame.append method is deprecated and will be removed from pandas in a future version. Use pandas.concat instead.\n",
      "  daily_data = daily_data.append(current_data_stat)\n",
      "/var/folders/cg/z1gdqpsx1qq3lyb5lp3896zh0000gq/T/ipykernel_90502/228655152.py:15: FutureWarning: The frame.append method is deprecated and will be removed from pandas in a future version. Use pandas.concat instead.\n",
      "  user_data = user_data.append(day_data_experiment).append(day_data_control)\n",
      "/var/folders/cg/z1gdqpsx1qq3lyb5lp3896zh0000gq/T/ipykernel_90502/228655152.py:15: FutureWarning: The frame.append method is deprecated and will be removed from pandas in a future version. Use pandas.concat instead.\n",
      "  user_data = user_data.append(day_data_experiment).append(day_data_control)\n",
      "/var/folders/cg/z1gdqpsx1qq3lyb5lp3896zh0000gq/T/ipykernel_90502/228655152.py:20: FutureWarning: The frame.append method is deprecated and will be removed from pandas in a future version. Use pandas.concat instead.\n",
      "  stat_result = stat_result.append(pd.DataFrame({'t': [fit[0]], 'p': [fit[1]], 'date': current_date}))\n",
      "/var/folders/cg/z1gdqpsx1qq3lyb5lp3896zh0000gq/T/ipykernel_90502/228655152.py:26: FutureWarning: The frame.append method is deprecated and will be removed from pandas in a future version. Use pandas.concat instead.\n",
      "  daily_data = daily_data.append(current_data_stat)\n",
      "/var/folders/cg/z1gdqpsx1qq3lyb5lp3896zh0000gq/T/ipykernel_90502/228655152.py:15: FutureWarning: The frame.append method is deprecated and will be removed from pandas in a future version. Use pandas.concat instead.\n",
      "  user_data = user_data.append(day_data_experiment).append(day_data_control)\n",
      "/var/folders/cg/z1gdqpsx1qq3lyb5lp3896zh0000gq/T/ipykernel_90502/228655152.py:15: FutureWarning: The frame.append method is deprecated and will be removed from pandas in a future version. Use pandas.concat instead.\n",
      "  user_data = user_data.append(day_data_experiment).append(day_data_control)\n",
      "/var/folders/cg/z1gdqpsx1qq3lyb5lp3896zh0000gq/T/ipykernel_90502/228655152.py:20: FutureWarning: The frame.append method is deprecated and will be removed from pandas in a future version. Use pandas.concat instead.\n",
      "  stat_result = stat_result.append(pd.DataFrame({'t': [fit[0]], 'p': [fit[1]], 'date': current_date}))\n",
      "/var/folders/cg/z1gdqpsx1qq3lyb5lp3896zh0000gq/T/ipykernel_90502/228655152.py:26: FutureWarning: The frame.append method is deprecated and will be removed from pandas in a future version. Use pandas.concat instead.\n",
      "  daily_data = daily_data.append(current_data_stat)\n",
      "/var/folders/cg/z1gdqpsx1qq3lyb5lp3896zh0000gq/T/ipykernel_90502/228655152.py:15: FutureWarning: The frame.append method is deprecated and will be removed from pandas in a future version. Use pandas.concat instead.\n",
      "  user_data = user_data.append(day_data_experiment).append(day_data_control)\n",
      "/var/folders/cg/z1gdqpsx1qq3lyb5lp3896zh0000gq/T/ipykernel_90502/228655152.py:15: FutureWarning: The frame.append method is deprecated and will be removed from pandas in a future version. Use pandas.concat instead.\n",
      "  user_data = user_data.append(day_data_experiment).append(day_data_control)\n",
      "/var/folders/cg/z1gdqpsx1qq3lyb5lp3896zh0000gq/T/ipykernel_90502/228655152.py:20: FutureWarning: The frame.append method is deprecated and will be removed from pandas in a future version. Use pandas.concat instead.\n",
      "  stat_result = stat_result.append(pd.DataFrame({'t': [fit[0]], 'p': [fit[1]], 'date': current_date}))\n",
      "/var/folders/cg/z1gdqpsx1qq3lyb5lp3896zh0000gq/T/ipykernel_90502/228655152.py:26: FutureWarning: The frame.append method is deprecated and will be removed from pandas in a future version. Use pandas.concat instead.\n",
      "  daily_data = daily_data.append(current_data_stat)\n",
      "/var/folders/cg/z1gdqpsx1qq3lyb5lp3896zh0000gq/T/ipykernel_90502/228655152.py:15: FutureWarning: The frame.append method is deprecated and will be removed from pandas in a future version. Use pandas.concat instead.\n",
      "  user_data = user_data.append(day_data_experiment).append(day_data_control)\n",
      "/var/folders/cg/z1gdqpsx1qq3lyb5lp3896zh0000gq/T/ipykernel_90502/228655152.py:15: FutureWarning: The frame.append method is deprecated and will be removed from pandas in a future version. Use pandas.concat instead.\n",
      "  user_data = user_data.append(day_data_experiment).append(day_data_control)\n",
      "/var/folders/cg/z1gdqpsx1qq3lyb5lp3896zh0000gq/T/ipykernel_90502/228655152.py:20: FutureWarning: The frame.append method is deprecated and will be removed from pandas in a future version. Use pandas.concat instead.\n",
      "  stat_result = stat_result.append(pd.DataFrame({'t': [fit[0]], 'p': [fit[1]], 'date': current_date}))\n",
      "/var/folders/cg/z1gdqpsx1qq3lyb5lp3896zh0000gq/T/ipykernel_90502/228655152.py:26: FutureWarning: The frame.append method is deprecated and will be removed from pandas in a future version. Use pandas.concat instead.\n",
      "  daily_data = daily_data.append(current_data_stat)\n",
      "/var/folders/cg/z1gdqpsx1qq3lyb5lp3896zh0000gq/T/ipykernel_90502/228655152.py:15: FutureWarning: The frame.append method is deprecated and will be removed from pandas in a future version. Use pandas.concat instead.\n",
      "  user_data = user_data.append(day_data_experiment).append(day_data_control)\n",
      "/var/folders/cg/z1gdqpsx1qq3lyb5lp3896zh0000gq/T/ipykernel_90502/228655152.py:15: FutureWarning: The frame.append method is deprecated and will be removed from pandas in a future version. Use pandas.concat instead.\n",
      "  user_data = user_data.append(day_data_experiment).append(day_data_control)\n",
      "/var/folders/cg/z1gdqpsx1qq3lyb5lp3896zh0000gq/T/ipykernel_90502/228655152.py:20: FutureWarning: The frame.append method is deprecated and will be removed from pandas in a future version. Use pandas.concat instead.\n",
      "  stat_result = stat_result.append(pd.DataFrame({'t': [fit[0]], 'p': [fit[1]], 'date': current_date}))\n",
      "/var/folders/cg/z1gdqpsx1qq3lyb5lp3896zh0000gq/T/ipykernel_90502/228655152.py:26: FutureWarning: The frame.append method is deprecated and will be removed from pandas in a future version. Use pandas.concat instead.\n",
      "  daily_data = daily_data.append(current_data_stat)\n",
      "/var/folders/cg/z1gdqpsx1qq3lyb5lp3896zh0000gq/T/ipykernel_90502/228655152.py:15: FutureWarning: The frame.append method is deprecated and will be removed from pandas in a future version. Use pandas.concat instead.\n",
      "  user_data = user_data.append(day_data_experiment).append(day_data_control)\n",
      "/var/folders/cg/z1gdqpsx1qq3lyb5lp3896zh0000gq/T/ipykernel_90502/228655152.py:15: FutureWarning: The frame.append method is deprecated and will be removed from pandas in a future version. Use pandas.concat instead.\n",
      "  user_data = user_data.append(day_data_experiment).append(day_data_control)\n",
      "/var/folders/cg/z1gdqpsx1qq3lyb5lp3896zh0000gq/T/ipykernel_90502/228655152.py:20: FutureWarning: The frame.append method is deprecated and will be removed from pandas in a future version. Use pandas.concat instead.\n",
      "  stat_result = stat_result.append(pd.DataFrame({'t': [fit[0]], 'p': [fit[1]], 'date': current_date}))\n",
      "/var/folders/cg/z1gdqpsx1qq3lyb5lp3896zh0000gq/T/ipykernel_90502/228655152.py:26: FutureWarning: The frame.append method is deprecated and will be removed from pandas in a future version. Use pandas.concat instead.\n",
      "  daily_data = daily_data.append(current_data_stat)\n",
      "/var/folders/cg/z1gdqpsx1qq3lyb5lp3896zh0000gq/T/ipykernel_90502/228655152.py:15: FutureWarning: The frame.append method is deprecated and will be removed from pandas in a future version. Use pandas.concat instead.\n",
      "  user_data = user_data.append(day_data_experiment).append(day_data_control)\n",
      "/var/folders/cg/z1gdqpsx1qq3lyb5lp3896zh0000gq/T/ipykernel_90502/228655152.py:15: FutureWarning: The frame.append method is deprecated and will be removed from pandas in a future version. Use pandas.concat instead.\n",
      "  user_data = user_data.append(day_data_experiment).append(day_data_control)\n",
      "/var/folders/cg/z1gdqpsx1qq3lyb5lp3896zh0000gq/T/ipykernel_90502/228655152.py:20: FutureWarning: The frame.append method is deprecated and will be removed from pandas in a future version. Use pandas.concat instead.\n",
      "  stat_result = stat_result.append(pd.DataFrame({'t': [fit[0]], 'p': [fit[1]], 'date': current_date}))\n",
      "/var/folders/cg/z1gdqpsx1qq3lyb5lp3896zh0000gq/T/ipykernel_90502/228655152.py:26: FutureWarning: The frame.append method is deprecated and will be removed from pandas in a future version. Use pandas.concat instead.\n",
      "  daily_data = daily_data.append(current_data_stat)\n",
      "/var/folders/cg/z1gdqpsx1qq3lyb5lp3896zh0000gq/T/ipykernel_90502/228655152.py:15: FutureWarning: The frame.append method is deprecated and will be removed from pandas in a future version. Use pandas.concat instead.\n",
      "  user_data = user_data.append(day_data_experiment).append(day_data_control)\n",
      "/var/folders/cg/z1gdqpsx1qq3lyb5lp3896zh0000gq/T/ipykernel_90502/228655152.py:15: FutureWarning: The frame.append method is deprecated and will be removed from pandas in a future version. Use pandas.concat instead.\n",
      "  user_data = user_data.append(day_data_experiment).append(day_data_control)\n",
      "/var/folders/cg/z1gdqpsx1qq3lyb5lp3896zh0000gq/T/ipykernel_90502/228655152.py:20: FutureWarning: The frame.append method is deprecated and will be removed from pandas in a future version. Use pandas.concat instead.\n",
      "  stat_result = stat_result.append(pd.DataFrame({'t': [fit[0]], 'p': [fit[1]], 'date': current_date}))\n",
      "/var/folders/cg/z1gdqpsx1qq3lyb5lp3896zh0000gq/T/ipykernel_90502/228655152.py:26: FutureWarning: The frame.append method is deprecated and will be removed from pandas in a future version. Use pandas.concat instead.\n",
      "  daily_data = daily_data.append(current_data_stat)\n",
      "/var/folders/cg/z1gdqpsx1qq3lyb5lp3896zh0000gq/T/ipykernel_90502/228655152.py:15: FutureWarning: The frame.append method is deprecated and will be removed from pandas in a future version. Use pandas.concat instead.\n",
      "  user_data = user_data.append(day_data_experiment).append(day_data_control)\n",
      "/var/folders/cg/z1gdqpsx1qq3lyb5lp3896zh0000gq/T/ipykernel_90502/228655152.py:15: FutureWarning: The frame.append method is deprecated and will be removed from pandas in a future version. Use pandas.concat instead.\n",
      "  user_data = user_data.append(day_data_experiment).append(day_data_control)\n",
      "/var/folders/cg/z1gdqpsx1qq3lyb5lp3896zh0000gq/T/ipykernel_90502/228655152.py:20: FutureWarning: The frame.append method is deprecated and will be removed from pandas in a future version. Use pandas.concat instead.\n",
      "  stat_result = stat_result.append(pd.DataFrame({'t': [fit[0]], 'p': [fit[1]], 'date': current_date}))\n",
      "/var/folders/cg/z1gdqpsx1qq3lyb5lp3896zh0000gq/T/ipykernel_90502/228655152.py:26: FutureWarning: The frame.append method is deprecated and will be removed from pandas in a future version. Use pandas.concat instead.\n",
      "  daily_data = daily_data.append(current_data_stat)\n",
      "/var/folders/cg/z1gdqpsx1qq3lyb5lp3896zh0000gq/T/ipykernel_90502/228655152.py:15: FutureWarning: The frame.append method is deprecated and will be removed from pandas in a future version. Use pandas.concat instead.\n",
      "  user_data = user_data.append(day_data_experiment).append(day_data_control)\n",
      "/var/folders/cg/z1gdqpsx1qq3lyb5lp3896zh0000gq/T/ipykernel_90502/228655152.py:15: FutureWarning: The frame.append method is deprecated and will be removed from pandas in a future version. Use pandas.concat instead.\n",
      "  user_data = user_data.append(day_data_experiment).append(day_data_control)\n",
      "/var/folders/cg/z1gdqpsx1qq3lyb5lp3896zh0000gq/T/ipykernel_90502/228655152.py:20: FutureWarning: The frame.append method is deprecated and will be removed from pandas in a future version. Use pandas.concat instead.\n",
      "  stat_result = stat_result.append(pd.DataFrame({'t': [fit[0]], 'p': [fit[1]], 'date': current_date}))\n",
      "/var/folders/cg/z1gdqpsx1qq3lyb5lp3896zh0000gq/T/ipykernel_90502/228655152.py:26: FutureWarning: The frame.append method is deprecated and will be removed from pandas in a future version. Use pandas.concat instead.\n",
      "  daily_data = daily_data.append(current_data_stat)\n",
      "/var/folders/cg/z1gdqpsx1qq3lyb5lp3896zh0000gq/T/ipykernel_90502/228655152.py:15: FutureWarning: The frame.append method is deprecated and will be removed from pandas in a future version. Use pandas.concat instead.\n",
      "  user_data = user_data.append(day_data_experiment).append(day_data_control)\n",
      "/var/folders/cg/z1gdqpsx1qq3lyb5lp3896zh0000gq/T/ipykernel_90502/228655152.py:15: FutureWarning: The frame.append method is deprecated and will be removed from pandas in a future version. Use pandas.concat instead.\n",
      "  user_data = user_data.append(day_data_experiment).append(day_data_control)\n",
      "/var/folders/cg/z1gdqpsx1qq3lyb5lp3896zh0000gq/T/ipykernel_90502/228655152.py:20: FutureWarning: The frame.append method is deprecated and will be removed from pandas in a future version. Use pandas.concat instead.\n",
      "  stat_result = stat_result.append(pd.DataFrame({'t': [fit[0]], 'p': [fit[1]], 'date': current_date}))\n",
      "/var/folders/cg/z1gdqpsx1qq3lyb5lp3896zh0000gq/T/ipykernel_90502/228655152.py:26: FutureWarning: The frame.append method is deprecated and will be removed from pandas in a future version. Use pandas.concat instead.\n",
      "  daily_data = daily_data.append(current_data_stat)\n",
      "/var/folders/cg/z1gdqpsx1qq3lyb5lp3896zh0000gq/T/ipykernel_90502/228655152.py:15: FutureWarning: The frame.append method is deprecated and will be removed from pandas in a future version. Use pandas.concat instead.\n",
      "  user_data = user_data.append(day_data_experiment).append(day_data_control)\n",
      "/var/folders/cg/z1gdqpsx1qq3lyb5lp3896zh0000gq/T/ipykernel_90502/228655152.py:15: FutureWarning: The frame.append method is deprecated and will be removed from pandas in a future version. Use pandas.concat instead.\n",
      "  user_data = user_data.append(day_data_experiment).append(day_data_control)\n",
      "/var/folders/cg/z1gdqpsx1qq3lyb5lp3896zh0000gq/T/ipykernel_90502/228655152.py:20: FutureWarning: The frame.append method is deprecated and will be removed from pandas in a future version. Use pandas.concat instead.\n",
      "  stat_result = stat_result.append(pd.DataFrame({'t': [fit[0]], 'p': [fit[1]], 'date': current_date}))\n",
      "/var/folders/cg/z1gdqpsx1qq3lyb5lp3896zh0000gq/T/ipykernel_90502/228655152.py:26: FutureWarning: The frame.append method is deprecated and will be removed from pandas in a future version. Use pandas.concat instead.\n",
      "  daily_data = daily_data.append(current_data_stat)\n",
      "/var/folders/cg/z1gdqpsx1qq3lyb5lp3896zh0000gq/T/ipykernel_90502/228655152.py:15: FutureWarning: The frame.append method is deprecated and will be removed from pandas in a future version. Use pandas.concat instead.\n",
      "  user_data = user_data.append(day_data_experiment).append(day_data_control)\n",
      "/var/folders/cg/z1gdqpsx1qq3lyb5lp3896zh0000gq/T/ipykernel_90502/228655152.py:15: FutureWarning: The frame.append method is deprecated and will be removed from pandas in a future version. Use pandas.concat instead.\n",
      "  user_data = user_data.append(day_data_experiment).append(day_data_control)\n",
      "/var/folders/cg/z1gdqpsx1qq3lyb5lp3896zh0000gq/T/ipykernel_90502/228655152.py:20: FutureWarning: The frame.append method is deprecated and will be removed from pandas in a future version. Use pandas.concat instead.\n",
      "  stat_result = stat_result.append(pd.DataFrame({'t': [fit[0]], 'p': [fit[1]], 'date': current_date}))\n",
      "/var/folders/cg/z1gdqpsx1qq3lyb5lp3896zh0000gq/T/ipykernel_90502/228655152.py:26: FutureWarning: The frame.append method is deprecated and will be removed from pandas in a future version. Use pandas.concat instead.\n",
      "  daily_data = daily_data.append(current_data_stat)\n",
      "/var/folders/cg/z1gdqpsx1qq3lyb5lp3896zh0000gq/T/ipykernel_90502/228655152.py:15: FutureWarning: The frame.append method is deprecated and will be removed from pandas in a future version. Use pandas.concat instead.\n",
      "  user_data = user_data.append(day_data_experiment).append(day_data_control)\n",
      "/var/folders/cg/z1gdqpsx1qq3lyb5lp3896zh0000gq/T/ipykernel_90502/228655152.py:15: FutureWarning: The frame.append method is deprecated and will be removed from pandas in a future version. Use pandas.concat instead.\n",
      "  user_data = user_data.append(day_data_experiment).append(day_data_control)\n",
      "/var/folders/cg/z1gdqpsx1qq3lyb5lp3896zh0000gq/T/ipykernel_90502/228655152.py:20: FutureWarning: The frame.append method is deprecated and will be removed from pandas in a future version. Use pandas.concat instead.\n",
      "  stat_result = stat_result.append(pd.DataFrame({'t': [fit[0]], 'p': [fit[1]], 'date': current_date}))\n",
      "/var/folders/cg/z1gdqpsx1qq3lyb5lp3896zh0000gq/T/ipykernel_90502/228655152.py:26: FutureWarning: The frame.append method is deprecated and will be removed from pandas in a future version. Use pandas.concat instead.\n",
      "  daily_data = daily_data.append(current_data_stat)\n",
      "/var/folders/cg/z1gdqpsx1qq3lyb5lp3896zh0000gq/T/ipykernel_90502/228655152.py:15: FutureWarning: The frame.append method is deprecated and will be removed from pandas in a future version. Use pandas.concat instead.\n",
      "  user_data = user_data.append(day_data_experiment).append(day_data_control)\n"
     ]
    },
    {
     "name": "stderr",
     "output_type": "stream",
     "text": [
      "/var/folders/cg/z1gdqpsx1qq3lyb5lp3896zh0000gq/T/ipykernel_90502/228655152.py:15: FutureWarning: The frame.append method is deprecated and will be removed from pandas in a future version. Use pandas.concat instead.\n",
      "  user_data = user_data.append(day_data_experiment).append(day_data_control)\n",
      "/var/folders/cg/z1gdqpsx1qq3lyb5lp3896zh0000gq/T/ipykernel_90502/228655152.py:20: FutureWarning: The frame.append method is deprecated and will be removed from pandas in a future version. Use pandas.concat instead.\n",
      "  stat_result = stat_result.append(pd.DataFrame({'t': [fit[0]], 'p': [fit[1]], 'date': current_date}))\n",
      "/var/folders/cg/z1gdqpsx1qq3lyb5lp3896zh0000gq/T/ipykernel_90502/228655152.py:26: FutureWarning: The frame.append method is deprecated and will be removed from pandas in a future version. Use pandas.concat instead.\n",
      "  daily_data = daily_data.append(current_data_stat)\n",
      "/var/folders/cg/z1gdqpsx1qq3lyb5lp3896zh0000gq/T/ipykernel_90502/228655152.py:15: FutureWarning: The frame.append method is deprecated and will be removed from pandas in a future version. Use pandas.concat instead.\n",
      "  user_data = user_data.append(day_data_experiment).append(day_data_control)\n",
      "/var/folders/cg/z1gdqpsx1qq3lyb5lp3896zh0000gq/T/ipykernel_90502/228655152.py:15: FutureWarning: The frame.append method is deprecated and will be removed from pandas in a future version. Use pandas.concat instead.\n",
      "  user_data = user_data.append(day_data_experiment).append(day_data_control)\n",
      "/var/folders/cg/z1gdqpsx1qq3lyb5lp3896zh0000gq/T/ipykernel_90502/228655152.py:20: FutureWarning: The frame.append method is deprecated and will be removed from pandas in a future version. Use pandas.concat instead.\n",
      "  stat_result = stat_result.append(pd.DataFrame({'t': [fit[0]], 'p': [fit[1]], 'date': current_date}))\n",
      "/var/folders/cg/z1gdqpsx1qq3lyb5lp3896zh0000gq/T/ipykernel_90502/228655152.py:26: FutureWarning: The frame.append method is deprecated and will be removed from pandas in a future version. Use pandas.concat instead.\n",
      "  daily_data = daily_data.append(current_data_stat)\n",
      "/var/folders/cg/z1gdqpsx1qq3lyb5lp3896zh0000gq/T/ipykernel_90502/228655152.py:15: FutureWarning: The frame.append method is deprecated and will be removed from pandas in a future version. Use pandas.concat instead.\n",
      "  user_data = user_data.append(day_data_experiment).append(day_data_control)\n",
      "/var/folders/cg/z1gdqpsx1qq3lyb5lp3896zh0000gq/T/ipykernel_90502/228655152.py:15: FutureWarning: The frame.append method is deprecated and will be removed from pandas in a future version. Use pandas.concat instead.\n",
      "  user_data = user_data.append(day_data_experiment).append(day_data_control)\n",
      "/var/folders/cg/z1gdqpsx1qq3lyb5lp3896zh0000gq/T/ipykernel_90502/228655152.py:20: FutureWarning: The frame.append method is deprecated and will be removed from pandas in a future version. Use pandas.concat instead.\n",
      "  stat_result = stat_result.append(pd.DataFrame({'t': [fit[0]], 'p': [fit[1]], 'date': current_date}))\n",
      "/var/folders/cg/z1gdqpsx1qq3lyb5lp3896zh0000gq/T/ipykernel_90502/228655152.py:26: FutureWarning: The frame.append method is deprecated and will be removed from pandas in a future version. Use pandas.concat instead.\n",
      "  daily_data = daily_data.append(current_data_stat)\n",
      "/var/folders/cg/z1gdqpsx1qq3lyb5lp3896zh0000gq/T/ipykernel_90502/228655152.py:15: FutureWarning: The frame.append method is deprecated and will be removed from pandas in a future version. Use pandas.concat instead.\n",
      "  user_data = user_data.append(day_data_experiment).append(day_data_control)\n",
      "/var/folders/cg/z1gdqpsx1qq3lyb5lp3896zh0000gq/T/ipykernel_90502/228655152.py:15: FutureWarning: The frame.append method is deprecated and will be removed from pandas in a future version. Use pandas.concat instead.\n",
      "  user_data = user_data.append(day_data_experiment).append(day_data_control)\n",
      "/var/folders/cg/z1gdqpsx1qq3lyb5lp3896zh0000gq/T/ipykernel_90502/228655152.py:20: FutureWarning: The frame.append method is deprecated and will be removed from pandas in a future version. Use pandas.concat instead.\n",
      "  stat_result = stat_result.append(pd.DataFrame({'t': [fit[0]], 'p': [fit[1]], 'date': current_date}))\n",
      "/var/folders/cg/z1gdqpsx1qq3lyb5lp3896zh0000gq/T/ipykernel_90502/228655152.py:26: FutureWarning: The frame.append method is deprecated and will be removed from pandas in a future version. Use pandas.concat instead.\n",
      "  daily_data = daily_data.append(current_data_stat)\n",
      "/var/folders/cg/z1gdqpsx1qq3lyb5lp3896zh0000gq/T/ipykernel_90502/228655152.py:15: FutureWarning: The frame.append method is deprecated and will be removed from pandas in a future version. Use pandas.concat instead.\n",
      "  user_data = user_data.append(day_data_experiment).append(day_data_control)\n",
      "/var/folders/cg/z1gdqpsx1qq3lyb5lp3896zh0000gq/T/ipykernel_90502/228655152.py:15: FutureWarning: The frame.append method is deprecated and will be removed from pandas in a future version. Use pandas.concat instead.\n",
      "  user_data = user_data.append(day_data_experiment).append(day_data_control)\n",
      "/var/folders/cg/z1gdqpsx1qq3lyb5lp3896zh0000gq/T/ipykernel_90502/228655152.py:20: FutureWarning: The frame.append method is deprecated and will be removed from pandas in a future version. Use pandas.concat instead.\n",
      "  stat_result = stat_result.append(pd.DataFrame({'t': [fit[0]], 'p': [fit[1]], 'date': current_date}))\n",
      "/var/folders/cg/z1gdqpsx1qq3lyb5lp3896zh0000gq/T/ipykernel_90502/228655152.py:26: FutureWarning: The frame.append method is deprecated and will be removed from pandas in a future version. Use pandas.concat instead.\n",
      "  daily_data = daily_data.append(current_data_stat)\n",
      "/var/folders/cg/z1gdqpsx1qq3lyb5lp3896zh0000gq/T/ipykernel_90502/228655152.py:15: FutureWarning: The frame.append method is deprecated and will be removed from pandas in a future version. Use pandas.concat instead.\n",
      "  user_data = user_data.append(day_data_experiment).append(day_data_control)\n",
      "/var/folders/cg/z1gdqpsx1qq3lyb5lp3896zh0000gq/T/ipykernel_90502/228655152.py:15: FutureWarning: The frame.append method is deprecated and will be removed from pandas in a future version. Use pandas.concat instead.\n",
      "  user_data = user_data.append(day_data_experiment).append(day_data_control)\n",
      "/var/folders/cg/z1gdqpsx1qq3lyb5lp3896zh0000gq/T/ipykernel_90502/228655152.py:20: FutureWarning: The frame.append method is deprecated and will be removed from pandas in a future version. Use pandas.concat instead.\n",
      "  stat_result = stat_result.append(pd.DataFrame({'t': [fit[0]], 'p': [fit[1]], 'date': current_date}))\n",
      "/var/folders/cg/z1gdqpsx1qq3lyb5lp3896zh0000gq/T/ipykernel_90502/228655152.py:26: FutureWarning: The frame.append method is deprecated and will be removed from pandas in a future version. Use pandas.concat instead.\n",
      "  daily_data = daily_data.append(current_data_stat)\n",
      "/var/folders/cg/z1gdqpsx1qq3lyb5lp3896zh0000gq/T/ipykernel_90502/228655152.py:15: FutureWarning: The frame.append method is deprecated and will be removed from pandas in a future version. Use pandas.concat instead.\n",
      "  user_data = user_data.append(day_data_experiment).append(day_data_control)\n",
      "/var/folders/cg/z1gdqpsx1qq3lyb5lp3896zh0000gq/T/ipykernel_90502/228655152.py:15: FutureWarning: The frame.append method is deprecated and will be removed from pandas in a future version. Use pandas.concat instead.\n",
      "  user_data = user_data.append(day_data_experiment).append(day_data_control)\n",
      "/var/folders/cg/z1gdqpsx1qq3lyb5lp3896zh0000gq/T/ipykernel_90502/228655152.py:20: FutureWarning: The frame.append method is deprecated and will be removed from pandas in a future version. Use pandas.concat instead.\n",
      "  stat_result = stat_result.append(pd.DataFrame({'t': [fit[0]], 'p': [fit[1]], 'date': current_date}))\n",
      "/var/folders/cg/z1gdqpsx1qq3lyb5lp3896zh0000gq/T/ipykernel_90502/228655152.py:26: FutureWarning: The frame.append method is deprecated and will be removed from pandas in a future version. Use pandas.concat instead.\n",
      "  daily_data = daily_data.append(current_data_stat)\n",
      "/var/folders/cg/z1gdqpsx1qq3lyb5lp3896zh0000gq/T/ipykernel_90502/228655152.py:15: FutureWarning: The frame.append method is deprecated and will be removed from pandas in a future version. Use pandas.concat instead.\n",
      "  user_data = user_data.append(day_data_experiment).append(day_data_control)\n",
      "/var/folders/cg/z1gdqpsx1qq3lyb5lp3896zh0000gq/T/ipykernel_90502/228655152.py:15: FutureWarning: The frame.append method is deprecated and will be removed from pandas in a future version. Use pandas.concat instead.\n",
      "  user_data = user_data.append(day_data_experiment).append(day_data_control)\n",
      "/var/folders/cg/z1gdqpsx1qq3lyb5lp3896zh0000gq/T/ipykernel_90502/228655152.py:20: FutureWarning: The frame.append method is deprecated and will be removed from pandas in a future version. Use pandas.concat instead.\n",
      "  stat_result = stat_result.append(pd.DataFrame({'t': [fit[0]], 'p': [fit[1]], 'date': current_date}))\n",
      "/var/folders/cg/z1gdqpsx1qq3lyb5lp3896zh0000gq/T/ipykernel_90502/228655152.py:26: FutureWarning: The frame.append method is deprecated and will be removed from pandas in a future version. Use pandas.concat instead.\n",
      "  daily_data = daily_data.append(current_data_stat)\n",
      "/var/folders/cg/z1gdqpsx1qq3lyb5lp3896zh0000gq/T/ipykernel_90502/228655152.py:15: FutureWarning: The frame.append method is deprecated and will be removed from pandas in a future version. Use pandas.concat instead.\n",
      "  user_data = user_data.append(day_data_experiment).append(day_data_control)\n",
      "/var/folders/cg/z1gdqpsx1qq3lyb5lp3896zh0000gq/T/ipykernel_90502/228655152.py:15: FutureWarning: The frame.append method is deprecated and will be removed from pandas in a future version. Use pandas.concat instead.\n",
      "  user_data = user_data.append(day_data_experiment).append(day_data_control)\n",
      "/var/folders/cg/z1gdqpsx1qq3lyb5lp3896zh0000gq/T/ipykernel_90502/228655152.py:20: FutureWarning: The frame.append method is deprecated and will be removed from pandas in a future version. Use pandas.concat instead.\n",
      "  stat_result = stat_result.append(pd.DataFrame({'t': [fit[0]], 'p': [fit[1]], 'date': current_date}))\n",
      "/var/folders/cg/z1gdqpsx1qq3lyb5lp3896zh0000gq/T/ipykernel_90502/228655152.py:26: FutureWarning: The frame.append method is deprecated and will be removed from pandas in a future version. Use pandas.concat instead.\n",
      "  daily_data = daily_data.append(current_data_stat)\n",
      "/var/folders/cg/z1gdqpsx1qq3lyb5lp3896zh0000gq/T/ipykernel_90502/228655152.py:15: FutureWarning: The frame.append method is deprecated and will be removed from pandas in a future version. Use pandas.concat instead.\n",
      "  user_data = user_data.append(day_data_experiment).append(day_data_control)\n",
      "/var/folders/cg/z1gdqpsx1qq3lyb5lp3896zh0000gq/T/ipykernel_90502/228655152.py:15: FutureWarning: The frame.append method is deprecated and will be removed from pandas in a future version. Use pandas.concat instead.\n",
      "  user_data = user_data.append(day_data_experiment).append(day_data_control)\n",
      "/var/folders/cg/z1gdqpsx1qq3lyb5lp3896zh0000gq/T/ipykernel_90502/228655152.py:20: FutureWarning: The frame.append method is deprecated and will be removed from pandas in a future version. Use pandas.concat instead.\n",
      "  stat_result = stat_result.append(pd.DataFrame({'t': [fit[0]], 'p': [fit[1]], 'date': current_date}))\n",
      "/var/folders/cg/z1gdqpsx1qq3lyb5lp3896zh0000gq/T/ipykernel_90502/228655152.py:26: FutureWarning: The frame.append method is deprecated and will be removed from pandas in a future version. Use pandas.concat instead.\n",
      "  daily_data = daily_data.append(current_data_stat)\n",
      "/var/folders/cg/z1gdqpsx1qq3lyb5lp3896zh0000gq/T/ipykernel_90502/228655152.py:15: FutureWarning: The frame.append method is deprecated and will be removed from pandas in a future version. Use pandas.concat instead.\n",
      "  user_data = user_data.append(day_data_experiment).append(day_data_control)\n",
      "/var/folders/cg/z1gdqpsx1qq3lyb5lp3896zh0000gq/T/ipykernel_90502/228655152.py:15: FutureWarning: The frame.append method is deprecated and will be removed from pandas in a future version. Use pandas.concat instead.\n",
      "  user_data = user_data.append(day_data_experiment).append(day_data_control)\n",
      "/var/folders/cg/z1gdqpsx1qq3lyb5lp3896zh0000gq/T/ipykernel_90502/228655152.py:20: FutureWarning: The frame.append method is deprecated and will be removed from pandas in a future version. Use pandas.concat instead.\n",
      "  stat_result = stat_result.append(pd.DataFrame({'t': [fit[0]], 'p': [fit[1]], 'date': current_date}))\n",
      "/var/folders/cg/z1gdqpsx1qq3lyb5lp3896zh0000gq/T/ipykernel_90502/228655152.py:26: FutureWarning: The frame.append method is deprecated and will be removed from pandas in a future version. Use pandas.concat instead.\n",
      "  daily_data = daily_data.append(current_data_stat)\n",
      "/var/folders/cg/z1gdqpsx1qq3lyb5lp3896zh0000gq/T/ipykernel_90502/228655152.py:15: FutureWarning: The frame.append method is deprecated and will be removed from pandas in a future version. Use pandas.concat instead.\n",
      "  user_data = user_data.append(day_data_experiment).append(day_data_control)\n",
      "/var/folders/cg/z1gdqpsx1qq3lyb5lp3896zh0000gq/T/ipykernel_90502/228655152.py:15: FutureWarning: The frame.append method is deprecated and will be removed from pandas in a future version. Use pandas.concat instead.\n",
      "  user_data = user_data.append(day_data_experiment).append(day_data_control)\n",
      "/var/folders/cg/z1gdqpsx1qq3lyb5lp3896zh0000gq/T/ipykernel_90502/228655152.py:20: FutureWarning: The frame.append method is deprecated and will be removed from pandas in a future version. Use pandas.concat instead.\n",
      "  stat_result = stat_result.append(pd.DataFrame({'t': [fit[0]], 'p': [fit[1]], 'date': current_date}))\n",
      "/var/folders/cg/z1gdqpsx1qq3lyb5lp3896zh0000gq/T/ipykernel_90502/228655152.py:26: FutureWarning: The frame.append method is deprecated and will be removed from pandas in a future version. Use pandas.concat instead.\n",
      "  daily_data = daily_data.append(current_data_stat)\n",
      "/var/folders/cg/z1gdqpsx1qq3lyb5lp3896zh0000gq/T/ipykernel_90502/228655152.py:15: FutureWarning: The frame.append method is deprecated and will be removed from pandas in a future version. Use pandas.concat instead.\n",
      "  user_data = user_data.append(day_data_experiment).append(day_data_control)\n",
      "/var/folders/cg/z1gdqpsx1qq3lyb5lp3896zh0000gq/T/ipykernel_90502/228655152.py:15: FutureWarning: The frame.append method is deprecated and will be removed from pandas in a future version. Use pandas.concat instead.\n",
      "  user_data = user_data.append(day_data_experiment).append(day_data_control)\n",
      "/var/folders/cg/z1gdqpsx1qq3lyb5lp3896zh0000gq/T/ipykernel_90502/228655152.py:20: FutureWarning: The frame.append method is deprecated and will be removed from pandas in a future version. Use pandas.concat instead.\n",
      "  stat_result = stat_result.append(pd.DataFrame({'t': [fit[0]], 'p': [fit[1]], 'date': current_date}))\n",
      "/var/folders/cg/z1gdqpsx1qq3lyb5lp3896zh0000gq/T/ipykernel_90502/228655152.py:26: FutureWarning: The frame.append method is deprecated and will be removed from pandas in a future version. Use pandas.concat instead.\n",
      "  daily_data = daily_data.append(current_data_stat)\n",
      "/var/folders/cg/z1gdqpsx1qq3lyb5lp3896zh0000gq/T/ipykernel_90502/228655152.py:15: FutureWarning: The frame.append method is deprecated and will be removed from pandas in a future version. Use pandas.concat instead.\n",
      "  user_data = user_data.append(day_data_experiment).append(day_data_control)\n",
      "/var/folders/cg/z1gdqpsx1qq3lyb5lp3896zh0000gq/T/ipykernel_90502/228655152.py:15: FutureWarning: The frame.append method is deprecated and will be removed from pandas in a future version. Use pandas.concat instead.\n",
      "  user_data = user_data.append(day_data_experiment).append(day_data_control)\n",
      "/var/folders/cg/z1gdqpsx1qq3lyb5lp3896zh0000gq/T/ipykernel_90502/228655152.py:20: FutureWarning: The frame.append method is deprecated and will be removed from pandas in a future version. Use pandas.concat instead.\n",
      "  stat_result = stat_result.append(pd.DataFrame({'t': [fit[0]], 'p': [fit[1]], 'date': current_date}))\n",
      "/var/folders/cg/z1gdqpsx1qq3lyb5lp3896zh0000gq/T/ipykernel_90502/228655152.py:26: FutureWarning: The frame.append method is deprecated and will be removed from pandas in a future version. Use pandas.concat instead.\n",
      "  daily_data = daily_data.append(current_data_stat)\n",
      "/var/folders/cg/z1gdqpsx1qq3lyb5lp3896zh0000gq/T/ipykernel_90502/228655152.py:15: FutureWarning: The frame.append method is deprecated and will be removed from pandas in a future version. Use pandas.concat instead.\n",
      "  user_data = user_data.append(day_data_experiment).append(day_data_control)\n",
      "/var/folders/cg/z1gdqpsx1qq3lyb5lp3896zh0000gq/T/ipykernel_90502/228655152.py:15: FutureWarning: The frame.append method is deprecated and will be removed from pandas in a future version. Use pandas.concat instead.\n",
      "  user_data = user_data.append(day_data_experiment).append(day_data_control)\n",
      "/var/folders/cg/z1gdqpsx1qq3lyb5lp3896zh0000gq/T/ipykernel_90502/228655152.py:20: FutureWarning: The frame.append method is deprecated and will be removed from pandas in a future version. Use pandas.concat instead.\n",
      "  stat_result = stat_result.append(pd.DataFrame({'t': [fit[0]], 'p': [fit[1]], 'date': current_date}))\n",
      "/var/folders/cg/z1gdqpsx1qq3lyb5lp3896zh0000gq/T/ipykernel_90502/228655152.py:26: FutureWarning: The frame.append method is deprecated and will be removed from pandas in a future version. Use pandas.concat instead.\n",
      "  daily_data = daily_data.append(current_data_stat)\n",
      "/var/folders/cg/z1gdqpsx1qq3lyb5lp3896zh0000gq/T/ipykernel_90502/228655152.py:15: FutureWarning: The frame.append method is deprecated and will be removed from pandas in a future version. Use pandas.concat instead.\n",
      "  user_data = user_data.append(day_data_experiment).append(day_data_control)\n",
      "/var/folders/cg/z1gdqpsx1qq3lyb5lp3896zh0000gq/T/ipykernel_90502/228655152.py:15: FutureWarning: The frame.append method is deprecated and will be removed from pandas in a future version. Use pandas.concat instead.\n",
      "  user_data = user_data.append(day_data_experiment).append(day_data_control)\n",
      "/var/folders/cg/z1gdqpsx1qq3lyb5lp3896zh0000gq/T/ipykernel_90502/228655152.py:20: FutureWarning: The frame.append method is deprecated and will be removed from pandas in a future version. Use pandas.concat instead.\n",
      "  stat_result = stat_result.append(pd.DataFrame({'t': [fit[0]], 'p': [fit[1]], 'date': current_date}))\n",
      "/var/folders/cg/z1gdqpsx1qq3lyb5lp3896zh0000gq/T/ipykernel_90502/228655152.py:26: FutureWarning: The frame.append method is deprecated and will be removed from pandas in a future version. Use pandas.concat instead.\n",
      "  daily_data = daily_data.append(current_data_stat)\n",
      "/var/folders/cg/z1gdqpsx1qq3lyb5lp3896zh0000gq/T/ipykernel_90502/228655152.py:15: FutureWarning: The frame.append method is deprecated and will be removed from pandas in a future version. Use pandas.concat instead.\n",
      "  user_data = user_data.append(day_data_experiment).append(day_data_control)\n",
      "/var/folders/cg/z1gdqpsx1qq3lyb5lp3896zh0000gq/T/ipykernel_90502/228655152.py:15: FutureWarning: The frame.append method is deprecated and will be removed from pandas in a future version. Use pandas.concat instead.\n",
      "  user_data = user_data.append(day_data_experiment).append(day_data_control)\n",
      "/var/folders/cg/z1gdqpsx1qq3lyb5lp3896zh0000gq/T/ipykernel_90502/228655152.py:20: FutureWarning: The frame.append method is deprecated and will be removed from pandas in a future version. Use pandas.concat instead.\n",
      "  stat_result = stat_result.append(pd.DataFrame({'t': [fit[0]], 'p': [fit[1]], 'date': current_date}))\n",
      "/var/folders/cg/z1gdqpsx1qq3lyb5lp3896zh0000gq/T/ipykernel_90502/228655152.py:26: FutureWarning: The frame.append method is deprecated and will be removed from pandas in a future version. Use pandas.concat instead.\n",
      "  daily_data = daily_data.append(current_data_stat)\n",
      "/var/folders/cg/z1gdqpsx1qq3lyb5lp3896zh0000gq/T/ipykernel_90502/228655152.py:15: FutureWarning: The frame.append method is deprecated and will be removed from pandas in a future version. Use pandas.concat instead.\n",
      "  user_data = user_data.append(day_data_experiment).append(day_data_control)\n",
      "/var/folders/cg/z1gdqpsx1qq3lyb5lp3896zh0000gq/T/ipykernel_90502/228655152.py:15: FutureWarning: The frame.append method is deprecated and will be removed from pandas in a future version. Use pandas.concat instead.\n",
      "  user_data = user_data.append(day_data_experiment).append(day_data_control)\n",
      "/var/folders/cg/z1gdqpsx1qq3lyb5lp3896zh0000gq/T/ipykernel_90502/228655152.py:20: FutureWarning: The frame.append method is deprecated and will be removed from pandas in a future version. Use pandas.concat instead.\n",
      "  stat_result = stat_result.append(pd.DataFrame({'t': [fit[0]], 'p': [fit[1]], 'date': current_date}))\n",
      "/var/folders/cg/z1gdqpsx1qq3lyb5lp3896zh0000gq/T/ipykernel_90502/228655152.py:26: FutureWarning: The frame.append method is deprecated and will be removed from pandas in a future version. Use pandas.concat instead.\n",
      "  daily_data = daily_data.append(current_data_stat)\n",
      "/var/folders/cg/z1gdqpsx1qq3lyb5lp3896zh0000gq/T/ipykernel_90502/228655152.py:15: FutureWarning: The frame.append method is deprecated and will be removed from pandas in a future version. Use pandas.concat instead.\n",
      "  user_data = user_data.append(day_data_experiment).append(day_data_control)\n",
      "/var/folders/cg/z1gdqpsx1qq3lyb5lp3896zh0000gq/T/ipykernel_90502/228655152.py:15: FutureWarning: The frame.append method is deprecated and will be removed from pandas in a future version. Use pandas.concat instead.\n",
      "  user_data = user_data.append(day_data_experiment).append(day_data_control)\n",
      "/var/folders/cg/z1gdqpsx1qq3lyb5lp3896zh0000gq/T/ipykernel_90502/228655152.py:20: FutureWarning: The frame.append method is deprecated and will be removed from pandas in a future version. Use pandas.concat instead.\n",
      "  stat_result = stat_result.append(pd.DataFrame({'t': [fit[0]], 'p': [fit[1]], 'date': current_date}))\n",
      "/var/folders/cg/z1gdqpsx1qq3lyb5lp3896zh0000gq/T/ipykernel_90502/228655152.py:26: FutureWarning: The frame.append method is deprecated and will be removed from pandas in a future version. Use pandas.concat instead.\n",
      "  daily_data = daily_data.append(current_data_stat)\n",
      "/var/folders/cg/z1gdqpsx1qq3lyb5lp3896zh0000gq/T/ipykernel_90502/228655152.py:15: FutureWarning: The frame.append method is deprecated and will be removed from pandas in a future version. Use pandas.concat instead.\n",
      "  user_data = user_data.append(day_data_experiment).append(day_data_control)\n",
      "/var/folders/cg/z1gdqpsx1qq3lyb5lp3896zh0000gq/T/ipykernel_90502/228655152.py:15: FutureWarning: The frame.append method is deprecated and will be removed from pandas in a future version. Use pandas.concat instead.\n",
      "  user_data = user_data.append(day_data_experiment).append(day_data_control)\n",
      "/var/folders/cg/z1gdqpsx1qq3lyb5lp3896zh0000gq/T/ipykernel_90502/228655152.py:20: FutureWarning: The frame.append method is deprecated and will be removed from pandas in a future version. Use pandas.concat instead.\n",
      "  stat_result = stat_result.append(pd.DataFrame({'t': [fit[0]], 'p': [fit[1]], 'date': current_date}))\n",
      "/var/folders/cg/z1gdqpsx1qq3lyb5lp3896zh0000gq/T/ipykernel_90502/228655152.py:26: FutureWarning: The frame.append method is deprecated and will be removed from pandas in a future version. Use pandas.concat instead.\n",
      "  daily_data = daily_data.append(current_data_stat)\n",
      "/var/folders/cg/z1gdqpsx1qq3lyb5lp3896zh0000gq/T/ipykernel_90502/228655152.py:15: FutureWarning: The frame.append method is deprecated and will be removed from pandas in a future version. Use pandas.concat instead.\n",
      "  user_data = user_data.append(day_data_experiment).append(day_data_control)\n",
      "/var/folders/cg/z1gdqpsx1qq3lyb5lp3896zh0000gq/T/ipykernel_90502/228655152.py:15: FutureWarning: The frame.append method is deprecated and will be removed from pandas in a future version. Use pandas.concat instead.\n",
      "  user_data = user_data.append(day_data_experiment).append(day_data_control)\n",
      "/var/folders/cg/z1gdqpsx1qq3lyb5lp3896zh0000gq/T/ipykernel_90502/228655152.py:20: FutureWarning: The frame.append method is deprecated and will be removed from pandas in a future version. Use pandas.concat instead.\n",
      "  stat_result = stat_result.append(pd.DataFrame({'t': [fit[0]], 'p': [fit[1]], 'date': current_date}))\n",
      "/var/folders/cg/z1gdqpsx1qq3lyb5lp3896zh0000gq/T/ipykernel_90502/228655152.py:26: FutureWarning: The frame.append method is deprecated and will be removed from pandas in a future version. Use pandas.concat instead.\n",
      "  daily_data = daily_data.append(current_data_stat)\n",
      "/var/folders/cg/z1gdqpsx1qq3lyb5lp3896zh0000gq/T/ipykernel_90502/228655152.py:15: FutureWarning: The frame.append method is deprecated and will be removed from pandas in a future version. Use pandas.concat instead.\n",
      "  user_data = user_data.append(day_data_experiment).append(day_data_control)\n",
      "/var/folders/cg/z1gdqpsx1qq3lyb5lp3896zh0000gq/T/ipykernel_90502/228655152.py:15: FutureWarning: The frame.append method is deprecated and will be removed from pandas in a future version. Use pandas.concat instead.\n",
      "  user_data = user_data.append(day_data_experiment).append(day_data_control)\n",
      "/var/folders/cg/z1gdqpsx1qq3lyb5lp3896zh0000gq/T/ipykernel_90502/228655152.py:20: FutureWarning: The frame.append method is deprecated and will be removed from pandas in a future version. Use pandas.concat instead.\n",
      "  stat_result = stat_result.append(pd.DataFrame({'t': [fit[0]], 'p': [fit[1]], 'date': current_date}))\n",
      "/var/folders/cg/z1gdqpsx1qq3lyb5lp3896zh0000gq/T/ipykernel_90502/228655152.py:26: FutureWarning: The frame.append method is deprecated and will be removed from pandas in a future version. Use pandas.concat instead.\n",
      "  daily_data = daily_data.append(current_data_stat)\n"
     ]
    }
   ],
   "source": [
    "for day in range(days):\n",
    "    daily_data_control = np.random.normal(mu_control, sigma_control, n_control)\n",
    "    daily_data_experiment = np.random.normal(mu_experiment, sigma_experiment, n_experiment)\n",
    "    \n",
    "    day_data_control = pd.DataFrame({'value': daily_data_control})\n",
    "    day_data_control['date'] = current_date\n",
    "    day_data_control['group'] = 'control'\n",
    "\n",
    "    \n",
    "    day_data_experiment = pd.DataFrame({'value': daily_data_experiment})\n",
    "    day_data_experiment['date'] = current_date\n",
    "    day_data_experiment['group'] = 'experiment'\n",
    "\n",
    "    \n",
    "    user_data = user_data.append(day_data_experiment).append(day_data_control)\n",
    "    fit = stats.ttest_ind(user_data[user_data.group == 'experiment'].value, \n",
    "                          user_data[user_data.group == 'control'].value)\n",
    "\n",
    "    \n",
    "    stat_result = stat_result.append(pd.DataFrame({'t': [fit[0]], 'p': [fit[1]], 'date': current_date}))\n",
    "    \n",
    "    \n",
    "    current_data_stat = user_data.groupby(['group'], as_index=False).agg({'value': 'mean'})\n",
    "    current_data_stat['date'] = current_date\n",
    "    \n",
    "    daily_data = daily_data.append(current_data_stat)\n",
    "    \n",
    "    current_date += 1\n"
   ]
  },
  {
   "cell_type": "code",
   "execution_count": null,
   "id": "af6467c0",
   "metadata": {},
   "outputs": [
    {
     "data": {
      "image/png": "[encoded data removed]",
      "text/plain": [
       "<Figure size 640x480 with 1 Axes>"
      ]
     },
     "metadata": {},
     "output_type": "display_data"
    }
   ],
   "source": [
    "ax = sns.lineplot(data=daily_data, x=\"date\", y=\"value\", hue='group')"
   ]
  },
  {
   "cell_type": "code",
   "execution_count": null,
   "id": "a89ceee2",
   "metadata": {},
   "outputs": [
    {
     "data": {
      "text/plain": [
       "<matplotlib.lines.Line2D at 0x169ea6c80>"
      ]
     },
     "execution_count": 214,
     "metadata": {},
     "output_type": "execute_result"
    },
    {
     "data": {
      "image/png": "[encoded data removed]",
      "text/plain": [
       "<Figure size 640x480 with 1 Axes>"
      ]
     },
     "metadata": {},
     "output_type": "display_data"
    }
   ],
   "source": [
    "ax = sns.lineplot(data=stat_result, x=\"date\", y=\"p\")\n",
    "ax.axhline(0.05, ls='--', color='red')"
   ]
  },
  {
   "cell_type": "markdown",
   "id": "bbedcb87",
   "metadata": {},
   "source": [
    "# Среднее"
   ]
  },
  {
   "cell_type": "markdown",
   "id": "c8dc0215",
   "metadata": {},
   "source": [
    "## 1. Необходимый объем выборки"
   ]
  },
  {
   "cell_type": "code",
   "execution_count": null,
   "id": "f0f2aa86",
   "metadata": {},
   "outputs": [],
   "source": [
    "ttest_ind_power = TTestIndPower()"
   ]
  },
  {
   "cell_type": "code",
   "execution_count": null,
   "id": "a4fbfb50",
   "metadata": {},
   "outputs": [
    {
     "name": "stdout",
     "output_type": "stream",
     "text": [
      "Effect size: 1.0\n"
     ]
    }
   ],
   "source": [
    "n1, n2 = 4, 4\n",
    "  \n",
    "# variance of samples in pilot study \n",
    "s1, s2 = 5**2, 5**2\n",
    "  \n",
    "# calculate the pooled standard deviation  \n",
    "# (Cohen's d) \n",
    "s = np.sqrt(((n1 - 1) * s1 + (n2 - 1) * s2) / (n1 + n2 - 2)) \n",
    "  \n",
    "# means of the samples \n",
    "u1, u2 = 90, 85\n",
    "  \n",
    "# calculate the effect size \n",
    "d = (u1 - u2) / s \n",
    "print(f'Effect size: {d}') "
   ]
  },
  {
   "cell_type": "code",
   "execution_count": null,
   "id": "f0267545",
   "metadata": {},
   "outputs": [
    {
     "data": {
      "text/plain": [
       "1.0"
      ]
     },
     "execution_count": 223,
     "metadata": {},
     "output_type": "execute_result"
    }
   ],
   "source": [
    "d"
   ]
  },
  {
   "cell_type": "code",
   "execution_count": null,
   "id": "b3537a8a",
   "metadata": {},
   "outputs": [],
   "source": [
    "# factors for power analysis \n",
    "alpha = 0.01\n",
    "power = 0.99\n",
    "  \n",
    "# perform power analysis to find sample size  \n",
    "# for given effect \n",
    "obj = TTestIndPower() \n",
    "n = obj.solve_power(effect_size=d/10, alpha=alpha, power=power,  \n",
    "                    ratio=1, alternative='two-sided') "
   ]
  },
  {
   "cell_type": "code",
   "execution_count": null,
   "id": "bfa7af00",
   "metadata": {},
   "outputs": [
    {
     "data": {
      "text/plain": [
       "4807.927308196022"
      ]
     },
     "execution_count": 231,
     "metadata": {},
     "output_type": "execute_result"
    }
   ],
   "source": [
    "n"
   ]
  },
  {
   "cell_type": "code",
   "execution_count": null,
   "id": "8261fb31",
   "metadata": {},
   "outputs": [
    {
     "data": {
      "text/plain": [
       "15.697721018567242"
      ]
     },
     "execution_count": 48,
     "metadata": {},
     "output_type": "execute_result"
    }
   ],
   "source": [
    "zt_ind_solve_power(effect_size=d, alpha=alpha, power=power,  \n",
    "                    ratio=1, alternative='two-sided')"
   ]
  },
  {
   "cell_type": "markdown",
   "id": "f655f0a4",
   "metadata": {},
   "source": [
    "## 2. АА-тест"
   ]
  },
  {
   "cell_type": "code",
   "execution_count": null,
   "id": "4987b6b7",
   "metadata": {},
   "outputs": [],
   "source": [
    "a1 = np.random.normal(size=1000000)"
   ]
  },
  {
   "cell_type": "code",
   "execution_count": null,
   "id": "ebaaf2a8",
   "metadata": {},
   "outputs": [],
   "source": [
    "a2 = np.random.normal(size=1000000)"
   ]
  },
  {
   "cell_type": "code",
   "execution_count": null,
   "id": "d3a60daf",
   "metadata": {},
   "outputs": [],
   "source": [
    "alphas = []\n",
    "for _ in range(10000):\n",
    "    alphas.append(scipy.stats.ttest_ind(np.random.choice(a1, 100000), np.random.choice(a2, 100000))[1])"
   ]
  },
  {
   "cell_type": "code",
   "execution_count": null,
   "id": "6e04c84c",
   "metadata": {},
   "outputs": [
    {
     "data": {
      "text/plain": [
       "0.0534"
      ]
     },
     "execution_count": 70,
     "metadata": {},
     "output_type": "execute_result"
    }
   ],
   "source": [
    "sum(np.array(alphas) < 0.05) / len(alphas)"
   ]
  },
  {
   "cell_type": "markdown",
   "id": "43d9edd2",
   "metadata": {},
   "source": [
    "## 3. Выводы по успешности аб-теста"
   ]
  },
  {
   "cell_type": "markdown",
   "id": "9ac9e55a",
   "metadata": {},
   "source": [
    "### 3.1 Доверительные интервалы"
   ]
  },
  {
   "cell_type": "code",
   "execution_count": null,
   "id": "5746e2ab",
   "metadata": {},
   "outputs": [],
   "source": [
    "import scipy.stats"
   ]
  },
  {
   "cell_type": "code",
   "execution_count": null,
   "id": "2b01620a",
   "metadata": {},
   "outputs": [],
   "source": [
    "def mean_confidence_interval(data, confidence=0.95):\n",
    "    a = 1.0 * np.array(data)\n",
    "    n = len(a)\n",
    "    m, se = np.mean(a), scipy.stats.sem(a)\n",
    "    h = se * scipy.stats.t.ppf((1 + confidence) / 2., n-1)\n",
    "    return m, m-h, m+h"
   ]
  },
  {
   "cell_type": "code",
   "execution_count": null,
   "id": "cdec9972",
   "metadata": {},
   "outputs": [],
   "source": [
    "mci1 = mean_confidence_interval(a1)"
   ]
  },
  {
   "cell_type": "code",
   "execution_count": null,
   "id": "d7bca0c9",
   "metadata": {},
   "outputs": [
    {
     "data": {
      "text/plain": [
       "(-6.905395294609724e-05, -0.002028358752373792, 0.0018902508464815973)"
      ]
     },
     "execution_count": 237,
     "metadata": {},
     "output_type": "execute_result"
    }
   ],
   "source": [
    "mci1"
   ]
  },
  {
   "cell_type": "code",
   "execution_count": null,
   "id": "d09b1b9a",
   "metadata": {},
   "outputs": [],
   "source": [
    "mci2 = mean_confidence_interval(a2)"
   ]
  },
  {
   "cell_type": "code",
   "execution_count": null,
   "id": "ba7db41b",
   "metadata": {},
   "outputs": [
    {
     "data": {
      "text/plain": [
       "(-0.0002405137435429322, -0.0021978257604284334, 0.0017167982733425691)"
      ]
     },
     "execution_count": 239,
     "metadata": {},
     "output_type": "execute_result"
    }
   ],
   "source": [
    "mci2"
   ]
  },
  {
   "cell_type": "code",
   "execution_count": null,
   "id": "541e2691",
   "metadata": {},
   "outputs": [
    {
     "data": {
      "text/plain": [
       "-6.905395294609724e-05"
      ]
     },
     "execution_count": 240,
     "metadata": {},
     "output_type": "execute_result"
    }
   ],
   "source": [
    "mci1[0]"
   ]
  },
  {
   "cell_type": "code",
   "execution_count": null,
   "id": "6c2ad20e",
   "metadata": {},
   "outputs": [
    {
     "data": {
      "image/png": "[encoded data removed]",
      "text/plain": [
       "<Figure size 640x480 with 1 Axes>"
      ]
     },
     "metadata": {},
     "output_type": "display_data"
    }
   ],
   "source": [
    "plt.plot([0,0], [mci1[1], mci1[2]])\n",
    "plt.scatter([0], [mci1[0]], c='r', s=10)\n",
    "plt.plot([-0.1, 0.1], [mci1[1], mci1[1]])\n",
    "plt.plot([-0.1, 0.1], [mci1[2], mci1[2]])\n",
    "\n",
    "plt.plot([1,1], [mci2[1], mci2[2]])\n",
    "plt.scatter([1], [mci2[0]], c='r', s=10)\n",
    "plt.plot([0.9, 1.1], [mci2[1], mci2[1]])\n",
    "plt.plot([0.9, 1.1], [mci2[2], mci2[2]])\n",
    "plt.show()"
   ]
  },
  {
   "cell_type": "markdown",
   "id": "17a38683",
   "metadata": {},
   "source": [
    "### 3.2 Стат-тесты"
   ]
  },
  {
   "cell_type": "code",
   "execution_count": null,
   "id": "9bada214",
   "metadata": {},
   "outputs": [
    {
     "data": {
      "text/plain": [
       "Ttest_indResult(statistic=-0.1400423837741777, pvalue=0.8886265285603494)"
      ]
     },
     "execution_count": 96,
     "metadata": {},
     "output_type": "execute_result"
    }
   ],
   "source": [
    "scipy.stats.ttest_ind(a1, a2)"
   ]
  },
  {
   "cell_type": "markdown",
   "id": "8a837bc0",
   "metadata": {},
   "source": [
    "# Доля (конверсия)"
   ]
  },
  {
   "cell_type": "markdown",
   "id": "e247449f",
   "metadata": {},
   "source": [
    "## 1. Необходимый объем выборки"
   ]
  },
  {
   "cell_type": "code",
   "execution_count": null,
   "id": "e8011424",
   "metadata": {},
   "outputs": [],
   "source": [
    "conv_arr1 = scipy.stats.bernoulli.rvs(p=0.5, size=1000)"
   ]
  },
  {
   "cell_type": "code",
   "execution_count": null,
   "id": "5ce64fbe",
   "metadata": {},
   "outputs": [],
   "source": [
    "conv_arr1_mean = np.mean(conv_arr1)"
   ]
  },
  {
   "cell_type": "code",
   "execution_count": null,
   "id": "14dd6012",
   "metadata": {},
   "outputs": [],
   "source": [
    "conv_arr1_sampled_std = np.std(conv_arr1, ddof=1)"
   ]
  },
  {
   "cell_type": "code",
   "execution_count": null,
   "id": "f77891cf",
   "metadata": {},
   "outputs": [
    {
     "data": {
      "text/plain": [
       "0.49967356711524546"
      ]
     },
     "execution_count": 110,
     "metadata": {},
     "output_type": "execute_result"
    }
   ],
   "source": [
    "conv_arr1_sampled_std"
   ]
  },
  {
   "cell_type": "code",
   "execution_count": null,
   "id": "319900e6",
   "metadata": {},
   "outputs": [],
   "source": [
    "conv_eff_size = (0.6 - conv_arr1_mean) / conv_arr1_sampled_std"
   ]
  },
  {
   "cell_type": "code",
   "execution_count": null,
   "id": "7dfb8e00",
   "metadata": {},
   "outputs": [
    {
     "data": {
      "text/plain": [
       "0.15209930042681485"
      ]
     },
     "execution_count": 114,
     "metadata": {},
     "output_type": "execute_result"
    }
   ],
   "source": [
    "conv_eff_size"
   ]
  },
  {
   "cell_type": "code",
   "execution_count": null,
   "id": "bcc6f9cc",
   "metadata": {},
   "outputs": [
    {
     "data": {
      "text/plain": [
       "678.5504977547301"
      ]
     },
     "execution_count": 115,
     "metadata": {},
     "output_type": "execute_result"
    }
   ],
   "source": [
    "zt_ind_solve_power(conv_eff_size, alpha=0.05, power=0.8)"
   ]
  },
  {
   "cell_type": "markdown",
   "id": "f0b7f877",
   "metadata": {},
   "source": [
    "## 2. АА-тест"
   ]
  },
  {
   "cell_type": "code",
   "execution_count": null,
   "id": "02ce766a",
   "metadata": {},
   "outputs": [],
   "source": [
    "conv_arr_aa_1 = scipy.stats.bernoulli.rvs(p=0.5, size=1000)"
   ]
  },
  {
   "cell_type": "code",
   "execution_count": null,
   "id": "37f3f0d4",
   "metadata": {},
   "outputs": [],
   "source": [
    "conv_arr_aa_2 = scipy.stats.bernoulli.rvs(p=0.5, size=1000)"
   ]
  },
  {
   "cell_type": "code",
   "execution_count": null,
   "id": "16f00ddc",
   "metadata": {},
   "outputs": [],
   "source": [
    "conv_alphas = []\n",
    "for _ in range(10000):\n",
    "    conv_alphas.append(ztest(np.random.choice(a1, 100000), np.random.choice(a2, 100000))[1])"
   ]
  },
  {
   "cell_type": "code",
   "execution_count": null,
   "id": "4af6d65b",
   "metadata": {},
   "outputs": [
    {
     "data": {
      "text/plain": [
       "0.0554"
      ]
     },
     "execution_count": 120,
     "metadata": {},
     "output_type": "execute_result"
    }
   ],
   "source": [
    "sum(np.array(conv_alphas) < 0.05) / len(conv_alphas)"
   ]
  },
  {
   "cell_type": "markdown",
   "id": "4186f894",
   "metadata": {},
   "source": [
    "## 3. Выводы по успешности аб-теста"
   ]
  },
  {
   "cell_type": "markdown",
   "id": "8e36dd03",
   "metadata": {},
   "source": [
    "### 3.1 Доверительные интервалы"
   ]
  },
  {
   "cell_type": "code",
   "execution_count": null,
   "id": "8a9aa8f5",
   "metadata": {},
   "outputs": [],
   "source": [
    "conv_arr_aa_1_ci = proportion_confint(sum(conv_arr_aa_1), len(conv_arr_aa_1))"
   ]
  },
  {
   "cell_type": "code",
   "execution_count": null,
   "id": "a0e01668",
   "metadata": {},
   "outputs": [],
   "source": [
    "conv_arr_aa_2_ci = proportion_confint(sum(conv_arr_aa_2), len(conv_arr_aa_2))"
   ]
  },
  {
   "cell_type": "code",
   "execution_count": null,
   "id": "268637b8",
   "metadata": {},
   "outputs": [
    {
     "data": {
      "image/png": "[encoded data removed]",
      "text/plain": [
       "<Figure size 640x480 with 1 Axes>"
      ]
     },
     "metadata": {},
     "output_type": "display_data"
    }
   ],
   "source": [
    "plt.plot([0,0], [conv_arr_aa_1_ci[0], conv_arr_aa_1_ci[1]])\n",
    "plt.scatter([0], [conv_arr_aa_1.mean()], c='r', s=10)\n",
    "plt.plot([-0.1, 0.1], [conv_arr_aa_1_ci[0], conv_arr_aa_1_ci[0]])\n",
    "plt.plot([-0.1, 0.1], [conv_arr_aa_1_ci[1], conv_arr_aa_1_ci[1]])\n",
    "\n",
    "plt.plot([1,1], [conv_arr_aa_2_ci[0], conv_arr_aa_2_ci[1]])\n",
    "plt.scatter([1], [conv_arr_aa_2.mean()], c='r', s=10)\n",
    "plt.plot([0.9, 1.1], [conv_arr_aa_2_ci[0], conv_arr_aa_2_ci[0]])\n",
    "plt.plot([0.9, 1.1], [conv_arr_aa_2_ci[1], conv_arr_aa_2_ci[1]])\n",
    "plt.show()"
   ]
  },
  {
   "cell_type": "markdown",
   "id": "363c32aa",
   "metadata": {},
   "source": [
    "### 3.2 Стат-тесты"
   ]
  },
  {
   "cell_type": "code",
   "execution_count": null,
   "id": "cc6c2471",
   "metadata": {},
   "outputs": [
    {
     "data": {
      "text/plain": [
       "(0.8494550284014832, 0.3956281441526125)"
      ]
     },
     "execution_count": 186,
     "metadata": {},
     "output_type": "execute_result"
    }
   ],
   "source": [
    "ztest(conv_arr_aa_1, conv_arr_aa_2)"
   ]
  },
  {
   "cell_type": "markdown",
   "id": "2ea638c7",
   "metadata": {},
   "source": [
    "# Медиана"
   ]
  },
  {
   "cell_type": "code",
   "execution_count": null,
   "id": "25b55f1f",
   "metadata": {},
   "outputs": [],
   "source": [
    "medians_a1 = []\n",
    "for _ in range(1000):\n",
    "    medians_a1.append(np.median(np.random.choice(a1, size = 1000)))"
   ]
  },
  {
   "cell_type": "code",
   "execution_count": null,
   "id": "7af52a14",
   "metadata": {},
   "outputs": [
    {
     "data": {
      "text/plain": [
       "0.001558021465890249"
      ]
     },
     "execution_count": 246,
     "metadata": {},
     "output_type": "execute_result"
    }
   ],
   "source": [
    "np.mean(medians_a1)"
   ]
  },
  {
   "cell_type": "code",
   "execution_count": null,
   "id": "d8316469",
   "metadata": {},
   "outputs": [
    {
     "data": {
      "image/png": "[encoded data removed]",
      "text/plain": [
       "<Figure size 640x480 with 1 Axes>"
      ]
     },
     "metadata": {},
     "output_type": "display_data"
    }
   ],
   "source": [
    "plt.hist(medians_a1, bins=200)\n",
    "plt.show()"
   ]
  },
  {
   "cell_type": "code",
   "execution_count": null,
   "id": "e28a73f6",
   "metadata": {},
   "outputs": [],
   "source": [
    "effect_size = (0.01 - np.mean(medians_a1)) / np.std(medians_a1, ddof=1)"
   ]
  },
  {
   "cell_type": "code",
   "execution_count": null,
   "id": "2ce0a5c5",
   "metadata": {},
   "outputs": [
    {
     "data": {
      "text/plain": [
       "0.2104076343891827"
      ]
     },
     "execution_count": 183,
     "metadata": {},
     "output_type": "execute_result"
    }
   ],
   "source": [
    "effect_size"
   ]
  },
  {
   "cell_type": "code",
   "execution_count": null,
   "id": "25e08d32",
   "metadata": {},
   "outputs": [
    {
     "name": "stderr",
     "output_type": "stream",
     "text": [
      "/Users/sergey.malyshev/anaconda3/lib/python3.10/site-packages/scipy/stats/_continuous_distns.py:6832: RuntimeWarning: invalid value encountered in _nct_sf\n",
      "  return np.clip(_boost._nct_sf(x, df, nc), 0, 1)\n",
      "/Users/sergey.malyshev/anaconda3/lib/python3.10/site-packages/scipy/stats/_continuous_distns.py:6826: RuntimeWarning: invalid value encountered in _nct_cdf\n",
      "  return np.clip(_boost._nct_cdf(x, df, nc), 0, 1)\n",
      "/Users/sergey.malyshev/anaconda3/lib/python3.10/site-packages/scipy/stats/_continuous_distns.py:6832: RuntimeWarning: overflow encountered in _nct_sf\n",
      "  return np.clip(_boost._nct_sf(x, df, nc), 0, 1)\n",
      "/Users/sergey.malyshev/anaconda3/lib/python3.10/site-packages/scipy/stats/_continuous_distns.py:6826: RuntimeWarning: overflow encountered in _nct_cdf\n",
      "  return np.clip(_boost._nct_cdf(x, df, nc), 0, 1)\n"
     ]
    },
    {
     "data": {
      "text/plain": [
       "355.54241234412"
      ]
     },
     "execution_count": 220,
     "metadata": {},
     "output_type": "execute_result"
    }
   ],
   "source": [
    "TTestIndPower().solve_power(effect_size, alpha=0.05, power=0.8)"
   ]
  },
  {
   "cell_type": "code",
   "execution_count": null,
   "id": "3624e082",
   "metadata": {},
   "outputs": [],
   "source": [
    "medians_a1_ci = zconfint(medians_a1)"
   ]
  },
  {
   "cell_type": "code",
   "execution_count": null,
   "id": "6dd8fda7",
   "metadata": {},
   "outputs": [
    {
     "data": {
      "text/plain": [
       "0.001558021465890249"
      ]
     },
     "execution_count": 173,
     "metadata": {},
     "output_type": "execute_result"
    }
   ],
   "source": [
    "np.mean(medians_a1)"
   ]
  },
  {
   "cell_type": "code",
   "execution_count": null,
   "id": "6c0df5db",
   "metadata": {},
   "outputs": [],
   "source": [
    "medians_a2 = []\n",
    "for _ in range(1000):\n",
    "    medians_a2.append(np.median(np.random.choice(a2, size = 1000)))"
   ]
  },
  {
   "cell_type": "code",
   "execution_count": null,
   "id": "d5b78590",
   "metadata": {},
   "outputs": [],
   "source": [
    "medians_a2_ci = zconfint(medians_a2)"
   ]
  },
  {
   "cell_type": "code",
   "execution_count": null,
   "id": "0c229d2c",
   "metadata": {},
   "outputs": [
    {
     "data": {
      "text/plain": [
       "0.0010272485094024442"
      ]
     },
     "execution_count": 176,
     "metadata": {},
     "output_type": "execute_result"
    }
   ],
   "source": [
    "np.mean(medians_a2)"
   ]
  },
  {
   "cell_type": "code",
   "execution_count": null,
   "id": "669e7b88",
   "metadata": {},
   "outputs": [
    {
     "data": {
      "image/png": "[encoded data removed]",
      "text/plain": [
       "<Figure size 640x480 with 1 Axes>"
      ]
     },
     "metadata": {},
     "output_type": "display_data"
    }
   ],
   "source": [
    "plt.plot([0,0], [medians_a1_ci[0], medians_a1_ci[1]])\n",
    "plt.scatter([0], [np.mean(medians_a1)], c='r', s=10)\n",
    "plt.plot([-0.1, 0.1], [medians_a1_ci[0], medians_a1_ci[0]])\n",
    "plt.plot([-0.1, 0.1], [medians_a1_ci[1], medians_a1_ci[1]])\n",
    "\n",
    "plt.plot([1,1], [medians_a2_ci[0], medians_a2_ci[1]])\n",
    "plt.scatter([1], [np.mean(medians_a2)], c='r', s=10)\n",
    "plt.plot([0.9, 1.1], [medians_a2_ci[0], medians_a2_ci[0]])\n",
    "plt.plot([0.9, 1.1], [medians_a2_ci[1], medians_a2_ci[1]])\n",
    "plt.show()"
   ]
  },
  {
   "cell_type": "code",
   "execution_count": null,
   "id": "f7c752c6",
   "metadata": {},
   "outputs": [
    {
     "data": {
      "text/plain": [
       "Ttest_indResult(statistic=0.29830973449900045, pvalue=0.7654977939151152)"
      ]
     },
     "execution_count": 222,
     "metadata": {},
     "output_type": "execute_result"
    }
   ],
   "source": [
    "scipy.stats.ttest_ind(medians_a1, medians_a2)"
   ]
  },
  {
   "cell_type": "code",
   "execution_count": null,
   "id": "7113893e",
   "metadata": {},
   "outputs": [],
   "source": []
  }
 ],
 "metadata": {
  "kernelspec": {
   "display_name": "Python 3 (ipykernel)",
   "language": "python",
   "name": "python3"
  },
  "language_info": {
   "codemirror_mode": {
    "name": "ipython",
    "version": 3
   },
   "file_extension": ".py",
   "mimetype": "text/x-python",
   "name": "python",
   "nbconvert_exporter": "python",
   "pygments_lexer": "ipython3",
   "version": "3.11.6"
  }
 },
 "nbformat": 4,
 "nbformat_minor": 5
}
