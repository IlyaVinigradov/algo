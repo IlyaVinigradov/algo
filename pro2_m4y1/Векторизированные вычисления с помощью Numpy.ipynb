{
 "cells": [
  {
   "cell_type": "code",
   "execution_count": 1,
   "metadata": {
    "executionInfo": {
     "elapsed": 4,
     "status": "ok",
     "timestamp": 1664201857375,
     "user": {
      "displayName": "Дмитрий М",
      "userId": "15192631518578649184"
     },
     "user_tz": -180
    },
    "id": "IaIWKxGBJdUX"
   },
   "outputs": [],
   "source": [
    "import numpy as np"
   ]
  },
  {
   "cell_type": "code",
   "execution_count": 2,
   "metadata": {
    "id": "y0S4ngS3JdUZ",
    "outputId": "16a24c7b-ccee-45ec-da40-3fb4a7db9f77"
   },
   "outputs": [
    {
     "data": {
      "text/plain": [
       "array([[5.2, 3. , 4.5],\n",
       "       [9.1, 0.1, 0.3]])"
      ]
     },
     "execution_count": 2,
     "metadata": {},
     "output_type": "execute_result"
    }
   ],
   "source": [
    "#создание массива\n",
    "datal = [ [5.2, 3.0, 4.5] , [9.1, 0.1, 0.3]]\n",
    "arrl = np.array(datal) \n",
    "arrl"
   ]
  },
  {
   "cell_type": "code",
   "execution_count": 57,
   "metadata": {},
   "outputs": [
    {
     "data": {
      "text/plain": [
       "2"
      ]
     },
     "execution_count": 57,
     "metadata": {},
     "output_type": "execute_result"
    }
   ],
   "source": [
    "arrl.ndim "
   ]
  },
  {
   "cell_type": "code",
   "execution_count": 5,
   "metadata": {
    "id": "rIHzLoaVJdUa",
    "outputId": "dd624938-4c86-48a6-bab9-c916760f54f2"
   },
   "outputs": [
    {
     "data": {
      "text/plain": [
       "6"
      ]
     },
     "execution_count": 5,
     "metadata": {},
     "output_type": "execute_result"
    }
   ],
   "source": [
    "arrl.size"
   ]
  },
  {
   "cell_type": "code",
   "execution_count": 6,
   "metadata": {},
   "outputs": [
    {
     "data": {
      "text/plain": [
       "(2, 3)"
      ]
     },
     "execution_count": 6,
     "metadata": {},
     "output_type": "execute_result"
    }
   ],
   "source": [
    "arrl.shape"
   ]
  },
  {
   "cell_type": "code",
   "execution_count": 7,
   "metadata": {
    "id": "uy9sIKhzJdUb",
    "outputId": "78bb4d72-bc49-4885-a0b2-9073f9b5db92"
   },
   "outputs": [
    {
     "data": {
      "text/plain": [
       "dtype('float64')"
      ]
     },
     "execution_count": 7,
     "metadata": {},
     "output_type": "execute_result"
    }
   ],
   "source": [
    "arrl.dtype"
   ]
  },
  {
   "cell_type": "code",
   "execution_count": 8,
   "metadata": {},
   "outputs": [
    {
     "data": {
      "text/plain": [
       "8"
      ]
     },
     "execution_count": 8,
     "metadata": {},
     "output_type": "execute_result"
    }
   ],
   "source": [
    "arrl.itemsize "
   ]
  },
  {
   "cell_type": "markdown",
   "metadata": {},
   "source": [
    "---"
   ]
  },
  {
   "cell_type": "code",
   "execution_count": 9,
   "metadata": {
    "id": "4kP2c768JdUc",
    "outputId": "a7c2605a-aa69-4078-ca0b-350fae87fe61"
   },
   "outputs": [
    {
     "data": {
      "text/plain": [
       "array([0., 0., 0., 0., 0., 0., 0., 0., 0., 0.])"
      ]
     },
     "execution_count": 9,
     "metadata": {},
     "output_type": "execute_result"
    }
   ],
   "source": [
    "np.zeros(10)"
   ]
  },
  {
   "cell_type": "code",
   "execution_count": 10,
   "metadata": {
    "id": "vRltitmbJdUc",
    "outputId": "22586fe7-140f-4e30-dd34-a123333861d8"
   },
   "outputs": [
    {
     "data": {
      "text/plain": [
       "array([[1., 1.],\n",
       "       [1., 1.]])"
      ]
     },
     "execution_count": 10,
     "metadata": {},
     "output_type": "execute_result"
    }
   ],
   "source": [
    "np.ones((2,2))"
   ]
  },
  {
   "cell_type": "code",
   "execution_count": 11,
   "metadata": {
    "id": "EdRECS9bJdUd",
    "outputId": "00587184-d5ed-450f-e9f9-8cdd10f2e4d5"
   },
   "outputs": [
    {
     "data": {
      "text/plain": [
       "array([ 0,  1,  2,  3,  4,  5,  6,  7,  8,  9, 10, 11, 12, 13, 14])"
      ]
     },
     "execution_count": 11,
     "metadata": {},
     "output_type": "execute_result"
    }
   ],
   "source": [
    "np.arange(15) "
   ]
  },
  {
   "cell_type": "code",
   "execution_count": 12,
   "metadata": {
    "id": "yRceSUTBJdUd",
    "outputId": "001d9060-763e-4bfa-a3b6-a37dfb0791be"
   },
   "outputs": [
    {
     "data": {
      "text/plain": [
       "array([0.        , 0.04166667, 0.08333333, 0.125     , 0.16666667,\n",
       "       0.20833333, 0.25      , 0.29166667, 0.33333333, 0.375     ,\n",
       "       0.41666667, 0.45833333, 0.5       , 0.54166667, 0.58333333,\n",
       "       0.625     , 0.66666667, 0.70833333, 0.75      , 0.79166667,\n",
       "       0.83333333, 0.875     , 0.91666667, 0.95833333, 1.        ])"
      ]
     },
     "execution_count": 12,
     "metadata": {},
     "output_type": "execute_result"
    }
   ],
   "source": [
    "np.linspace(0, 1, 25)"
   ]
  },
  {
   "cell_type": "code",
   "execution_count": 13,
   "metadata": {
    "id": "KqKWXXgHJdUd",
    "outputId": "3f8eb392-c5ab-45e4-d379-cbcff96c1adb"
   },
   "outputs": [
    {
     "data": {
      "text/plain": [
       "array([[1., 0., 0.],\n",
       "       [0., 1., 0.],\n",
       "       [0., 0., 1.]])"
      ]
     },
     "execution_count": 13,
     "metadata": {},
     "output_type": "execute_result"
    }
   ],
   "source": [
    "#единичная матрица\n",
    "np.eye(3)"
   ]
  },
  {
   "cell_type": "markdown",
   "metadata": {
    "id": "Y5ps_k0-JdUe"
   },
   "source": [
    "### Операции между массивами и скалярами"
   ]
  },
  {
   "cell_type": "code",
   "execution_count": 14,
   "metadata": {
    "id": "FLgX_D_2JdUe"
   },
   "outputs": [],
   "source": [
    "arr = np.array([[1., 2., 3.], [4., 5., 6.]]) "
   ]
  },
  {
   "cell_type": "code",
   "execution_count": 15,
   "metadata": {
    "id": "6a6mjmgxJdUf",
    "outputId": "8fd48f3b-a963-4121-f8cb-f7c5dd6d93cf"
   },
   "outputs": [
    {
     "data": {
      "text/plain": [
       "array([[ 1.,  4.,  9.],\n",
       "       [16., 25., 36.]])"
      ]
     },
     "execution_count": 15,
     "metadata": {},
     "output_type": "execute_result"
    }
   ],
   "source": [
    "arr*arr"
   ]
  },
  {
   "cell_type": "code",
   "execution_count": 16,
   "metadata": {
    "id": "Sn_1Jd8zJdUf",
    "outputId": "9a724fdb-37de-4c1a-d985-ed22ec8ed003"
   },
   "outputs": [
    {
     "data": {
      "text/plain": [
       "array([[0., 0., 0.],\n",
       "       [0., 0., 0.]])"
      ]
     },
     "execution_count": 16,
     "metadata": {},
     "output_type": "execute_result"
    }
   ],
   "source": [
    "arr-arr"
   ]
  },
  {
   "cell_type": "code",
   "execution_count": 17,
   "metadata": {
    "id": "eVkfN6smJdUf",
    "outputId": "fb835552-22d6-485f-8552-c8faf2ab78e7"
   },
   "outputs": [
    {
     "data": {
      "text/plain": [
       "array([[1.        , 0.5       , 0.33333333],\n",
       "       [0.25      , 0.2       , 0.16666667]])"
      ]
     },
     "execution_count": 17,
     "metadata": {},
     "output_type": "execute_result"
    }
   ],
   "source": [
    "1/arr"
   ]
  },
  {
   "cell_type": "markdown",
   "metadata": {
    "id": "VCkPlYnDJdUf"
   },
   "source": [
    "### Случайные массивы"
   ]
  },
  {
   "cell_type": "code",
   "execution_count": 18,
   "metadata": {
    "id": "jSFc8lLjJdUg",
    "outputId": "168c2d6a-fc3c-442f-8479-35fce25a8fb7"
   },
   "outputs": [
    {
     "data": {
      "text/plain": [
       "array([[ 0.72397867,  1.88438912],\n",
       "       [ 1.05997456, -0.15962203],\n",
       "       [-0.27415005, -1.09174707]])"
      ]
     },
     "execution_count": 18,
     "metadata": {},
     "output_type": "execute_result"
    }
   ],
   "source": [
    "np.random.randn(3,2)"
   ]
  },
  {
   "cell_type": "code",
   "execution_count": 19,
   "metadata": {
    "id": "dYVKgA4HJdUg",
    "outputId": "6b7f480d-2331-48db-d4dd-6a55d4082e9a"
   },
   "outputs": [
    {
     "data": {
      "text/plain": [
       "array([534, 320, 971, 226])"
      ]
     },
     "execution_count": 19,
     "metadata": {},
     "output_type": "execute_result"
    }
   ],
   "source": [
    "np.random.randint(0, 1000, 4)"
   ]
  },
  {
   "cell_type": "markdown",
   "metadata": {
    "id": "7cLi937NJdUg"
   },
   "source": [
    "### Индексирование"
   ]
  },
  {
   "cell_type": "markdown",
   "metadata": {
    "id": "77V1QEZIJdUg"
   },
   "source": [
    "Схоже с индексированием списков."
   ]
  },
  {
   "cell_type": "code",
   "execution_count": 20,
   "metadata": {
    "id": "IhorVuFiJdUh",
    "outputId": "4fe689b3-7e57-4aa9-ec84-c0e186ad60c6"
   },
   "outputs": [
    {
     "data": {
      "text/plain": [
       "array([ 8,  9, 10, 11])"
      ]
     },
     "execution_count": 20,
     "metadata": {},
     "output_type": "execute_result"
    }
   ],
   "source": [
    "np.arange(15)[8:12]"
   ]
  },
  {
   "cell_type": "code",
   "execution_count": 21,
   "metadata": {
    "id": "zNTSdXwCJdUh",
    "outputId": "8b22adc5-fdcf-468f-e623-2f40d95b04d2"
   },
   "outputs": [
    {
     "data": {
      "text/plain": [
       "array([7, 8, 9])"
      ]
     },
     "execution_count": 21,
     "metadata": {},
     "output_type": "execute_result"
    }
   ],
   "source": [
    "#многомерные массивы\n",
    "arr2d = np.array([[1, 2, 3], [4, 5, 6], [7, 8, 9]])\n",
    "arr2d[2]"
   ]
  },
  {
   "cell_type": "code",
   "execution_count": 22,
   "metadata": {
    "id": "NGCeUFZrJdUh",
    "outputId": "4e5eb6ad-f1cb-47f2-aefd-bc618d34f8fb"
   },
   "outputs": [
    {
     "data": {
      "text/plain": [
       "3"
      ]
     },
     "execution_count": 22,
     "metadata": {},
     "output_type": "execute_result"
    }
   ],
   "source": [
    "arr2d[0, 2] "
   ]
  },
  {
   "cell_type": "code",
   "execution_count": 23,
   "metadata": {
    "id": "y5UCf10iJdUh",
    "outputId": "b841c174-ee33-42c0-e033-34bd25f28867"
   },
   "outputs": [
    {
     "data": {
      "text/plain": [
       "3"
      ]
     },
     "execution_count": 23,
     "metadata": {},
     "output_type": "execute_result"
    }
   ],
   "source": [
    "arr2d[0][2] "
   ]
  },
  {
   "cell_type": "code",
   "execution_count": 24,
   "metadata": {
    "colab": {
     "base_uri": "https://localhost:8080/"
    },
    "executionInfo": {
     "elapsed": 310,
     "status": "ok",
     "timestamp": 1664201885132,
     "user": {
      "displayName": "Дмитрий М",
      "userId": "15192631518578649184"
     },
     "user_tz": -180
    },
    "id": "Z4QgSwdTJdUh",
    "outputId": "bf84aa72-348b-4e33-d23f-08482046bcf6"
   },
   "outputs": [
    {
     "data": {
      "text/plain": [
       "12"
      ]
     },
     "execution_count": 24,
     "metadata": {},
     "output_type": "execute_result"
    }
   ],
   "source": [
    "arr3d = np.array([[[1,2,3],[4,5,6]],[[7,8,9],[10,11,12]]]) \n",
    "arr3d[1,1][2]"
   ]
  },
  {
   "cell_type": "code",
   "execution_count": 25,
   "metadata": {
    "id": "suqOorrhJdUi",
    "outputId": "7ebed852-0dde-43d0-b85c-52b2bac856f8"
   },
   "outputs": [
    {
     "data": {
      "text/plain": [
       "array([[[2, 3]]])"
      ]
     },
     "execution_count": 25,
     "metadata": {},
     "output_type": "execute_result"
    }
   ],
   "source": [
    "arr3d[:1,:1,1:]"
   ]
  },
  {
   "cell_type": "code",
   "execution_count": 26,
   "metadata": {
    "id": "SFLgJU3MJdUi",
    "outputId": "49f2326c-23bb-43fd-cc52-7a661b8c4b1f"
   },
   "outputs": [
    {
     "data": {
      "text/plain": [
       "array([ True, False, False,  True, False, False, False])"
      ]
     },
     "execution_count": 26,
     "metadata": {},
     "output_type": "execute_result"
    }
   ],
   "source": [
    "#булевое индексирование\n",
    "names = np.array(['Bob', 'Joe', 'Will', 'Bob', 'Will', 'Joe', 'Joe'])\n",
    "names == 'Bob'"
   ]
  },
  {
   "cell_type": "code",
   "execution_count": 27,
   "metadata": {
    "id": "54T2jztpJdUi",
    "outputId": "870f96aa-2289-4051-eaf8-49ba7f6e5bc7"
   },
   "outputs": [
    {
     "data": {
      "text/plain": [
       "array([ True, False,  True,  True,  True, False, False])"
      ]
     },
     "execution_count": 27,
     "metadata": {},
     "output_type": "execute_result"
    }
   ],
   "source": [
    "mask = (names == 'Bob') | (names == 'Will') \n",
    "mask"
   ]
  },
  {
   "cell_type": "code",
   "execution_count": 28,
   "metadata": {
    "id": "un_QCNOLJdUi",
    "outputId": "a2e5ad20-46a2-4d83-f48a-a32948c16f33"
   },
   "outputs": [
    {
     "data": {
      "text/plain": [
       "array(['Bob', 'Will', 'Bob', 'Will'], dtype='<U4')"
      ]
     },
     "execution_count": 28,
     "metadata": {},
     "output_type": "execute_result"
    }
   ],
   "source": [
    "names[mask]"
   ]
  },
  {
   "cell_type": "markdown",
   "metadata": {
    "id": "U2bqmmntJdUi"
   },
   "source": [
    "### Транспонирование массивов"
   ]
  },
  {
   "cell_type": "code",
   "execution_count": 29,
   "metadata": {
    "id": "0GtGIm5DJdUj",
    "outputId": "337a7838-e899-41a8-9ca1-65339eb51582"
   },
   "outputs": [
    {
     "data": {
      "text/plain": [
       "array([[[ 1,  2,  3],\n",
       "        [ 4,  5,  6]],\n",
       "\n",
       "       [[ 7,  8,  9],\n",
       "        [10, 11, 12]]])"
      ]
     },
     "execution_count": 29,
     "metadata": {},
     "output_type": "execute_result"
    }
   ],
   "source": [
    "arr3d"
   ]
  },
  {
   "cell_type": "code",
   "execution_count": 30,
   "metadata": {
    "id": "KofQjSZTJdUj",
    "outputId": "fcff59d4-19dc-46f8-f6c4-d1ccee974173"
   },
   "outputs": [
    {
     "data": {
      "text/plain": [
       "(2, 2, 3)"
      ]
     },
     "execution_count": 30,
     "metadata": {},
     "output_type": "execute_result"
    }
   ],
   "source": [
    "arr3d.shape"
   ]
  },
  {
   "cell_type": "code",
   "execution_count": 31,
   "metadata": {
    "id": "527q0gxYJdUj",
    "outputId": "50fb4442-595a-4d8a-c1be-e719ad8e8060"
   },
   "outputs": [
    {
     "data": {
      "text/plain": [
       "array([[[ 1,  7],\n",
       "        [ 4, 10]],\n",
       "\n",
       "       [[ 2,  8],\n",
       "        [ 5, 11]],\n",
       "\n",
       "       [[ 3,  9],\n",
       "        [ 6, 12]]])"
      ]
     },
     "execution_count": 31,
     "metadata": {},
     "output_type": "execute_result"
    }
   ],
   "source": [
    "arr3d.T"
   ]
  },
  {
   "cell_type": "code",
   "execution_count": 32,
   "metadata": {
    "colab": {
     "base_uri": "https://localhost:8080/"
    },
    "executionInfo": {
     "elapsed": 269,
     "status": "ok",
     "timestamp": 1664201894603,
     "user": {
      "displayName": "Дмитрий М",
      "userId": "15192631518578649184"
     },
     "user_tz": -180
    },
    "id": "TvPgjuVrJdUj",
    "outputId": "39ce15b1-78a2-42dd-d75c-100b02682ddb"
   },
   "outputs": [
    {
     "data": {
      "text/plain": [
       "(3, 2, 2)"
      ]
     },
     "execution_count": 32,
     "metadata": {},
     "output_type": "execute_result"
    }
   ],
   "source": [
    "arr3d.T.shape"
   ]
  },
  {
   "cell_type": "markdown",
   "metadata": {
    "id": "C0YdDbsBJdUj"
   },
   "source": [
    "### Поэлементные операции над массивами"
   ]
  },
  {
   "cell_type": "markdown",
   "metadata": {
    "id": "IoBX8H_xJdUj"
   },
   "source": [
    "Это векторные обертки вокруг простых функций, которые принимают одно или несколько скалярных значений и порождают один или несколько скалярных результатов."
   ]
  },
  {
   "cell_type": "code",
   "execution_count": 33,
   "metadata": {
    "id": "KiezO7sfJdUk",
    "outputId": "4dd3b341-1e2b-4520-ff9a-a09707827b36"
   },
   "outputs": [
    {
     "data": {
      "text/plain": [
       "array([[[1.        , 1.41421356, 1.73205081],\n",
       "        [2.        , 2.23606798, 2.44948974]],\n",
       "\n",
       "       [[2.64575131, 2.82842712, 3.        ],\n",
       "        [3.16227766, 3.31662479, 3.46410162]]])"
      ]
     },
     "execution_count": 33,
     "metadata": {},
     "output_type": "execute_result"
    }
   ],
   "source": [
    "np.sqrt(arr3d)"
   ]
  },
  {
   "cell_type": "code",
   "execution_count": 34,
   "metadata": {
    "id": "7cLqEb8LJdUk",
    "outputId": "d82cc2be-5802-4a4f-a822-9e62929c2c37"
   },
   "outputs": [
    {
     "data": {
      "text/plain": [
       "array([[[2.71828183e+00, 7.38905610e+00, 2.00855369e+01],\n",
       "        [5.45981500e+01, 1.48413159e+02, 4.03428793e+02]],\n",
       "\n",
       "       [[1.09663316e+03, 2.98095799e+03, 8.10308393e+03],\n",
       "        [2.20264658e+04, 5.98741417e+04, 1.62754791e+05]]])"
      ]
     },
     "execution_count": 34,
     "metadata": {},
     "output_type": "execute_result"
    }
   ],
   "source": [
    "np.exp(arr3d)"
   ]
  },
  {
   "cell_type": "markdown",
   "metadata": {
    "id": "pAc-hy_cJdUk"
   },
   "source": [
    "### Математические и статистические операции"
   ]
  },
  {
   "cell_type": "code",
   "execution_count": 35,
   "metadata": {
    "id": "Trn_Nk02JdUk",
    "outputId": "bd734981-0f72-4dbd-d9b6-947e267af798"
   },
   "outputs": [
    {
     "data": {
      "text/plain": [
       "array([[-0.20701037, -0.28822768, -0.00938251,  0.29656778],\n",
       "       [ 0.84409381, -1.41967387, -0.70615542, -0.34075313],\n",
       "       [-0.58775617, -0.41988766, -1.52022391, -0.02118706],\n",
       "       [ 0.32499687,  0.34504735,  1.04123563,  0.86058462],\n",
       "       [-2.67727837,  0.3371122 ,  0.68495864,  0.34829086]])"
      ]
     },
     "execution_count": 35,
     "metadata": {},
     "output_type": "execute_result"
    }
   ],
   "source": [
    "arr = np.random.randn(5, 4) \n",
    "arr"
   ]
  },
  {
   "cell_type": "code",
   "execution_count": 36,
   "metadata": {
    "id": "SLwqHkpmJdUk",
    "outputId": "044efb05-e53a-459d-f13b-a03a1622a61d"
   },
   "outputs": [
    {
     "data": {
      "text/plain": [
       "(5, 4)"
      ]
     },
     "execution_count": 36,
     "metadata": {},
     "output_type": "execute_result"
    }
   ],
   "source": [
    "arr.shape"
   ]
  },
  {
   "cell_type": "code",
   "execution_count": 37,
   "metadata": {
    "id": "DZqrSZPbJdUk",
    "outputId": "eee08145-f66a-4109-8bc0-7ea48e682950"
   },
   "outputs": [
    {
     "data": {
      "text/plain": [
       "-0.15573241927191822"
      ]
     },
     "execution_count": 37,
     "metadata": {},
     "output_type": "execute_result"
    }
   ],
   "source": [
    "arr.mean()"
   ]
  },
  {
   "cell_type": "code",
   "execution_count": 38,
   "metadata": {
    "id": "XxEKYtIEJdUk",
    "outputId": "46e099cf-89ce-444f-801e-cac69c73cd37"
   },
   "outputs": [
    {
     "data": {
      "text/plain": [
       "-3.114648385438364"
      ]
     },
     "execution_count": 38,
     "metadata": {},
     "output_type": "execute_result"
    }
   ],
   "source": [
    "arr.sum()"
   ]
  },
  {
   "cell_type": "code",
   "execution_count": 39,
   "metadata": {
    "id": "pQygsf93JdUl",
    "outputId": "556dbdae-a8ef-430e-8900-6f93a70a3a4e"
   },
   "outputs": [
    {
     "data": {
      "text/plain": [
       "1.0412356342448525"
      ]
     },
     "execution_count": 39,
     "metadata": {},
     "output_type": "execute_result"
    }
   ],
   "source": [
    "np.max(arr)"
   ]
  },
  {
   "cell_type": "code",
   "execution_count": 40,
   "metadata": {
    "id": "dRVvqW-2JdUl",
    "outputId": "8d7cbd23-6841-4c12-a642-4a4ecd724a32"
   },
   "outputs": [
    {
     "data": {
      "text/plain": [
       "array([-2.30295423, -1.44562967, -0.50956756,  1.14350307])"
      ]
     },
     "execution_count": 40,
     "metadata": {},
     "output_type": "execute_result"
    }
   ],
   "source": [
    "arr.sum(axis = 0)"
   ]
  },
  {
   "cell_type": "code",
   "execution_count": 41,
   "metadata": {
    "id": "OIdZXdsIJdUl"
   },
   "outputs": [],
   "source": [
    "arr = np.array([[0, 1, 2], [3, 4, 5], [6, 7, 8]]) "
   ]
  },
  {
   "cell_type": "code",
   "execution_count": 42,
   "metadata": {
    "id": "R9uOLR-QJdUl",
    "outputId": "02b67e19-a477-42e0-d5ce-e620ed053d8a"
   },
   "outputs": [
    {
     "data": {
      "text/plain": [
       "array([[ 0,  1,  2],\n",
       "       [ 3,  5,  7],\n",
       "       [ 9, 12, 15]])"
      ]
     },
     "execution_count": 42,
     "metadata": {},
     "output_type": "execute_result"
    }
   ],
   "source": [
    "arr.cumsum(axis = 0)"
   ]
  },
  {
   "cell_type": "code",
   "execution_count": 43,
   "metadata": {
    "id": "NVFaJtEKJdUl",
    "outputId": "15cb2a75-ccb7-4ed9-a542-cfb4c5c24a6c"
   },
   "outputs": [
    {
     "data": {
      "text/plain": [
       "array([[ 0,  1,  2],\n",
       "       [ 0,  4, 10],\n",
       "       [ 0, 28, 80]])"
      ]
     },
     "execution_count": 43,
     "metadata": {},
     "output_type": "execute_result"
    }
   ],
   "source": [
    "arr.cumprod(axis = 0)"
   ]
  },
  {
   "cell_type": "markdown",
   "metadata": {
    "id": "HRRujKdbJdUl"
   },
   "source": [
    "### Сортировка"
   ]
  },
  {
   "cell_type": "code",
   "execution_count": 44,
   "metadata": {
    "id": "Jw_nBngkJdUm",
    "outputId": "5f714dd6-0852-4fb1-bd12-9c33e3e1bb60"
   },
   "outputs": [
    {
     "data": {
      "text/plain": [
       "array([-0.35287728, -2.12653352, -1.0045183 , -0.02924902, -1.37607627,\n",
       "       -0.30193783,  0.15221404,  0.38525639])"
      ]
     },
     "execution_count": 44,
     "metadata": {},
     "output_type": "execute_result"
    }
   ],
   "source": [
    "arr = np.random.randn(8) \n",
    "arr"
   ]
  },
  {
   "cell_type": "code",
   "execution_count": 45,
   "metadata": {
    "id": "eSG8XDdOJdUm",
    "outputId": "779a860b-24b1-4293-f6a9-2e51f5f4fdbf"
   },
   "outputs": [
    {
     "data": {
      "text/plain": [
       "array([-2.12653352, -1.37607627, -1.0045183 , -0.35287728, -0.30193783,\n",
       "       -0.02924902,  0.15221404,  0.38525639])"
      ]
     },
     "execution_count": 45,
     "metadata": {},
     "output_type": "execute_result"
    }
   ],
   "source": [
    "arr.sort()\n",
    "arr"
   ]
  },
  {
   "cell_type": "code",
   "execution_count": 46,
   "metadata": {
    "id": "HFnRFq_uJdUm",
    "outputId": "656e3e0e-0d8e-4810-e1d4-2f5acaaa0bc6"
   },
   "outputs": [
    {
     "data": {
      "text/plain": [
       "array([[-0.04255956,  1.03863664, -0.24585359],\n",
       "       [ 1.07682383, -0.20343598, -0.74254274],\n",
       "       [-1.32776691, -0.31763347,  0.42608314],\n",
       "       [-1.42840349,  0.33377431, -0.08587779],\n",
       "       [-0.84847874,  0.3183479 ,  0.00189834]])"
      ]
     },
     "execution_count": 46,
     "metadata": {},
     "output_type": "execute_result"
    }
   ],
   "source": [
    "arr = np.random.randn(5,3) \n",
    "arr"
   ]
  },
  {
   "cell_type": "code",
   "execution_count": 47,
   "metadata": {
    "id": "yDDmKZqaJdUm",
    "outputId": "bbc14316-d45e-4a26-c5e9-eeb93ca19905"
   },
   "outputs": [
    {
     "data": {
      "text/plain": [
       "array([[-1.42840349, -0.31763347, -0.74254274],\n",
       "       [-1.32776691, -0.20343598, -0.24585359],\n",
       "       [-0.84847874,  0.3183479 , -0.08587779],\n",
       "       [-0.04255956,  0.33377431,  0.00189834],\n",
       "       [ 1.07682383,  1.03863664,  0.42608314]])"
      ]
     },
     "execution_count": 47,
     "metadata": {},
     "output_type": "execute_result"
    }
   ],
   "source": [
    "arr.sort(0)\n",
    "arr"
   ]
  },
  {
   "cell_type": "code",
   "execution_count": 48,
   "metadata": {
    "id": "BASWAGLYJdUm",
    "outputId": "ce951e65-3119-4c59-cbd0-684551d041c6"
   },
   "outputs": [
    {
     "data": {
      "text/plain": [
       "array([[-1.42840349, -0.74254274, -0.31763347],\n",
       "       [-1.32776691, -0.24585359, -0.20343598],\n",
       "       [-0.84847874, -0.08587779,  0.3183479 ],\n",
       "       [-0.04255956,  0.00189834,  0.33377431],\n",
       "       [ 0.42608314,  1.03863664,  1.07682383]])"
      ]
     },
     "execution_count": 48,
     "metadata": {},
     "output_type": "execute_result"
    }
   ],
   "source": [
    "arr.sort(1) \n",
    "arr"
   ]
  },
  {
   "cell_type": "code",
   "execution_count": 49,
   "metadata": {
    "id": "16vvzN3lJdUm",
    "outputId": "39c1dbd3-fc39-430b-97d2-d3075a30775b"
   },
   "outputs": [
    {
     "data": {
      "text/plain": [
       "array([[-1.08376791, -0.5835392 ,  0.27414281],\n",
       "       [-0.23165941, -0.0580871 ,  0.98276296],\n",
       "       [ 0.39892019,  1.05644581,  1.43463317],\n",
       "       [-0.10420571,  0.46645636,  1.02652177],\n",
       "       [-0.86194719, -0.20468241,  0.81457926]])"
      ]
     },
     "execution_count": 49,
     "metadata": {},
     "output_type": "execute_result"
    }
   ],
   "source": [
    "#возвращает копию\n",
    "arr = np.random.randn(5,3) \n",
    "np.sort(arr)"
   ]
  },
  {
   "cell_type": "code",
   "execution_count": 50,
   "metadata": {
    "id": "mXZk9pFPJdUn",
    "outputId": "a167edd1-45fe-4270-e16b-f49f493ea7fd"
   },
   "outputs": [
    {
     "data": {
      "text/plain": [
       "array([[-1.08376791, -0.5835392 ,  0.27414281],\n",
       "       [-0.23165941, -0.0580871 ,  0.98276296],\n",
       "       [ 0.39892019,  1.05644581,  1.43463317],\n",
       "       [-0.10420571,  0.46645636,  1.02652177],\n",
       "       [-0.86194719, -0.20468241,  0.81457926]])"
      ]
     },
     "execution_count": 50,
     "metadata": {},
     "output_type": "execute_result"
    }
   ],
   "source": [
    "arr = np.sort(arr)\n",
    "arr"
   ]
  },
  {
   "cell_type": "markdown",
   "metadata": {
    "id": "AzKNtXChJdUn"
   },
   "source": [
    "### Хранение массивов на диске в двоичном формате "
   ]
  },
  {
   "cell_type": "markdown",
   "metadata": {
    "id": "aNEy9NaVJdUn"
   },
   "source": [
    "*np.save* и *np.load* - основные функции для эффективного сохранения и загрузки данных с диска. По умолчанию массивы хранятся в несжатом двоичном формате в файле с расширением *.npy*. "
   ]
  },
  {
   "cell_type": "code",
   "execution_count": 51,
   "metadata": {
    "id": "xaHhP8f7JdUn"
   },
   "outputs": [],
   "source": [
    "arr = np.arange(10)"
   ]
  },
  {
   "cell_type": "code",
   "execution_count": 52,
   "metadata": {
    "id": "6wK85SgQJdUn"
   },
   "outputs": [],
   "source": [
    "np.save('some_array', arr) "
   ]
  },
  {
   "cell_type": "code",
   "execution_count": 53,
   "metadata": {
    "id": "TeWAt9x8JdUn",
    "outputId": "764639bb-ddfa-45a0-f24a-8c162ad46f0f"
   },
   "outputs": [
    {
     "data": {
      "text/plain": [
       "array([0, 1, 2, 3, 4, 5, 6, 7, 8, 9])"
      ]
     },
     "execution_count": 53,
     "metadata": {},
     "output_type": "execute_result"
    }
   ],
   "source": [
    "np.load( 'some_array.npy') "
   ]
  },
  {
   "cell_type": "markdown",
   "metadata": {
    "id": "63HnjTZnJdUn"
   },
   "source": [
    "Можно сохранить несколько массивов в ziр-архиве с помощью функции np. savez, которой массивы передаются в виде именованных аргументов: "
   ]
  },
  {
   "cell_type": "code",
   "execution_count": 54,
   "metadata": {
    "id": "EgvIMMjHJdUo"
   },
   "outputs": [],
   "source": [
    "np.savez('array_archive.npz', a=arr, b=arr) "
   ]
  },
  {
   "cell_type": "code",
   "execution_count": 55,
   "metadata": {
    "id": "0JWpFB5OJdUo"
   },
   "outputs": [],
   "source": [
    "arch = np.load('array_archive.npz') "
   ]
  },
  {
   "cell_type": "code",
   "execution_count": 56,
   "metadata": {
    "id": "3RUVOGMIJdUo",
    "outputId": "3c0e0196-f1c4-48c5-f159-6f937d99465e"
   },
   "outputs": [
    {
     "data": {
      "text/plain": [
       "array([0, 1, 2, 3, 4, 5, 6, 7, 8, 9])"
      ]
     },
     "execution_count": 56,
     "metadata": {},
     "output_type": "execute_result"
    }
   ],
   "source": [
    "arch['b']"
   ]
  }
 ],
 "metadata": {
  "colab": {
   "provenance": []
  },
  "kernelspec": {
   "display_name": "Python 3",
   "language": "python",
   "name": "python3"
  },
  "language_info": {
   "codemirror_mode": {
    "name": "ipython",
    "version": 3
   },
   "file_extension": ".py",
   "mimetype": "text/x-python",
   "name": "python",
   "nbconvert_exporter": "python",
   "pygments_lexer": "ipython3",
   "version": "3.11.6"
  }
 },
 "nbformat": 4,
 "nbformat_minor": 1
}
