{
 "cells": [
  {
   "cell_type": "markdown",
   "metadata": {},
   "source": [
    "# Введение в анализ данных"
   ]
  },
  {
   "cell_type": "markdown",
   "metadata": {},
   "source": [
    "## Векторизированные вычисления с помощью NumPy - Модуль 2-1  Модуль 2. Библиотека Pandas и Numpy / Введение в анализ данных-19\n",
    "Создайте вектор NumPy, который содержит значения от 10 до 500. Возведите все значения вектора в квадрат и вычтите из каждого элемента вектора число 234. Чему равна сумма всех элементов получившегося вектора?"
   ]
  },
  {
   "cell_type": "code",
   "execution_count": 91,
   "metadata": {},
   "outputs": [],
   "source": [
    "import numpy as np\n",
    "\n",
    "\n",
    "arr = np.arange(start=10, stop=501)\n",
    "arr = np.power(arr, 2) # arr *= arr\n",
    "arr -= 234\n",
    "res = np.sum(arr)"
   ]
  },
  {
   "cell_type": "code",
   "execution_count": 92,
   "metadata": {},
   "outputs": [
    {
     "data": {
      "text/plain": [
       "array([  -134,   -113,    -90,    -65,    -38,     -9,     22,     55,\n",
       "           90,    127,    166,    207,    250,    295,    342,    391,\n",
       "          442,    495,    550,    607,    666,    727,    790,    855,\n",
       "          922,    991,   1062,   1135,   1210,   1287,   1366,   1447,\n",
       "         1530,   1615,   1702,   1791,   1882,   1975,   2070,   2167,\n",
       "         2266,   2367,   2470,   2575,   2682,   2791,   2902,   3015,\n",
       "         3130,   3247,   3366,   3487,   3610,   3735,   3862,   3991,\n",
       "         4122,   4255,   4390,   4527,   4666,   4807,   4950,   5095,\n",
       "         5242,   5391,   5542,   5695,   5850,   6007,   6166,   6327,\n",
       "         6490,   6655,   6822,   6991,   7162,   7335,   7510,   7687,\n",
       "         7866,   8047,   8230,   8415,   8602,   8791,   8982,   9175,\n",
       "         9370,   9567,   9766,   9967,  10170,  10375,  10582,  10791,\n",
       "        11002,  11215,  11430,  11647,  11866,  12087,  12310,  12535,\n",
       "        12762,  12991,  13222,  13455,  13690,  13927,  14166,  14407,\n",
       "        14650,  14895,  15142,  15391,  15642,  15895,  16150,  16407,\n",
       "        16666,  16927,  17190,  17455,  17722,  17991,  18262,  18535,\n",
       "        18810,  19087,  19366,  19647,  19930,  20215,  20502,  20791,\n",
       "        21082,  21375,  21670,  21967,  22266,  22567,  22870,  23175,\n",
       "        23482,  23791,  24102,  24415,  24730,  25047,  25366,  25687,\n",
       "        26010,  26335,  26662,  26991,  27322,  27655,  27990,  28327,\n",
       "        28666,  29007,  29350,  29695,  30042,  30391,  30742,  31095,\n",
       "        31450,  31807,  32166,  32527,  32890,  33255,  33622,  33991,\n",
       "        34362,  34735,  35110,  35487,  35866,  36247,  36630,  37015,\n",
       "        37402,  37791,  38182,  38575,  38970,  39367,  39766,  40167,\n",
       "        40570,  40975,  41382,  41791,  42202,  42615,  43030,  43447,\n",
       "        43866,  44287,  44710,  45135,  45562,  45991,  46422,  46855,\n",
       "        47290,  47727,  48166,  48607,  49050,  49495,  49942,  50391,\n",
       "        50842,  51295,  51750,  52207,  52666,  53127,  53590,  54055,\n",
       "        54522,  54991,  55462,  55935,  56410,  56887,  57366,  57847,\n",
       "        58330,  58815,  59302,  59791,  60282,  60775,  61270,  61767,\n",
       "        62266,  62767,  63270,  63775,  64282,  64791,  65302,  65815,\n",
       "        66330,  66847,  67366,  67887,  68410,  68935,  69462,  69991,\n",
       "        70522,  71055,  71590,  72127,  72666,  73207,  73750,  74295,\n",
       "        74842,  75391,  75942,  76495,  77050,  77607,  78166,  78727,\n",
       "        79290,  79855,  80422,  80991,  81562,  82135,  82710,  83287,\n",
       "        83866,  84447,  85030,  85615,  86202,  86791,  87382,  87975,\n",
       "        88570,  89167,  89766,  90367,  90970,  91575,  92182,  92791,\n",
       "        93402,  94015,  94630,  95247,  95866,  96487,  97110,  97735,\n",
       "        98362,  98991,  99622, 100255, 100890, 101527, 102166, 102807,\n",
       "       103450, 104095, 104742, 105391, 106042, 106695, 107350, 108007,\n",
       "       108666, 109327, 109990, 110655, 111322, 111991, 112662, 113335,\n",
       "       114010, 114687, 115366, 116047, 116730, 117415, 118102, 118791,\n",
       "       119482, 120175, 120870, 121567, 122266, 122967, 123670, 124375,\n",
       "       125082, 125791, 126502, 127215, 127930, 128647, 129366, 130087,\n",
       "       130810, 131535, 132262, 132991, 133722, 134455, 135190, 135927,\n",
       "       136666, 137407, 138150, 138895, 139642, 140391, 141142, 141895,\n",
       "       142650, 143407, 144166, 144927, 145690, 146455, 147222, 147991,\n",
       "       148762, 149535, 150310, 151087, 151866, 152647, 153430, 154215,\n",
       "       155002, 155791, 156582, 157375, 158170, 158967, 159766, 160567,\n",
       "       161370, 162175, 162982, 163791, 164602, 165415, 166230, 167047,\n",
       "       167866, 168687, 169510, 170335, 171162, 171991, 172822, 173655,\n",
       "       174490, 175327, 176166, 177007, 177850, 178695, 179542, 180391,\n",
       "       181242, 182095, 182950, 183807, 184666, 185527, 186390, 187255,\n",
       "       188122, 188991, 189862, 190735, 191610, 192487, 193366, 194247,\n",
       "       195130, 196015, 196902, 197791, 198682, 199575, 200470, 201367,\n",
       "       202266, 203167, 204070, 204975, 205882, 206791, 207702, 208615,\n",
       "       209530, 210447, 211366, 212287, 213210, 214135, 215062, 215991,\n",
       "       216922, 217855, 218790, 219727, 220666, 221607, 222550, 223495,\n",
       "       224442, 225391, 226342, 227295, 228250, 229207, 230166, 231127,\n",
       "       232090, 233055, 234022, 234991, 235962, 236935, 237910, 238887,\n",
       "       239866, 240847, 241830, 242815, 243802, 244791, 245782, 246775,\n",
       "       247770, 248767, 249766])"
      ]
     },
     "execution_count": 92,
     "metadata": {},
     "output_type": "execute_result"
    }
   ],
   "source": [
    "arr"
   ]
  },
  {
   "cell_type": "code",
   "execution_count": 93,
   "metadata": {},
   "outputs": [
    {
     "data": {
      "text/plain": [
       "41676571"
      ]
     },
     "execution_count": 93,
     "metadata": {},
     "output_type": "execute_result"
    }
   ],
   "source": [
    "res"
   ]
  },
  {
   "cell_type": "markdown",
   "metadata": {},
   "source": [
    "## Series и DataFrame, Объединение таблиц - Модуль 2-2 Модуль 2. Библиотека Pandas и Numpy / Введение в анализ данных-19\n",
    "## файл содержит таблицу, которая состоит из следующих колонок:\n",
    "    - data (дата);\n",
    "    - vendor_id (уникальный идентификатор ресторана);\n",
    "    - chain_id (уникальный идентификатор сети в которую входит ресторан);\n",
    "    - city_id (идентификатор города);\n",
    "    - spec (специализация ресторана);\n",
    "    - succsseful_orders (количество успешных заказов);\n",
    "    - fail_orders (количество неудачных заказов).\n",
    "\n",
    "## Вопросы\n",
    "1. Сколько уникальных городов представленно в данном датафрейме?\n",
    "2. Сколько ресторанов в таблице специализируется на рыбе?\n",
    "3. Сколько колонок в датафрейме имеют тип данных float64?\n",
    "4. Сколько дней у ресторана с идентификатором 40065 было менее 20 успешных заказов?"
   ]
  },
  {
   "cell_type": "code",
   "execution_count": 94,
   "metadata": {},
   "outputs": [],
   "source": [
    "import pandas as pd"
   ]
  },
  {
   "cell_type": "code",
   "execution_count": 95,
   "metadata": {},
   "outputs": [],
   "source": [
    "df = pd.read_csv('/Users/igorvoinov/algo/pro2_m4y1/orders.csv')"
   ]
  },
  {
   "cell_type": "code",
   "execution_count": 96,
   "metadata": {},
   "outputs": [
    {
     "name": "stdout",
     "output_type": "stream",
     "text": [
      "<class 'pandas.core.frame.DataFrame'>\n",
      "RangeIndex: 96118 entries, 0 to 96117\n",
      "Data columns (total 7 columns):\n",
      " #   Column             Non-Null Count  Dtype  \n",
      "---  ------             --------------  -----  \n",
      " 0   date               96118 non-null  object \n",
      " 1   vendor_id          96118 non-null  int64  \n",
      " 2   chain_id           96118 non-null  int64  \n",
      " 3   city_id            96118 non-null  int64  \n",
      " 4   spec               95733 non-null  object \n",
      " 5   successful_orders  96118 non-null  float64\n",
      " 6   fail_orders        96118 non-null  float64\n",
      "dtypes: float64(2), int64(3), object(2)\n",
      "memory usage: 5.1+ MB\n"
     ]
    }
   ],
   "source": [
    "df.info()"
   ]
  },
  {
   "cell_type": "code",
   "execution_count": 97,
   "metadata": {},
   "outputs": [
    {
     "data": {
      "text/html": [
       "<div>\n",
       "<style scoped>\n",
       "    .dataframe tbody tr th:only-of-type {\n",
       "        vertical-align: middle;\n",
       "    }\n",
       "\n",
       "    .dataframe tbody tr th {\n",
       "        vertical-align: top;\n",
       "    }\n",
       "\n",
       "    .dataframe thead th {\n",
       "        text-align: right;\n",
       "    }\n",
       "</style>\n",
       "<table border=\"1\" class=\"dataframe\">\n",
       "  <thead>\n",
       "    <tr style=\"text-align: right;\">\n",
       "      <th></th>\n",
       "      <th>date</th>\n",
       "      <th>vendor_id</th>\n",
       "      <th>chain_id</th>\n",
       "      <th>city_id</th>\n",
       "      <th>spec</th>\n",
       "      <th>successful_orders</th>\n",
       "      <th>fail_orders</th>\n",
       "    </tr>\n",
       "  </thead>\n",
       "  <tbody>\n",
       "    <tr>\n",
       "      <th>0</th>\n",
       "      <td>2019-07-02</td>\n",
       "      <td>40065</td>\n",
       "      <td>7501</td>\n",
       "      <td>23</td>\n",
       "      <td>Суши</td>\n",
       "      <td>54.0</td>\n",
       "      <td>1.0</td>\n",
       "    </tr>\n",
       "    <tr>\n",
       "      <th>1</th>\n",
       "      <td>2019-08-27</td>\n",
       "      <td>48058</td>\n",
       "      <td>33226</td>\n",
       "      <td>23</td>\n",
       "      <td>Шаурма</td>\n",
       "      <td>0.0</td>\n",
       "      <td>0.0</td>\n",
       "    </tr>\n",
       "    <tr>\n",
       "      <th>2</th>\n",
       "      <td>2019-09-25</td>\n",
       "      <td>35430</td>\n",
       "      <td>26220</td>\n",
       "      <td>25</td>\n",
       "      <td>Пицца</td>\n",
       "      <td>2.0</td>\n",
       "      <td>0.0</td>\n",
       "    </tr>\n",
       "    <tr>\n",
       "      <th>3</th>\n",
       "      <td>2019-09-21</td>\n",
       "      <td>56553</td>\n",
       "      <td>38601</td>\n",
       "      <td>23</td>\n",
       "      <td>Шашлыки</td>\n",
       "      <td>1.0</td>\n",
       "      <td>0.0</td>\n",
       "    </tr>\n",
       "    <tr>\n",
       "      <th>4</th>\n",
       "      <td>2019-09-21</td>\n",
       "      <td>43919</td>\n",
       "      <td>30984</td>\n",
       "      <td>25</td>\n",
       "      <td>Суши</td>\n",
       "      <td>6.0</td>\n",
       "      <td>0.0</td>\n",
       "    </tr>\n",
       "  </tbody>\n",
       "</table>\n",
       "</div>"
      ],
      "text/plain": [
       "         date  vendor_id  chain_id  city_id     spec  successful_orders  \\\n",
       "0  2019-07-02      40065      7501       23     Суши               54.0   \n",
       "1  2019-08-27      48058     33226       23   Шаурма                0.0   \n",
       "2  2019-09-25      35430     26220       25    Пицца                2.0   \n",
       "3  2019-09-21      56553     38601       23  Шашлыки                1.0   \n",
       "4  2019-09-21      43919     30984       25     Суши                6.0   \n",
       "\n",
       "   fail_orders  \n",
       "0          1.0  \n",
       "1          0.0  \n",
       "2          0.0  \n",
       "3          0.0  \n",
       "4          0.0  "
      ]
     },
     "execution_count": 97,
     "metadata": {},
     "output_type": "execute_result"
    }
   ],
   "source": [
    "df.head()"
   ]
  },
  {
   "cell_type": "code",
   "execution_count": 98,
   "metadata": {},
   "outputs": [
    {
     "data": {
      "text/plain": [
       "4"
      ]
     },
     "execution_count": 98,
     "metadata": {},
     "output_type": "execute_result"
    }
   ],
   "source": [
    "\"\"\"\n",
    "Где df - это ваш датафрейм, а 'город' - это название столбца с городами в вашем датафрейме. Метод nunique() \n",
    "возвращает количество уникальных значений в указанном столбце. Печатая num_unique_cities, вы увидите количество \n",
    "уникальных городов в датафрейме.\n",
    "\"\"\"\n",
    "# len(set(df['city_id']))\n",
    "df['city_id'].nunique()"
   ]
  },
  {
   "cell_type": "code",
   "execution_count": 99,
   "metadata": {},
   "outputs": [
    {
     "data": {
      "text/plain": [
       "18"
      ]
     },
     "execution_count": 99,
     "metadata": {},
     "output_type": "execute_result"
    }
   ],
   "source": [
    "df[df['spec'] == 'Рыба']['vendor_id'].nunique()"
   ]
  },
  {
   "cell_type": "code",
   "execution_count": 100,
   "metadata": {},
   "outputs": [
    {
     "data": {
      "text/plain": [
       "2"
      ]
     },
     "execution_count": 100,
     "metadata": {},
     "output_type": "execute_result"
    }
   ],
   "source": [
    "# df.select_dtypes(include=['float64']).shape[1]\n",
    "# df.shape[1]\n",
    "# df.dtypes[df.dtypes == 'float64']\n",
    "df.dtypes[df.dtypes == 'float64'].shape[0]"
   ]
  },
  {
   "cell_type": "code",
   "execution_count": 101,
   "metadata": {},
   "outputs": [
    {
     "name": "stdout",
     "output_type": "stream",
     "text": [
      "45\n"
     ]
    }
   ],
   "source": [
    "restaurant_id = 40065\n",
    "threshold = 20\n",
    "\n",
    "filtered_df = df[df['vendor_id'] == restaurant_id]\n",
    "days_below_threshold = (filtered_df['successful_orders'] < threshold).sum()\n",
    "print(days_below_threshold)"
   ]
  },
  {
   "cell_type": "markdown",
   "metadata": {},
   "source": [
    "## Практика и Q&A-сессия с экспертом VK по курсу \"Введение в анализ данных\" после 3 модуля\n",
    "\n",
    "## Вопросы:\n",
    "- выведите максимальный размер пополнения в долларах начиная с 8 февраля;\n",
    "- выведите средний размер пополнения за февраль подневно, в разбивке по валютам (с округлением до целого числа);\n",
    "- подсчитайте долю клиентов, у которых были пополнения в нескольких валютах (ответ округлите до десятых процента);\n",
    "- по каждому клиенту вывести дату первого пополнения, валюту, сумму в рублях (ответом выведите общую сумму в рублях по всем клиентам);\n",
    "- подсчитайте по каждому клиенту среднюю разницу в днях между его пополнениями, выведите медианное значение по всем клиентам."
   ]
  },
  {
   "cell_type": "code",
   "execution_count": 102,
   "metadata": {},
   "outputs": [],
   "source": [
    "import pandas as pd\n",
    "import numpy as np"
   ]
  },
  {
   "cell_type": "code",
   "execution_count": 103,
   "metadata": {},
   "outputs": [],
   "source": [
    "df1 = pd.read_excel('./modules1_3/table1.xlsx')\n",
    "df2 = pd.read_excel('./modules1_3/table2.xlsx')"
   ]
  },
  {
   "cell_type": "code",
   "execution_count": 104,
   "metadata": {},
   "outputs": [
    {
     "data": {
      "text/html": [
       "<div>\n",
       "<style scoped>\n",
       "    .dataframe tbody tr th:only-of-type {\n",
       "        vertical-align: middle;\n",
       "    }\n",
       "\n",
       "    .dataframe tbody tr th {\n",
       "        vertical-align: top;\n",
       "    }\n",
       "\n",
       "    .dataframe thead th {\n",
       "        text-align: right;\n",
       "    }\n",
       "</style>\n",
       "<table border=\"1\" class=\"dataframe\">\n",
       "  <thead>\n",
       "    <tr style=\"text-align: right;\">\n",
       "      <th></th>\n",
       "      <th>operation_id</th>\n",
       "      <th>user_id</th>\n",
       "      <th>volume</th>\n",
       "      <th>currency</th>\n",
       "      <th>operation_date</th>\n",
       "    </tr>\n",
       "  </thead>\n",
       "  <tbody>\n",
       "    <tr>\n",
       "      <th>0</th>\n",
       "      <td>6935122</td>\n",
       "      <td>29282488</td>\n",
       "      <td>25000.0</td>\n",
       "      <td>RUR</td>\n",
       "      <td>2023-02-07 11:17:28</td>\n",
       "    </tr>\n",
       "    <tr>\n",
       "      <th>1</th>\n",
       "      <td>5201349</td>\n",
       "      <td>82189896</td>\n",
       "      <td>600000.0</td>\n",
       "      <td>RUR</td>\n",
       "      <td>2023-02-06 14:39:08</td>\n",
       "    </tr>\n",
       "    <tr>\n",
       "      <th>2</th>\n",
       "      <td>6935148</td>\n",
       "      <td>9959035</td>\n",
       "      <td>51596.0</td>\n",
       "      <td>USD</td>\n",
       "      <td>2023-02-08 16:07:21</td>\n",
       "    </tr>\n",
       "    <tr>\n",
       "      <th>3</th>\n",
       "      <td>1733794</td>\n",
       "      <td>30118944</td>\n",
       "      <td>2.5</td>\n",
       "      <td>USD</td>\n",
       "      <td>2023-02-06 15:22:53</td>\n",
       "    </tr>\n",
       "    <tr>\n",
       "      <th>4</th>\n",
       "      <td>3467597</td>\n",
       "      <td>26949080</td>\n",
       "      <td>346.7</td>\n",
       "      <td>RUR</td>\n",
       "      <td>2023-02-09 13:31:38</td>\n",
       "    </tr>\n",
       "    <tr>\n",
       "      <th>...</th>\n",
       "      <td>...</td>\n",
       "      <td>...</td>\n",
       "      <td>...</td>\n",
       "      <td>...</td>\n",
       "      <td>...</td>\n",
       "    </tr>\n",
       "    <tr>\n",
       "      <th>26016</th>\n",
       "      <td>1764422</td>\n",
       "      <td>28342244</td>\n",
       "      <td>2666.7</td>\n",
       "      <td>RUR</td>\n",
       "      <td>2023-02-10 23:23:23</td>\n",
       "    </tr>\n",
       "    <tr>\n",
       "      <th>26017</th>\n",
       "      <td>2646644</td>\n",
       "      <td>14987932</td>\n",
       "      <td>6000.0</td>\n",
       "      <td>USD</td>\n",
       "      <td>2023-02-07 15:31:19</td>\n",
       "    </tr>\n",
       "    <tr>\n",
       "      <th>26018</th>\n",
       "      <td>3528874</td>\n",
       "      <td>10041206</td>\n",
       "      <td>75.0</td>\n",
       "      <td>RUR</td>\n",
       "      <td>2023-02-09 15:36:53</td>\n",
       "    </tr>\n",
       "    <tr>\n",
       "      <th>26019</th>\n",
       "      <td>882225</td>\n",
       "      <td>30761181</td>\n",
       "      <td>200000.0</td>\n",
       "      <td>RUR</td>\n",
       "      <td>2023-02-08 17:24:21</td>\n",
       "    </tr>\n",
       "    <tr>\n",
       "      <th>26020</th>\n",
       "      <td>4705291</td>\n",
       "      <td>5499669</td>\n",
       "      <td>200.0</td>\n",
       "      <td>RUR</td>\n",
       "      <td>2023-02-06 10:48:22</td>\n",
       "    </tr>\n",
       "  </tbody>\n",
       "</table>\n",
       "<p>26021 rows × 5 columns</p>\n",
       "</div>"
      ],
      "text/plain": [
       "       operation_id   user_id    volume currency       operation_date\n",
       "0           6935122  29282488   25000.0      RUR  2023-02-07 11:17:28\n",
       "1           5201349  82189896  600000.0      RUR  2023-02-06 14:39:08\n",
       "2           6935148   9959035   51596.0      USD  2023-02-08 16:07:21\n",
       "3           1733794  30118944       2.5      USD  2023-02-06 15:22:53\n",
       "4           3467597  26949080     346.7      RUR  2023-02-09 13:31:38\n",
       "...             ...       ...       ...      ...                  ...\n",
       "26016       1764422  28342244    2666.7      RUR  2023-02-10 23:23:23\n",
       "26017       2646644  14987932    6000.0      USD  2023-02-07 15:31:19\n",
       "26018       3528874  10041206      75.0      RUR  2023-02-09 15:36:53\n",
       "26019        882225  30761181  200000.0      RUR  2023-02-08 17:24:21\n",
       "26020       4705291   5499669     200.0      RUR  2023-02-06 10:48:22\n",
       "\n",
       "[26021 rows x 5 columns]"
      ]
     },
     "execution_count": 104,
     "metadata": {},
     "output_type": "execute_result"
    }
   ],
   "source": [
    "df1"
   ]
  },
  {
   "cell_type": "code",
   "execution_count": 105,
   "metadata": {},
   "outputs": [
    {
     "name": "stdout",
     "output_type": "stream",
     "text": [
      "<class 'pandas.core.frame.DataFrame'>\n",
      "RangeIndex: 26021 entries, 0 to 26020\n",
      "Data columns (total 5 columns):\n",
      " #   Column          Non-Null Count  Dtype  \n",
      "---  ------          --------------  -----  \n",
      " 0   operation_id    26021 non-null  int64  \n",
      " 1   user_id         26021 non-null  int64  \n",
      " 2   volume          26021 non-null  float64\n",
      " 3   currency        26021 non-null  object \n",
      " 4   operation_date  26021 non-null  object \n",
      "dtypes: float64(1), int64(2), object(2)\n",
      "memory usage: 1016.6+ KB\n"
     ]
    }
   ],
   "source": [
    "df1.info()"
   ]
  },
  {
   "cell_type": "code",
   "execution_count": 106,
   "metadata": {},
   "outputs": [
    {
     "data": {
      "text/html": [
       "<div>\n",
       "<style scoped>\n",
       "    .dataframe tbody tr th:only-of-type {\n",
       "        vertical-align: middle;\n",
       "    }\n",
       "\n",
       "    .dataframe tbody tr th {\n",
       "        vertical-align: top;\n",
       "    }\n",
       "\n",
       "    .dataframe thead th {\n",
       "        text-align: right;\n",
       "    }\n",
       "</style>\n",
       "<table border=\"1\" class=\"dataframe\">\n",
       "  <thead>\n",
       "    <tr style=\"text-align: right;\">\n",
       "      <th></th>\n",
       "      <th>rate_currency</th>\n",
       "      <th>rate_countercurrency</th>\n",
       "      <th>rate_value</th>\n",
       "      <th>rate_date</th>\n",
       "    </tr>\n",
       "  </thead>\n",
       "  <tbody>\n",
       "    <tr>\n",
       "      <th>0</th>\n",
       "      <td>CNY</td>\n",
       "      <td>RUB</td>\n",
       "      <td>4217-10-01 00:00:00</td>\n",
       "      <td>2023-02-06</td>\n",
       "    </tr>\n",
       "    <tr>\n",
       "      <th>1</th>\n",
       "      <td>EUR</td>\n",
       "      <td>RUB</td>\n",
       "      <td>76.7344</td>\n",
       "      <td>2023-02-06</td>\n",
       "    </tr>\n",
       "    <tr>\n",
       "      <th>2</th>\n",
       "      <td>GEL</td>\n",
       "      <td>RUB</td>\n",
       "      <td>26.5863</td>\n",
       "      <td>2023-02-06</td>\n",
       "    </tr>\n",
       "    <tr>\n",
       "      <th>3</th>\n",
       "      <td>USD</td>\n",
       "      <td>RUB</td>\n",
       "      <td>70.3847</td>\n",
       "      <td>2023-02-06</td>\n",
       "    </tr>\n",
       "    <tr>\n",
       "      <th>4</th>\n",
       "      <td>CNY</td>\n",
       "      <td>RUB</td>\n",
       "      <td>3815-10-01 00:00:00</td>\n",
       "      <td>2023-02-07</td>\n",
       "    </tr>\n",
       "    <tr>\n",
       "      <th>5</th>\n",
       "      <td>EUR</td>\n",
       "      <td>RUB</td>\n",
       "      <td>76.0347</td>\n",
       "      <td>2023-02-07</td>\n",
       "    </tr>\n",
       "    <tr>\n",
       "      <th>6</th>\n",
       "      <td>GEL</td>\n",
       "      <td>RUB</td>\n",
       "      <td>26.7006</td>\n",
       "      <td>2023-02-07</td>\n",
       "    </tr>\n",
       "    <tr>\n",
       "      <th>7</th>\n",
       "      <td>USD</td>\n",
       "      <td>RUB</td>\n",
       "      <td>70.5991</td>\n",
       "      <td>2023-02-07</td>\n",
       "    </tr>\n",
       "    <tr>\n",
       "      <th>8</th>\n",
       "      <td>CNY</td>\n",
       "      <td>RUB</td>\n",
       "      <td>4331-10-01 00:00:00</td>\n",
       "      <td>2023-02-08</td>\n",
       "    </tr>\n",
       "    <tr>\n",
       "      <th>9</th>\n",
       "      <td>EUR</td>\n",
       "      <td>RUB</td>\n",
       "      <td>75.9087</td>\n",
       "      <td>2023-02-08</td>\n",
       "    </tr>\n",
       "    <tr>\n",
       "      <th>10</th>\n",
       "      <td>GEL</td>\n",
       "      <td>RUB</td>\n",
       "      <td>26.8288</td>\n",
       "      <td>2023-02-08</td>\n",
       "    </tr>\n",
       "    <tr>\n",
       "      <th>11</th>\n",
       "      <td>USD</td>\n",
       "      <td>RUB</td>\n",
       "      <td>70.8924</td>\n",
       "      <td>2023-02-08</td>\n",
       "    </tr>\n",
       "    <tr>\n",
       "      <th>12</th>\n",
       "      <td>CNY</td>\n",
       "      <td>RUB</td>\n",
       "      <td>5391-10-01 00:00:00</td>\n",
       "      <td>2023-02-09</td>\n",
       "    </tr>\n",
       "    <tr>\n",
       "      <th>13</th>\n",
       "      <td>EUR</td>\n",
       "      <td>RUB</td>\n",
       "      <td>76.8344</td>\n",
       "      <td>2023-02-09</td>\n",
       "    </tr>\n",
       "    <tr>\n",
       "      <th>14</th>\n",
       "      <td>GEL</td>\n",
       "      <td>RUB</td>\n",
       "      <td>27.0518</td>\n",
       "      <td>2023-02-09</td>\n",
       "    </tr>\n",
       "    <tr>\n",
       "      <th>15</th>\n",
       "      <td>USD</td>\n",
       "      <td>RUB</td>\n",
       "      <td>71.5763</td>\n",
       "      <td>2023-02-09</td>\n",
       "    </tr>\n",
       "    <tr>\n",
       "      <th>16</th>\n",
       "      <td>CNY</td>\n",
       "      <td>RUB</td>\n",
       "      <td>7524-10-01 00:00:00</td>\n",
       "      <td>2023-02-10</td>\n",
       "    </tr>\n",
       "    <tr>\n",
       "      <th>17</th>\n",
       "      <td>EUR</td>\n",
       "      <td>RUB</td>\n",
       "      <td>78.3223</td>\n",
       "      <td>2023-02-10</td>\n",
       "    </tr>\n",
       "    <tr>\n",
       "      <th>18</th>\n",
       "      <td>GEL</td>\n",
       "      <td>RUB</td>\n",
       "      <td>27.4474</td>\n",
       "      <td>2023-02-10</td>\n",
       "    </tr>\n",
       "    <tr>\n",
       "      <th>19</th>\n",
       "      <td>USD</td>\n",
       "      <td>RUB</td>\n",
       "      <td>72.8949</td>\n",
       "      <td>2023-02-10</td>\n",
       "    </tr>\n",
       "    <tr>\n",
       "      <th>20</th>\n",
       "      <td>CNY</td>\n",
       "      <td>RUB</td>\n",
       "      <td>6916-10-01 00:00:00</td>\n",
       "      <td>2023-02-11</td>\n",
       "    </tr>\n",
       "    <tr>\n",
       "      <th>21</th>\n",
       "      <td>EUR</td>\n",
       "      <td>RUB</td>\n",
       "      <td>78.0542</td>\n",
       "      <td>2023-02-11</td>\n",
       "    </tr>\n",
       "    <tr>\n",
       "      <th>22</th>\n",
       "      <td>GEL</td>\n",
       "      <td>RUB</td>\n",
       "      <td>27.261</td>\n",
       "      <td>2023-02-11</td>\n",
       "    </tr>\n",
       "    <tr>\n",
       "      <th>23</th>\n",
       "      <td>USD</td>\n",
       "      <td>RUB</td>\n",
       "      <td>72.7923</td>\n",
       "      <td>2023-02-11</td>\n",
       "    </tr>\n",
       "    <tr>\n",
       "      <th>24</th>\n",
       "      <td>CNY</td>\n",
       "      <td>RUB</td>\n",
       "      <td>6916-10-01 00:00:00</td>\n",
       "      <td>2023-02-12</td>\n",
       "    </tr>\n",
       "    <tr>\n",
       "      <th>25</th>\n",
       "      <td>EUR</td>\n",
       "      <td>RUB</td>\n",
       "      <td>78.0542</td>\n",
       "      <td>2023-02-12</td>\n",
       "    </tr>\n",
       "    <tr>\n",
       "      <th>26</th>\n",
       "      <td>GEL</td>\n",
       "      <td>RUB</td>\n",
       "      <td>27.261</td>\n",
       "      <td>2023-02-12</td>\n",
       "    </tr>\n",
       "    <tr>\n",
       "      <th>27</th>\n",
       "      <td>USD</td>\n",
       "      <td>RUB</td>\n",
       "      <td>72.7923</td>\n",
       "      <td>2023-02-12</td>\n",
       "    </tr>\n",
       "  </tbody>\n",
       "</table>\n",
       "</div>"
      ],
      "text/plain": [
       "   rate_currency rate_countercurrency           rate_value  rate_date\n",
       "0            CNY                  RUB  4217-10-01 00:00:00 2023-02-06\n",
       "1            EUR                  RUB              76.7344 2023-02-06\n",
       "2            GEL                  RUB              26.5863 2023-02-06\n",
       "3            USD                  RUB              70.3847 2023-02-06\n",
       "4            CNY                  RUB  3815-10-01 00:00:00 2023-02-07\n",
       "5            EUR                  RUB              76.0347 2023-02-07\n",
       "6            GEL                  RUB              26.7006 2023-02-07\n",
       "7            USD                  RUB              70.5991 2023-02-07\n",
       "8            CNY                  RUB  4331-10-01 00:00:00 2023-02-08\n",
       "9            EUR                  RUB              75.9087 2023-02-08\n",
       "10           GEL                  RUB              26.8288 2023-02-08\n",
       "11           USD                  RUB              70.8924 2023-02-08\n",
       "12           CNY                  RUB  5391-10-01 00:00:00 2023-02-09\n",
       "13           EUR                  RUB              76.8344 2023-02-09\n",
       "14           GEL                  RUB              27.0518 2023-02-09\n",
       "15           USD                  RUB              71.5763 2023-02-09\n",
       "16           CNY                  RUB  7524-10-01 00:00:00 2023-02-10\n",
       "17           EUR                  RUB              78.3223 2023-02-10\n",
       "18           GEL                  RUB              27.4474 2023-02-10\n",
       "19           USD                  RUB              72.8949 2023-02-10\n",
       "20           CNY                  RUB  6916-10-01 00:00:00 2023-02-11\n",
       "21           EUR                  RUB              78.0542 2023-02-11\n",
       "22           GEL                  RUB               27.261 2023-02-11\n",
       "23           USD                  RUB              72.7923 2023-02-11\n",
       "24           CNY                  RUB  6916-10-01 00:00:00 2023-02-12\n",
       "25           EUR                  RUB              78.0542 2023-02-12\n",
       "26           GEL                  RUB               27.261 2023-02-12\n",
       "27           USD                  RUB              72.7923 2023-02-12"
      ]
     },
     "execution_count": 106,
     "metadata": {},
     "output_type": "execute_result"
    }
   ],
   "source": [
    "df2"
   ]
  },
  {
   "cell_type": "code",
   "execution_count": 107,
   "metadata": {},
   "outputs": [
    {
     "name": "stdout",
     "output_type": "stream",
     "text": [
      "<class 'pandas.core.frame.DataFrame'>\n",
      "RangeIndex: 28 entries, 0 to 27\n",
      "Data columns (total 4 columns):\n",
      " #   Column                Non-Null Count  Dtype         \n",
      "---  ------                --------------  -----         \n",
      " 0   rate_currency         28 non-null     object        \n",
      " 1   rate_countercurrency  28 non-null     object        \n",
      " 2   rate_value            28 non-null     object        \n",
      " 3   rate_date             28 non-null     datetime64[ns]\n",
      "dtypes: datetime64[ns](1), object(3)\n",
      "memory usage: 1.0+ KB\n"
     ]
    }
   ],
   "source": [
    "df2.info()"
   ]
  },
  {
   "cell_type": "code",
   "execution_count": 108,
   "metadata": {},
   "outputs": [
    {
     "name": "stdout",
     "output_type": "stream",
     "text": [
      "<class 'pandas.core.frame.DataFrame'>\n",
      "RangeIndex: 26021 entries, 0 to 26020\n",
      "Data columns (total 5 columns):\n",
      " #   Column          Non-Null Count  Dtype         \n",
      "---  ------          --------------  -----         \n",
      " 0   operation_id    26021 non-null  int64         \n",
      " 1   user_id         26021 non-null  int64         \n",
      " 2   volume          26021 non-null  float64       \n",
      " 3   currency        26021 non-null  object        \n",
      " 4   operation_date  26021 non-null  datetime64[ns]\n",
      "dtypes: datetime64[ns](1), float64(1), int64(2), object(1)\n",
      "memory usage: 1016.6+ KB\n"
     ]
    }
   ],
   "source": [
    "df1['operation_date'] = pd.to_datetime(df1['operation_date'])\n",
    "df1.info()"
   ]
  },
  {
   "cell_type": "code",
   "execution_count": 109,
   "metadata": {},
   "outputs": [
    {
     "data": {
      "text/html": [
       "<div>\n",
       "<style scoped>\n",
       "    .dataframe tbody tr th:only-of-type {\n",
       "        vertical-align: middle;\n",
       "    }\n",
       "\n",
       "    .dataframe tbody tr th {\n",
       "        vertical-align: top;\n",
       "    }\n",
       "\n",
       "    .dataframe thead th {\n",
       "        text-align: right;\n",
       "    }\n",
       "</style>\n",
       "<table border=\"1\" class=\"dataframe\">\n",
       "  <thead>\n",
       "    <tr style=\"text-align: right;\">\n",
       "      <th></th>\n",
       "      <th>operation_id</th>\n",
       "      <th>user_id</th>\n",
       "      <th>volume</th>\n",
       "      <th>currency</th>\n",
       "      <th>operation_date</th>\n",
       "      <th>operation_day</th>\n",
       "    </tr>\n",
       "  </thead>\n",
       "  <tbody>\n",
       "    <tr>\n",
       "      <th>0</th>\n",
       "      <td>6935122</td>\n",
       "      <td>29282488</td>\n",
       "      <td>25000.0</td>\n",
       "      <td>RUR</td>\n",
       "      <td>2023-02-07 11:17:28</td>\n",
       "      <td>2023-02-07</td>\n",
       "    </tr>\n",
       "    <tr>\n",
       "      <th>1</th>\n",
       "      <td>5201349</td>\n",
       "      <td>82189896</td>\n",
       "      <td>600000.0</td>\n",
       "      <td>RUR</td>\n",
       "      <td>2023-02-06 14:39:08</td>\n",
       "      <td>2023-02-06</td>\n",
       "    </tr>\n",
       "    <tr>\n",
       "      <th>2</th>\n",
       "      <td>6935148</td>\n",
       "      <td>9959035</td>\n",
       "      <td>51596.0</td>\n",
       "      <td>USD</td>\n",
       "      <td>2023-02-08 16:07:21</td>\n",
       "      <td>2023-02-08</td>\n",
       "    </tr>\n",
       "    <tr>\n",
       "      <th>3</th>\n",
       "      <td>1733794</td>\n",
       "      <td>30118944</td>\n",
       "      <td>2.5</td>\n",
       "      <td>USD</td>\n",
       "      <td>2023-02-06 15:22:53</td>\n",
       "      <td>2023-02-06</td>\n",
       "    </tr>\n",
       "    <tr>\n",
       "      <th>4</th>\n",
       "      <td>3467597</td>\n",
       "      <td>26949080</td>\n",
       "      <td>346.7</td>\n",
       "      <td>RUR</td>\n",
       "      <td>2023-02-09 13:31:38</td>\n",
       "      <td>2023-02-09</td>\n",
       "    </tr>\n",
       "    <tr>\n",
       "      <th>...</th>\n",
       "      <td>...</td>\n",
       "      <td>...</td>\n",
       "      <td>...</td>\n",
       "      <td>...</td>\n",
       "      <td>...</td>\n",
       "      <td>...</td>\n",
       "    </tr>\n",
       "    <tr>\n",
       "      <th>26016</th>\n",
       "      <td>1764422</td>\n",
       "      <td>28342244</td>\n",
       "      <td>2666.7</td>\n",
       "      <td>RUR</td>\n",
       "      <td>2023-02-10 23:23:23</td>\n",
       "      <td>2023-02-10</td>\n",
       "    </tr>\n",
       "    <tr>\n",
       "      <th>26017</th>\n",
       "      <td>2646644</td>\n",
       "      <td>14987932</td>\n",
       "      <td>6000.0</td>\n",
       "      <td>USD</td>\n",
       "      <td>2023-02-07 15:31:19</td>\n",
       "      <td>2023-02-07</td>\n",
       "    </tr>\n",
       "    <tr>\n",
       "      <th>26018</th>\n",
       "      <td>3528874</td>\n",
       "      <td>10041206</td>\n",
       "      <td>75.0</td>\n",
       "      <td>RUR</td>\n",
       "      <td>2023-02-09 15:36:53</td>\n",
       "      <td>2023-02-09</td>\n",
       "    </tr>\n",
       "    <tr>\n",
       "      <th>26019</th>\n",
       "      <td>882225</td>\n",
       "      <td>30761181</td>\n",
       "      <td>200000.0</td>\n",
       "      <td>RUR</td>\n",
       "      <td>2023-02-08 17:24:21</td>\n",
       "      <td>2023-02-08</td>\n",
       "    </tr>\n",
       "    <tr>\n",
       "      <th>26020</th>\n",
       "      <td>4705291</td>\n",
       "      <td>5499669</td>\n",
       "      <td>200.0</td>\n",
       "      <td>RUR</td>\n",
       "      <td>2023-02-06 10:48:22</td>\n",
       "      <td>2023-02-06</td>\n",
       "    </tr>\n",
       "  </tbody>\n",
       "</table>\n",
       "<p>26021 rows × 6 columns</p>\n",
       "</div>"
      ],
      "text/plain": [
       "       operation_id   user_id    volume currency      operation_date  \\\n",
       "0           6935122  29282488   25000.0      RUR 2023-02-07 11:17:28   \n",
       "1           5201349  82189896  600000.0      RUR 2023-02-06 14:39:08   \n",
       "2           6935148   9959035   51596.0      USD 2023-02-08 16:07:21   \n",
       "3           1733794  30118944       2.5      USD 2023-02-06 15:22:53   \n",
       "4           3467597  26949080     346.7      RUR 2023-02-09 13:31:38   \n",
       "...             ...       ...       ...      ...                 ...   \n",
       "26016       1764422  28342244    2666.7      RUR 2023-02-10 23:23:23   \n",
       "26017       2646644  14987932    6000.0      USD 2023-02-07 15:31:19   \n",
       "26018       3528874  10041206      75.0      RUR 2023-02-09 15:36:53   \n",
       "26019        882225  30761181  200000.0      RUR 2023-02-08 17:24:21   \n",
       "26020       4705291   5499669     200.0      RUR 2023-02-06 10:48:22   \n",
       "\n",
       "      operation_day  \n",
       "0        2023-02-07  \n",
       "1        2023-02-06  \n",
       "2        2023-02-08  \n",
       "3        2023-02-06  \n",
       "4        2023-02-09  \n",
       "...             ...  \n",
       "26016    2023-02-10  \n",
       "26017    2023-02-07  \n",
       "26018    2023-02-09  \n",
       "26019    2023-02-08  \n",
       "26020    2023-02-06  \n",
       "\n",
       "[26021 rows x 6 columns]"
      ]
     },
     "execution_count": 109,
     "metadata": {},
     "output_type": "execute_result"
    }
   ],
   "source": [
    "df1['operation_day'] = df1['operation_date'].dt.floor('d')\n",
    "df1"
   ]
  },
  {
   "cell_type": "code",
   "execution_count": 116,
   "metadata": {},
   "outputs": [
    {
     "data": {
      "text/plain": [
       "array([[<Axes: title={'center': 'operation_day'}>]], dtype=object)"
      ]
     },
     "execution_count": 116,
     "metadata": {},
     "output_type": "execute_result"
    },
    {
     "data": {
      "image/png": "[encoded data removed]",
      "text/plain": [
       "<Figure size 640x480 with 1 Axes>"
      ]
     },
     "metadata": {},
     "output_type": "display_data"
    }
   ],
   "source": [
    "df1.hist('operation_day') # ?"
   ]
  },
  {
   "cell_type": "code",
   "execution_count": 114,
   "metadata": {},
   "outputs": [],
   "source": [
    "selected_data1 = df1[df1['operation_date'] > pd.to_datetime('2023-02-08')]"
   ]
  },
  {
   "cell_type": "code",
   "execution_count": 112,
   "metadata": {},
   "outputs": [
    {
     "data": {
      "text/plain": [
       "operation_id                 14115836\n",
       "user_id                     123071804\n",
       "volume                      1800000.0\n",
       "currency                          USD\n",
       "operation_date    2023-02-11 22:52:18\n",
       "operation_day     2023-02-11 00:00:00\n",
       "dtype: object"
      ]
     },
     "execution_count": 112,
     "metadata": {},
     "output_type": "execute_result"
    }
   ],
   "source": [
    "selected_data1[selected_data1['currency'] == 'USD'].max()"
   ]
  },
  {
   "cell_type": "code",
   "execution_count": 113,
   "metadata": {},
   "outputs": [
    {
     "data": {
      "text/plain": [
       "1800000.0"
      ]
     },
     "execution_count": 113,
     "metadata": {},
     "output_type": "execute_result"
    }
   ],
   "source": [
    "# ответ на 1 задачу\n",
    "selected_data1.loc[\n",
    "    (selected_data1['operation_date'] >= pd.Timestamp(\"2023-02-08\"))\n",
    "    & (selected_data1['currency'] == \"USD\"), 'volume'].max()"
   ]
  }
 ],
 "metadata": {
  "kernelspec": {
   "display_name": "Python 3",
   "language": "python",
   "name": "python3"
  },
  "language_info": {
   "codemirror_mode": {
    "name": "ipython",
    "version": 3
   },
   "file_extension": ".py",
   "mimetype": "text/x-python",
   "name": "python",
   "nbconvert_exporter": "python",
   "pygments_lexer": "ipython3",
   "version": "3.11.6"
  }
 },
 "nbformat": 4,
 "nbformat_minor": 2
}
